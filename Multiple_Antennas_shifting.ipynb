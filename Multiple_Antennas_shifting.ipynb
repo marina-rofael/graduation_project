{
  "nbformat": 4,
  "nbformat_minor": 0,
  "metadata": {
    "colab": {
      "name": "Multiple Antennas_shifting",
      "provenance": [],
      "collapsed_sections": [],
      "include_colab_link": true
    },
    "kernelspec": {
      "display_name": "Python 3",
      "name": "python3"
    },
    "language_info": {
      "name": "python"
    }
  },
  "cells": [
    {
      "cell_type": "markdown",
      "metadata": {
        "id": "view-in-github",
        "colab_type": "text"
      },
      "source": [
        "<a href=\"https://colab.research.google.com/github/monikamikhaiel/graduation-project-/blob/main/Multiple_Antennas_shifting.ipynb\" target=\"_parent\"><img src=\"https://colab.research.google.com/assets/colab-badge.svg\" alt=\"Open In Colab\"/></a>"
      ]
    },
    {
      "cell_type": "code",
      "metadata": {
        "id": "gP53XJtFISeC"
      },
      "source": [
        "import numpy as np  # for array stuff and random\n",
        "import matplotlib.pyplot as plt  # for graphing our mean rewards over time\n",
        "from matplotlib import style  # to make pretty charts because it matters.\n",
        "import time  # using this to keep track of our saved Q-Tables.\n",
        "import cv2\n",
        "\n",
        "style.use(\"ggplot\")  # setting our style!"
      ],
      "execution_count": null,
      "outputs": []
    },
    {
      "cell_type": "code",
      "metadata": {
        "id": "9nDFjr7CKd3y",
        "colab": {
          "base_uri": "https://localhost:8080/"
        },
        "outputId": "7e35556a-8e3c-45a0-b086-37bdf2e069f9"
      },
      "source": [
        "# area\n",
        "#im = cv2.imread('/content/room.jpg')\n",
        "#width = int(im.shape[1] * 50 / 100)\n",
        "#height = int(im.shape[0] * 50 / 100)\n",
        "\n",
        "# dsize\n",
        "#dsize = (width, height)\n",
        "\n",
        "# resize image\n",
        "#output = cv2.resize(im, dsize)\n",
        "\n",
        "#print(im.shape)\n",
        "SIZE_W = 5\n",
        "SIZE_H = 5\n",
        "print(SIZE_H,SIZE_W)\n",
        "#cv2.waitKey(0)\n",
        "#cv2.destroyAllWindows()"
      ],
      "execution_count": null,
      "outputs": [
        {
          "output_type": "stream",
          "text": [
            "5 5\n"
          ],
          "name": "stdout"
        }
      ]
    },
    {
      "cell_type": "code",
      "metadata": {
        "id": "Ct1MEcAwKhYq"
      },
      "source": [
        "HM_EPISODES = 2500\n",
        "epsilon = 0.5  # randomness\n",
        "EPS_DECAY = 0.9999  # Every episode will be epsilon*EPS_DECAY\n",
        "SHOW_EVERY = 100  # how often to play through env visually.\n",
        "\n",
        "start_q_table = None  # if we have a pickled Q table, we'll put the filename of it here.\n",
        "\n",
        "LEARNING_RATE = 0.1\n",
        "DISCOUNT = 0.95\n",
        "\n",
        "ANTENNA_N = 5  # NUMBER OF ANTENNAS \n",
        "\n",
        "# the dict! Using just for colors\n",
        "d = {1: (255, 175, 0) }  # Antenna color blue\n",
        "#SNR RANGES\n",
        "snr_range={\"highSNR_max\":-50,\"highSNR_min\":-80,\n",
        "           \"mediumSNR_max\":-90,\"mediumSNR_min\":-100,\n",
        "          \"deadzone\":-120}"
      ],
      "execution_count": null,
      "outputs": []
    },
    {
      "cell_type": "code",
      "metadata": {
        "id": "hDLiiMUeKqUw"
      },
      "source": [
        "#antenna\n",
        "class antenna:\n",
        "    def __init__(self):\n",
        "        self.x = np.random.randint(0, SIZE_W)\n",
        "        self.y = np.random.randint(0, SIZE_H)\n",
        "    def __str__(self):\n",
        "        return f\"{self.x}, {self.y}\"\n",
        "    def __sub__(self, other):\n",
        "        return (self.x-other.x, self.y-other.y)\n",
        "    def action(self, choice):\n",
        "        '''\n",
        "        Gives us 4 total movement options. (0,1,2,3)\n",
        "        '''\n",
        "        if choice == 0:  #up\n",
        "            #self.move(x=0, y=1)\n",
        "            self.x=self.x\n",
        "            self.y+=1\n",
        "            self.move()\n",
        "\n",
        "        elif choice == 1:  #down\n",
        "            #self.move(x=0, y=-1)\n",
        "            self.x=self.x\n",
        "            self.y-=1\n",
        "            self.move()\n",
        "\n",
        "        elif choice == 2:  #left\n",
        "           # self.move(x=-1, y=0)\n",
        "            self.x-=1\n",
        "            self.y=self.y\n",
        "            self.move()\n",
        "\n",
        "        elif choice == 3:    #right\n",
        "            # self.move(x=1, y=0)\n",
        "            self.x+=1\n",
        "            self.y=self.y\n",
        "            self.move()\n",
        "\n",
        "#    def move(self, x=False, y=False):\n",
        "    def move(self):\n",
        "        # If no value for x, move randomly\n",
        "      #  if not x:\n",
        "      #      self.x += np.random.randint(-1, 2)\n",
        "       # elif x==0:\n",
        "      #      self.x=self.x\n",
        "      #  else:\n",
        "       #     self.x += x\n",
        "\n",
        "        # If no value for y, move randomly\n",
        "       # if not y:\n",
        "        #    self.y += np.random.randint(-1, 2)\n",
        "       # elif y==0:\n",
        "        #    self.y=self.y\n",
        "       # else:\n",
        "        #    self.y += y\n",
        "      # If we are out of bounds, fix!\n",
        "        if self.x < 0:\n",
        "            self.x = 0\n",
        "        elif self.x > SIZE_W-1:\n",
        "            self.x = SIZE_W-1\n",
        "        if self.y < 0:\n",
        "            self.y = 0\n",
        "        elif self.y > SIZE_H-1:\n",
        "            self.y = SIZE_H-1\n",
        "\n"
      ],
      "execution_count": null,
      "outputs": []
    },
    {
      "cell_type": "code",
      "metadata": {
        "id": "6E9GEGIcKwQe",
        "colab": {
          "base_uri": "https://localhost:8080/"
        },
        "outputId": "6f887d22-0fc2-43d8-fbf9-51e69a943aa5"
      },
      "source": [
        "ant = antenna()\n",
        "print(ant)\n",
        "ant.action(0) # up\n",
        "print(ant)\n",
        "ant.action(1) #down \n",
        "print(ant)\n",
        "ant.action(2) #left\n",
        "print(ant)\n",
        "ant.action(3) #right \n",
        "print(ant)\n"
      ],
      "execution_count": null,
      "outputs": [
        {
          "output_type": "stream",
          "text": [
            "1, 0\n",
            "1, 1\n",
            "1, 0\n",
            "0, 0\n",
            "1, 0\n"
          ],
          "name": "stdout"
        }
      ]
    },
    {
      "cell_type": "code",
      "metadata": {
        "id": "VUA5sED5K4om",
        "colab": {
          "base_uri": "https://localhost:8080/"
        },
        "outputId": "0a51f188-5f16-45bf-c2f9-aee8c8f96e12"
      },
      "source": [
        "x = SIZE_W # Building X\n",
        "y = SIZE_H # Building Y\n",
        "z = 4 # actions\n",
        "\n",
        "q_table = np.zeros((x, y, z))\n",
        "# q_table *= 0\n",
        "print(q_table.shape)\n"
      ],
      "execution_count": null,
      "outputs": [
        {
          "output_type": "stream",
          "text": [
            "(5, 5, 4)\n"
          ],
          "name": "stdout"
        }
      ]
    },
    {
      "cell_type": "code",
      "metadata": {
        "id": "UjlfgMCzAzex"
      },
      "source": [
        "#okomora model \n",
        "def okomora(ant,SIZE_H,SIZE_W):\n",
        "  PathLoss=[]\n",
        "  attenuation= 13 #in db function of frequency and distance \n",
        "  freq= 2.4*(10^9) # the frequency og the signal\n",
        "  c= 3*(10^8) # the speed of light\n",
        "  #hte = input(\"please enter the height of the transmitter antenna ? \")\n",
        "  #hre = input(\"please enter the height of the receiver antenna ? \")\n",
        "  hte= 20\n",
        "  hre= 2\n",
        "  G_hte = 10*np.log(int(hte) /200) \n",
        "  G_hre = 10*np.log(int(hre)/ 3)\n",
        "  G_Area =27 # (Quasi Open Area)\n",
        "  for i in range(SIZE_H):\n",
        "    for j in range(SIZE_W):\n",
        "      difference = [ant.x-i,ant.y-j]\n",
        "      if difference == [0,0]:\n",
        "        continue\n",
        "      else:\n",
        "        ## calculate the pathloss\n",
        "        distance=pow((pow(difference[0],2)+pow(difference[1],2)),0.5)\n",
        "        FPL      = 20*np.log(4*np.pi*distance*freq/c)\n",
        "        Path_Loss = FPL + attenuation - G_hte - G_hre - G_Area\n",
        "        PathLoss.append(Path_Loss)\n",
        "  return PathLoss  \n",
        "#len(okomora(ant,SIZE_H,SIZE_W))"
      ],
      "execution_count": null,
      "outputs": []
    },
    {
      "cell_type": "code",
      "metadata": {
        "id": "ZhiHQdPgBPKP"
      },
      "source": [
        "def AnglesInDegrees(ant,SIZE_H,SIZE_W):\n",
        "  theta=[]\n",
        "  for i in range(SIZE_H):\n",
        "    for j in range(SIZE_W):\n",
        "      difference = [ant.x-i,ant.y-j]\n",
        "      if difference==[0,0]: # the same position as the antenna \n",
        "        continue\n",
        "      if difference[0]==0:     # the angle itself is either 90 or 270 tan will be infinite \n",
        "          if difference[1]>0:\n",
        "            t=90\n",
        "            theta.append(90)\n",
        "          else:\n",
        "            t=270\n",
        "            theta.append(270)\n",
        "      else:\n",
        "          tantheta= difference[1]/difference[0]\n",
        "          t=np.degrees(np.arctan(tantheta))\n",
        "          if t <=0:\n",
        "            t+=360\n",
        "            theta.append(t)\n",
        "          else:\n",
        "            theta.append(t)\n",
        "  return theta\n",
        "#print(len(AnglesInDegrees(ant,SIZE_H,SIZE_W)))"
      ],
      "execution_count": null,
      "outputs": []
    },
    {
      "cell_type": "code",
      "metadata": {
        "id": "Q-YCAFATC7SQ"
      },
      "source": [
        "def measureSNR(ant,SIZE_H,SIZE_W,type=\"omnidirectionnel\"):\n",
        "  Path_Loss=okomora(ant,SIZE_H,SIZE_W)\n",
        "  Gain=[]\n",
        "  if type == \"omnidirectionnel\" :\n",
        "    Gain_pannel=7 #in db\n",
        "    for i in range(len(Path_Loss)):\n",
        "      Gain.append(Gain_pannel-Path_Loss[i])\n",
        "  elif type== \"directionnel\":\n",
        "    thetas=AnglesInDegrees(ant,SIZE_H,SIZE_W)\n",
        "    GainVsTheta={360:-20,30:-10,60:-5,90:15,120:0,150:-10,180:-20,210:-10,240:-8,270:-15,300:-8,330:-10} # values in db angle:gain\n",
        "    for i in range(len(thetas)):\n",
        "      t=thetas[i]\n",
        "      if t==0:\n",
        "       value = GainVsTheta[360]\n",
        "      elif t<=30:\n",
        "        value = GainVsTheta[30]\n",
        "      elif 30<t<=60:\n",
        "        value = GainVsTheta[60]\n",
        "      elif 60<t<=90:\n",
        "        value = GainVsTheta[90]\n",
        "      elif 90<t<=120:\n",
        "        value = GainVsTheta[120]\n",
        "      elif 120<t<=150:\n",
        "        value = GainVsTheta[150]\n",
        "      elif 150<t<=180:\n",
        "        value = GainVsTheta[180]\n",
        "      elif 180<t<=210:\n",
        "        value = GainVsTheta[210]\n",
        "      elif 210<t<=240:\n",
        "        value = GainVsTheta[240]\n",
        "      elif 240<t<=270:\n",
        "        value = GainVsTheta[270]\n",
        "      elif 270<t<=300:\n",
        "        value = GainVsTheta[300]\n",
        "      elif 300<t<=330:\n",
        "        value = GainVsTheta[330]\n",
        "      elif 330<t<=360:\n",
        "        value = GainVsTheta[360]\n",
        "      Gain.append(value-Path_Loss[i])\n",
        "  Magnitude=[]\n",
        "  for g in Gain:\n",
        "    mag=pow(10,(g/10))\n",
        "    Magnitude.append(mag)\n",
        "  return Magnitude\n",
        "#measureSNR(ant,SIZE_H,SIZE_W,type=\"omnidirectionnel\")\n"
      ],
      "execution_count": null,
      "outputs": []
    },
    {
      "cell_type": "code",
      "metadata": {
        "colab": {
          "base_uri": "https://localhost:8080/"
        },
        "id": "gOA7yflNukAC",
        "outputId": "9ae49842-8f62-48f2-87e1-9b34a5a3e26f"
      },
      "source": [
        "def SplitArea(ANTENNA_N,SIZE_H,SIZE_W):\n",
        "  Coordinates=[]\n",
        "  area=SIZE_H*SIZE_w\n",
        "  newArea= area/ANTENNA_N\n",
        "  Coordinates.append()\n",
        "  number_of_qtables=  ANTENNA_N\n",
        "for number_of_qtables in range (ANTENNA_N):\n",
        "    xn = SIZE_W # Building X\n",
        "    yn = SIZE_H # Building Y\n",
        "    z = 4 # actions\n",
        "\n",
        "    q_table = np.zeros((x, y, z))\n",
        "# q_table *= 0\n",
        "print(q_table.shape)\n",
        "    "
      ],
      "execution_count": null,
      "outputs": [
        {
          "output_type": "stream",
          "text": [
            "(5, 5, 4)\n"
          ],
          "name": "stdout"
        }
      ]
    },
    {
      "cell_type": "code",
      "metadata": {
        "id": "AK9PzO2BLC2M",
        "colab": {
          "base_uri": "https://localhost:8080/"
        },
        "outputId": "accfb3cd-b7d0-4ec8-f0de-31ac48848fa7"
      },
      "source": [
        "def calSNRlow(SNR):\n",
        "  counter =0\n",
        "  for i in range(len(SNR)):\n",
        "    if int(SNR[i]) < snr_range[\"deadzone\"]:\n",
        "      counter+=1\n",
        "      percent=counter*100/len(SNR)\n",
        "    #return percent\n",
        "  return np.mean(SNR)\n",
        "calSNRlow(measureSNR (ant,SIZE_H,SIZE_W))"
      ],
      "execution_count": null,
      "outputs": [
        {
          "output_type": "execute_result",
          "data": {
            "text/plain": [
              "1.3886250977364015e-07"
            ]
          },
          "metadata": {
            "tags": []
          },
          "execution_count": 13
        }
      ]
    },
    {
      "cell_type": "code",
      "metadata": {
        "id": "l2qcdm6uLIBt",
        "colab": {
          "base_uri": "https://localhost:8080/"
        },
        "outputId": "a29acc7f-a60a-4be8-c6a3-c0d5ee24b102"
      },
      "source": [
        "\n",
        "episode_rewards = []\n",
        "reward=0\n",
        "for episode in range(HM_EPISODES):\n",
        "    ant = antenna()\n",
        "    if episode % SHOW_EVERY == 0:\n",
        "        print(f\"on #{episode}\")\n",
        "       # print(f\"{SHOW_EVERY} ep mean: {np.mean(episode_rewards[-SHOW_EVERY:])}\")\n",
        "        show = True\n",
        "    else:\n",
        "        show = False\n",
        "\n",
        "    episode_reward = 0\n",
        "    state=0\n",
        "    for i in range(200):\n",
        "        antennaPos = (ant) # Current Antenna X, Y Co-ord.\n",
        "\n",
        "        if np.random.random() > epsilon:\n",
        "            # GET THE ACTION\n",
        "#             if state <=25:\n",
        "#                 state=0\n",
        "#             else:\n",
        "#                 state+=1\n",
        "\n",
        "            action = np.argmax(q_table[ant.x][ant.y])\n",
        "        else:\n",
        "            action = np.random.randint(0, 4) #low is inclusive high is exclusive \n",
        "            #print(action)\n",
        "        # Take the action!\n",
        "        ant.action(action) # move the  antenna\n",
        "        ###\n",
        "        #calculate the SNR\n",
        "        snr=measureSNR(ant,SIZE_H,SIZE_W,type=\"omnidirectionnel\")\n",
        "        percent=calSNRlow(snr)\n",
        "        ##\n",
        "        reward=percent\n",
        "          ###\n",
        "        #current_q = q_table[state][action]\n",
        "        newAntennaPos = (ant)\n",
        "        current_q = q_table[ant.x][ant.y][action] # Current State\n",
        "        max_future_q = np.max(q_table[ant.x][ant.y]) # Max State\n",
        "        new_q = (1 - LEARNING_RATE) * current_q + LEARNING_RATE * (reward + DISCOUNT * max_future_q)\n",
        "        q_table[ant.x][ant.y][action] = new_q\n",
        "      \n",
        "\n",
        "        episode_reward += reward\n",
        "\n",
        "        #print(episode_reward)\n",
        "    episode_rewards.append(episode_reward)\n",
        "    epsilon *= EPS_DECAY"
      ],
      "execution_count": null,
      "outputs": [
        {
          "output_type": "stream",
          "text": [
            "on #0\n",
            "on #100\n",
            "on #200\n",
            "on #300\n",
            "on #400\n",
            "on #500\n",
            "on #600\n",
            "on #700\n",
            "on #800\n",
            "on #900\n",
            "on #1000\n",
            "on #1100\n",
            "on #1200\n",
            "on #1300\n",
            "on #1400\n",
            "on #1500\n",
            "on #1600\n",
            "on #1700\n",
            "on #1800\n",
            "on #1900\n",
            "on #2000\n",
            "on #2100\n",
            "on #2200\n",
            "on #2300\n",
            "on #2400\n"
          ],
          "name": "stdout"
        }
      ]
    },
    {
      "cell_type": "code",
      "metadata": {
        "colab": {
          "base_uri": "https://localhost:8080/",
          "height": 265
        },
        "id": "xZuk7pE9VCte",
        "outputId": "b528f3ca-402e-44ab-9557-332ed79528dc"
      },
      "source": [
        "xval=[]\n",
        "yval=[]\n",
        "max_value =np.max((q_table))\n",
        "#print(max_value)\n",
        "for i in range(SIZE_H):\n",
        "  for j in range(SIZE_W):\n",
        "    for k in range(4):\n",
        "      if max_value  == (q_table[i][j][k]):\n",
        "        xval.append(i)\n",
        "        yval.append(j)\n",
        "      else :\n",
        "        continue\n",
        "#outputOfTraining(q_table)\n",
        " \n",
        "plt.scatter(xval, yval, color= \"blue\", linewidths =2 ,marker =\"s\")\n",
        "plt.show()\n",
        "\n"
      ],
      "execution_count": null,
      "outputs": [
        {
          "output_type": "display_data",
          "data": {
            "image/png": "[encoded data removed]",
            "text/plain": [
              "<Figure size 432x288 with 1 Axes>"
            ]
          },
          "metadata": {
            "tags": []
          }
        }
      ]
    },
    {
      "cell_type": "code",
      "metadata": {
        "id": "0qH_u8-5VzXE"
      },
      "source": [
        "def TrainingFunction(epsilon,EPS_DECAY,HM_EPISODES,SIZE_H,SIZE_W,type_=\"omnidirectionnel\"):\n",
        "  #initialize q table\n",
        "  x = SIZE_W # Building X\n",
        "  y = SIZE_H # Building Y\n",
        "  z = 4 # actions\n",
        "  q_table = np.zeros((x, y, z))\n",
        "  episode_rewards = []\n",
        "  reward=0\n",
        "  for episode in range(HM_EPISODES):\n",
        "      ant = antenna()\n",
        "      if episode % SHOW_EVERY == 0:\n",
        "          print(f\"on #{episode}\")\n",
        "       # print(f\"{SHOW_EVERY} ep mean: {np.mean(episode_rewards[-SHOW_EVERY:])}\")\n",
        "          show = True\n",
        "      else:\n",
        "          show = False\n",
        "\n",
        "      episode_reward = 0\n",
        "      state=0\n",
        "      for i in range(200):\n",
        "          antennaPos = (ant) # Current Antenna X, Y Co-ord.\n",
        "\n",
        "          if np.random.random() > epsilon:\n",
        "            # GET THE ACTION\n",
        "#             if state <=25:\n",
        "#                 state=0\n",
        "#             else:\n",
        "#                 state+=1\n",
        "\n",
        "              action = np.argmax(q_table[ant.x][ant.y])\n",
        "          else:\n",
        "              action = np.random.randint(0, 4) #low is inclusive high is exclusive \n",
        "          #print(action)\n",
        "        # Take the action!\n",
        "          ant.action(action) # move the  antenna\n",
        "        ###\n",
        "        #calculate the SNR\n",
        "          snr=measureSNR(ant,SIZE_H,SIZE_W,type_)\n",
        "          percent=calSNRlow(snr)\n",
        "        ##\n",
        "          reward=percent\n",
        "          ###\n",
        "        #current_q = q_table[state][action]\n",
        "          newAntennaPos = (ant)\n",
        "          current_q = q_table[ant.x][ant.y][action] # Current State\n",
        "          max_future_q = np.max(q_table[ant.x][ant.y]) # Max State\n",
        "          new_q = (1 - LEARNING_RATE) * current_q + LEARNING_RATE * (reward + DISCOUNT * max_future_q)\n",
        "          q_table[ant.x][ant.y][action] = new_q\n",
        "      \n",
        "\n",
        "          episode_reward += reward\n",
        "\n",
        "        #print(episode_reward)\n",
        "      episode_rewards.append(episode_reward)\n",
        "      epsilon *= EPS_DECAY\n",
        "  return q_table\n"
      ],
      "execution_count": null,
      "outputs": []
    },
    {
      "cell_type": "code",
      "metadata": {
        "id": "TITlgL6G-CcO"
      },
      "source": [
        "def outputOfTraining(q_table):\n",
        "  xval=[]\n",
        "  yval=[]\n",
        "  max_value =np.max((q_table))\n",
        "  #print(max_value)\n",
        "  for i in range(SIZE_H):\n",
        "    for j in range(SIZE_W):\n",
        "      for k in range(4):\n",
        "        if max_value  == (q_table[i][j][k]):\n",
        "          xval.append(i)\n",
        "          yval.append(j)\n",
        "        else :\n",
        "          continue\n",
        "  return xval,yval\n",
        "\n",
        "#outputOfTraining(q_table)\n",
        " \n",
        "#plt.scatter(xval, yval, color= \"blue\", linewidths =2 ,marker =\"s\")\n",
        "#plt.xlim(0, SIZE_H-1)\n",
        "#plt.ylim(0, SIZE_W-1)\n",
        "#plt.show()\n",
        "#print(q_table)\n",
        "#print(xval)\n",
        "#print(yval)"
      ],
      "execution_count": null,
      "outputs": []
    },
    {
      "cell_type": "code",
      "metadata": {
        "colab": {
          "base_uri": "https://localhost:8080/"
        },
        "id": "rgbHwZnYWNl1",
        "outputId": "5eef3164-e6be-44bb-d5a3-eaec7b3418ea"
      },
      "source": [
        "ANTENNA_N = int(input(\"please enter the number of antennas ?\"))  # NUMBER OF ANTENNAS \n",
        "#width and height are points not continuous example 5,5\n",
        "antennas_info_sizes={}\n",
        "## splitting areas\n",
        "for i in range(ANTENNA_N):\n",
        "  print(\"attempt number\",i)\n",
        "  #SIZE_H=int(input(\"engez yallaaaa (height)!!!??\"))\n",
        "  SIZE_H=int(input(\"please enter the max height ?\"))\n",
        "  SIZE_W=int(input(\"please enter the max width?\"))\n",
        "  antennas_info_sizes[i+1]=[SIZE_H,SIZE_W]\n",
        "print(antennas_info_sizes)\n",
        "#training\n",
        "print(xval,yval)"
      ],
      "execution_count": null,
      "outputs": [
        {
          "output_type": "stream",
          "text": [
            "please enter the number of antennas ?3\n",
            "attempt number 0\n",
            "please enter the max height ?5\n",
            "please enter the max width?5\n",
            "attempt number 1\n",
            "please enter the max height ?5\n",
            "please enter the max width?10\n",
            "attempt number 2\n",
            "please enter the max height ?5\n",
            "please enter the max width?15\n",
            "{1: [5, 5], 2: [5, 10], 3: [5, 15]}\n",
            "[2] [2]\n"
          ],
          "name": "stdout"
        }
      ]
    },
    {
      "cell_type": "code",
      "metadata": {
        "colab": {
          "base_uri": "https://localhost:8080/"
        },
        "id": "yU1lCtXoHP53",
        "outputId": "a6117d07-49fa-47b0-c14f-688816ffbeaf"
      },
      "source": [
        "#concatenating all thea areas\n",
        "# x >> SIZE_W\n",
        "# Y >> SIZE_H\n",
        "x=[]\n",
        "y=[]\n",
        "diff={}\n",
        "## dictionary of refernces \n",
        "for i in range(ANTENNA_N):\n",
        "  diff[i]=[antennas_info_sizes[i+1][0]-antennas_info_sizes[1][0],antennas_info_sizes[i+1][1]-antennas_info_sizes[1][1]]\n",
        "print(diff)\n",
        "for i in range(ANTENNA_N):\n",
        "  x.append(xval[0])\n",
        "  y.append(yval[0])\n",
        "  x[i]+=diff[i][0]\n",
        "  y[i]+=diff[i][1]\n",
        "\n",
        "  \n",
        "print(x,y)"
      ],
      "execution_count": null,
      "outputs": [
        {
          "output_type": "stream",
          "text": [
            "{0: [0, 0], 1: [0, 5], 2: [0, 10]}\n",
            "[2, 2, 2] [2, 7, 12]\n"
          ],
          "name": "stdout"
        }
      ]
    },
    {
      "cell_type": "code",
      "metadata": {
        "colab": {
          "base_uri": "https://localhost:8080/",
          "height": 269
        },
        "id": "rq66aY27K86e",
        "outputId": "c1ef736d-d146-4757-fbdc-c82236236d90"
      },
      "source": [
        "plt.xlim(0, 25)\n",
        "plt.ylim(0, 25)\n",
        "color=[\"cyan\",\"blue\",\"purple\",\"olive\",\"pink\",\"yellow\"]\n",
        "for i in range(ANTENNA_N):\n",
        "  plt.scatter(x[i], y[i], color=color[i], linewidths =2 ,marker =\"s\")\n",
        "\n",
        "plt.show()"
      ],
      "execution_count": null,
      "outputs": [
        {
          "output_type": "display_data",
          "data": {
            "image/png": "[encoded data removed]",
            "text/plain": [
              "<Figure size 432x288 with 1 Axes>"
            ]
          },
          "metadata": {
            "tags": []
          }
        }
      ]
    },
    {
      "cell_type": "markdown",
      "metadata": {
        "id": "xp3xUZCTFz_K"
      },
      "source": [
        "assume that power adds up (SNR) -> reward \n",
        "qtable -> add the positions of new antenna and actions \n",
        "3 antennas optimization all area \n"
      ]
    },
    {
      "cell_type": "code",
      "metadata": {
        "colab": {
          "base_uri": "https://localhost:8080/",
          "height": 265
        },
        "id": "OL52gnAcnXSn",
        "outputId": "56366647-3898-4f72-a8b4-e908c546ac8a"
      },
      "source": [
        "\n",
        "\n",
        "\n",
        "valuex1=[1,1,1,1]\n",
        "value1y=[1,1,1,1]\n",
        "valuex2=[4,4,4,4]\n",
        "valuey2=[4,4,4,4]\n",
        "#addedvaluex=[3,3,3,3]\n",
        "#addedvaluey=[3,3,3,3]\n",
        "#print(addedvaluex(1))\n",
        "#for i in range (ANTENNA_N):\n",
        " #   valuex2(i)+=addedvaluex(i)\n",
        "  #  valuey2(i)=addedvaluey(i)\n",
        "plt.xlim(0, SIZE_H)\n",
        "plt.ylim(0, SIZE_W)\n",
        "plt.scatter(valuex1, value1y, color= \"blue\", linewidths =2 ,marker =\"s\")\n",
        "plt.scatter(valuex2, valuey2, color= \"red\", linewidths =2 ,marker =\"s\")\n",
        "plt.show()\n",
        "\n"
      ],
      "execution_count": null,
      "outputs": [
        {
          "output_type": "display_data",
          "data": {
            "image/png": "[encoded data removed]",
            "text/plain": [
              "<Figure size 432x288 with 1 Axes>"
            ]
          },
          "metadata": {
            "tags": []
          }
        }
      ]
    },
    {
      "cell_type": "code",
      "metadata": {
        "id": "KAa1H60y_sNY",
        "colab": {
          "base_uri": "https://localhost:8080/",
          "height": 1000
        },
        "outputId": "10f4de48-17ea-4e63-8f0c-6341fa7c4587"
      },
      "source": [
        "#looping on q_table \n",
        "#antenna Tracing qtable\n",
        "xval=[1,1,1,1]\n",
        "yval=[0,0,1,1,1]\n",
        "AntTest2=antenna()\n",
        "AntTest2.x=xval[0]\n",
        "AntTest2.y=yval[0]\n",
        "for i in range(10):\n",
        "   print(AntTest2)\n",
        "   actionx = np.argmax(q_table[AntTest2.x][AntTest2.y])\n",
        "   print(actionx)\n",
        "   AntTest2.action(actionx)\n",
        "   plt.scatter(AntTest2.x,AntTest2.y, color= \"blue\", linewidths =2 ,marker =\"s\")\n",
        "   plt.xlim(0, 4)\n",
        "   plt.ylim(0, 4)\n",
        "   plt.show()\n",
        "#for i in range (ANTENNA_N):\n",
        "   \n"
      ],
      "execution_count": null,
      "outputs": [
        {
          "output_type": "stream",
          "text": [
            "1, 0\n",
            "1\n"
          ],
          "name": "stdout"
        },
        {
          "output_type": "display_data",
          "data": {
            "image/png": "[encoded data removed]",
            "text/plain": [
              "<Figure size 432x288 with 1 Axes>"
            ]
          },
          "metadata": {
            "tags": []
          }
        },
        {
          "output_type": "stream",
          "text": [
            "1, 0\n",
            "1\n"
          ],
          "name": "stdout"
        },
        {
          "output_type": "display_data",
          "data": {
            "image/png": "[encoded data removed]",
            "text/plain": [
              "<Figure size 432x288 with 1 Axes>"
            ]
          },
          "metadata": {
            "tags": []
          }
        },
        {
          "output_type": "stream",
          "text": [
            "1, 0\n",
            "1\n"
          ],
          "name": "stdout"
        },
        {
          "output_type": "display_data",
          "data": {
            "image/png": "[encoded data removed]",
            "text/plain": [
              "<Figure size 432x288 with 1 Axes>"
            ]
          },
          "metadata": {
            "tags": []
          }
        },
        {
          "output_type": "stream",
          "text": [
            "1, 0\n",
            "1\n"
          ],
          "name": "stdout"
        },
        {
          "output_type": "display_data",
          "data": {
            "image/png": "[encoded data removed]",
            "text/plain": [
              "<Figure size 432x288 with 1 Axes>"
            ]
          },
          "metadata": {
            "tags": []
          }
        },
        {
          "output_type": "stream",
          "text": [
            "1, 0\n",
            "1\n"
          ],
          "name": "stdout"
        },
        {
          "output_type": "display_data",
          "data": {
            "image/png": "[encoded data removed]",
            "text/plain": [
              "<Figure size 432x288 with 1 Axes>"
            ]
          },
          "metadata": {
            "tags": []
          }
        },
        {
          "output_type": "stream",
          "text": [
            "1, 0\n",
            "1\n"
          ],
          "name": "stdout"
        },
        {
          "output_type": "display_data",
          "data": {
            "image/png": "[encoded data removed]",
            "text/plain": [
              "<Figure size 432x288 with 1 Axes>"
            ]
          },
          "metadata": {
            "tags": []
          }
        },
        {
          "output_type": "stream",
          "text": [
            "1, 0\n",
            "1\n"
          ],
          "name": "stdout"
        },
        {
          "output_type": "display_data",
          "data": {
            "image/png": "[encoded data removed]",
            "text/plain": [
              "<Figure size 432x288 with 1 Axes>"
            ]
          },
          "metadata": {
            "tags": []
          }
        },
        {
          "output_type": "stream",
          "text": [
            "1, 0\n",
            "1\n"
          ],
          "name": "stdout"
        },
        {
          "output_type": "display_data",
          "data": {
            "image/png": "[encoded data removed]",
            "text/plain": [
              "<Figure size 432x288 with 1 Axes>"
            ]
          },
          "metadata": {
            "tags": []
          }
        },
        {
          "output_type": "stream",
          "text": [
            "1, 0\n",
            "1\n"
          ],
          "name": "stdout"
        },
        {
          "output_type": "display_data",
          "data": {
            "image/png": "[encoded data removed]",
            "text/plain": [
              "<Figure size 432x288 with 1 Axes>"
            ]
          },
          "metadata": {
            "tags": []
          }
        },
        {
          "output_type": "stream",
          "text": [
            "1, 0\n",
            "1\n"
          ],
          "name": "stdout"
        },
        {
          "output_type": "display_data",
          "data": {
            "image/png": "[encoded data removed]",
            "text/plain": [
              "<Figure size 432x288 with 1 Axes>"
            ]
          },
          "metadata": {
            "tags": []
          }
        }
      ]
    },
    {
      "cell_type": "code",
      "metadata": {
        "id": "ioNcIRd6AB4R",
        "colab": {
          "base_uri": "https://localhost:8080/"
        },
        "outputId": "5d3089b0-0407-44cb-97fe-185553733449"
      },
      "source": [
        "#looping on the area \n",
        "AntTest=antenna()\n",
        "EveryWhere={}\n",
        "max=-200\n",
        "#Move antenna Every where \n",
        "for i in range(SIZE_H):\n",
        "  for j in range(SIZE_W):\n",
        "    AntTest.x =i\n",
        "    AntTest.y = j\n",
        "    AvgSnr=calSNRlow(measureSNR(AntTest,SIZE_H,SIZE_W,type=\"omnidirectionnel\"))\n",
        "    if AvgSnr>max:\n",
        "      max=AvgSnr\n",
        "    list_=[AntTest.x,AntTest.y,AvgSnr]\n",
        "    EveryWhere[AvgSnr]=[AntTest.x,AntTest.y]\n",
        "print(max,EveryWhere[max])\n",
        "print(EveryWhere)\n",
        "## x,y,meanSNR   "
      ],
      "execution_count": null,
      "outputs": [
        {
          "output_type": "stream",
          "text": [
            "6.574771173504353e-08 [2, 7]\n",
            "{2.9763886541771717e-08: [4, 14], 4.515384632255919e-08: [0, 1], 4.612303347568145e-08: [4, 12], 4.632134676431175e-08: [0, 3], 4.638422365880389e-08: [0, 10], 4.640875572532242e-08: [4, 9], 4.641879334373908e-08: [4, 6], 4.64215679237081e-08: [4, 7], 4.6418793343739076e-08: [4, 8], 4.640875572532241e-08: [4, 5], 4.632134676431174e-08: [4, 11], 4.6123033475681444e-08: [0, 12], 4.5153846322559185e-08: [4, 13], 2.9763886541771714e-08: [0, 14], 4.5097858430365164e-08: [3, 14], 6.299808794092655e-08: [3, 13], 6.426127274950783e-08: [3, 12], 6.451417321146406e-08: [3, 11], 6.459105081470001e-08: [3, 10], 6.46199732460821e-08: [1, 5], 6.463151401679431e-08: [1, 6], 6.463466396342379e-08: [3, 7], 6.463151401679434e-08: [3, 6], 6.461997324608212e-08: [3, 9], 6.426127274950784e-08: [3, 2], 4.509785843036516e-08: [1, 14], 4.587128009214689e-08: [2, 0], 6.401596768285661e-08: [2, 1], 6.534907104303109e-08: [2, 2], 6.561987417472369e-08: [2, 3], 6.570179739893754e-08: [2, 4], 6.573233298678836e-08: [2, 5], 6.574442481756998e-08: [2, 8], 6.574771173504353e-08: [2, 7], 6.573233298678835e-08: [2, 9], 6.570179739893756e-08: [2, 10], 6.561987417472367e-08: [2, 11], 6.534907104303108e-08: [2, 12], 6.40159676828566e-08: [2, 13], 4.5871280092146885e-08: [2, 14], 4.509785843036517e-08: [3, 0], 6.299808794092657e-08: [3, 1], 6.463151401679432e-08: [3, 8], 2.9763886541771707e-08: [4, 0], 4.6384223658803885e-08: [4, 10]}\n"
          ],
          "name": "stdout"
        }
      ]
    }
  ]
}