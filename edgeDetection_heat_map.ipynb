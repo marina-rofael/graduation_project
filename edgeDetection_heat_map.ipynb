{
  "nbformat": 4,
  "nbformat_minor": 0,
  "metadata": {
    "colab": {
      "name": " edgeDetection_heat map.ipynb",
      "private_outputs": true,
      "provenance": [],
      "collapsed_sections": [],
      "include_colab_link": true
    },
    "kernelspec": {
      "name": "python3",
      "display_name": "Python 3"
    },
    "language_info": {
      "name": "python"
    }
  },
  "cells": [
    {
      "cell_type": "markdown",
      "metadata": {
        "id": "view-in-github",
        "colab_type": "text"
      },
      "source": [
        "<a href=\"https://colab.research.google.com/github/monikamikhaiel/graduation-project-/blob/main/edgeDetection_heat_map.ipynb\" target=\"_parent\"><img src=\"https://colab.research.google.com/assets/colab-badge.svg\" alt=\"Open In Colab\"/></a>"
      ]
    },
    {
      "cell_type": "code",
      "metadata": {
        "id": "kEv53pIrXERj"
      },
      "source": [
        "import cv2\n",
        "import numpy as np\n",
        "import matplotlib.pyplot as plt\n",
        "# read the image\n",
        "image = cv2.imread(\"/content/master_bathroom_floor_plan_3.jpg\")\n",
        "# convert it to grayscale\n",
        "#gray = cv2.cvtColor(image, cv2.COLOR_BGR2GRAY)\n",
        "# show the grayscale image\n",
        "#plt.imshow(gray, cmap=\"gray\")\n",
        "#plt.show()\n",
        "# perform the canny edge detector to detect image edges\n",
        "edges = cv2.Canny(image,threshold1=30, threshold2=100)\n",
        "print(edges)\n",
        "plt.imshow(edges)\n",
        "plt.show()\n",
        "cv2.destroyAllWindows()\n",
        "#cv2.waitkey(0)\n",
        "xcoord=[]\n",
        "ycoord=[]\n",
        "width,length,_=image.shape"
      ],
      "execution_count": null,
      "outputs": []
    },
    {
      "cell_type": "code",
      "metadata": {
        "id": "opPOgC3myjwt"
      },
      "source": [
        "## detect the walls \n",
        "TupleWallsIndex=[]\n",
        "for i in range (width):\n",
        "  for j in range (length):\n",
        "    if edges[i][j] == 255:\n",
        "      TupleWallsIndex.append((i,j))\n",
        "print(TupleWallsIndex)\n",
        "SIZE_H=length\n",
        "SIZE_W=width"
      ],
      "execution_count": null,
      "outputs": []
    },
    {
      "cell_type": "code",
      "metadata": {
        "id": "hDLiiMUeKqUw"
      },
      "source": [
        "#antenna\n",
        "class antenna:\n",
        "    def __init__(self,x_,y_):\n",
        "      if not x_:\n",
        "        self.x = np.random.randint(0, SIZE_W)\n",
        "      else:\n",
        "        self.x=x_\n",
        "      if not y_:\n",
        "        self.y = np.random.randint(0, SIZE_H)\n",
        "      else:\n",
        "        self.y=y_\n",
        "    def __str__(self):\n",
        "        return f\"{self.x}, {self.y}\"\n",
        "    def __sub__(self, other):\n",
        "        return (self.x-other.x, self.y-other.y)\n",
        "    def action(self, choice):\n",
        "        '''\n",
        "        Gives us 4 total movement options. (0,1,2,3)\n",
        "        '''\n",
        "        if choice == 0:  #up\n",
        "            #self.move(x=0, y=1)\n",
        "            self.x=self.x\n",
        "            self.y+=1\n",
        "            self.move()\n",
        "\n",
        "        elif choice == 1:  #down\n",
        "            #self.move(x=0, y=-1)\n",
        "            self.x=self.x\n",
        "            self.y-=1\n",
        "            self.move()\n",
        "\n",
        "        elif choice == 2:  #left\n",
        "           # self.move(x=-1, y=0)\n",
        "            self.x-=1\n",
        "            self.y=self.y\n",
        "            self.move()\n",
        "\n",
        "        elif choice == 3:    #right\n",
        "            # self.move(x=1, y=0)\n",
        "            self.x+=1\n",
        "            self.y=self.y\n",
        "            self.move()\n",
        "\n",
        "#    def move(self, x=False, y=False):\n",
        "    def move(self):\n",
        "        # If no value for x, move randomly\n",
        "      #  if not x:\n",
        "      #      self.x += np.random.randint(-1, 2)\n",
        "       # elif x==0:\n",
        "      #      self.x=self.x\n",
        "      #  else:\n",
        "       #     self.x += x\n",
        "\n",
        "        # If no value for y, move randomly\n",
        "       # if not y:\n",
        "        #    self.y += np.random.randint(-1, 2)\n",
        "       # elif y==0:\n",
        "        #    self.y=self.y\n",
        "       # else:\n",
        "        #    self.y += y\n",
        "      # If we are out of bounds, fix!\n",
        "        if self.x < 0:\n",
        "            self.x = 0\n",
        "        elif self.x > SIZE_W-1:\n",
        "            self.x = SIZE_W-1\n",
        "        if self.y < 0:\n",
        "            self.y = 0\n",
        "        elif self.y > SIZE_H-1:\n",
        "            self.y = SIZE_H-1\n",
        "\n",
        "ant=antenna(5,6)"
      ],
      "execution_count": null,
      "outputs": []
    },
    {
      "cell_type": "code",
      "metadata": {
        "id": "Cf46WNkHyBxc"
      },
      "source": [
        "def dict_Bet_Edges(TupleWallsIndex,SIZE_H,SIZE_W):\n",
        "  dict_values_edges={}\n",
        "  for i in range(SIZE_H):\n",
        "    for j in range(SIZE_W):\n",
        "      for n in range(len(TupleWallsIndex)):\n",
        "        if n<len(TupleWallsIndex)-1:\n",
        "          x,y=TupleWallsIndex[n]\n",
        "          x1,y1=TupleWallsIndex[n+1]\n",
        "       # print(x,i,x1,y,j,y1)\n",
        "          if x<=i<=x1:\n",
        "            if y<=j<=y1:\n",
        "              #print(x,i,x1,y,j,y1)\n",
        "              dict_values_edges[i,j]=10\n",
        "          else:\n",
        "              dict_values_edges[i,j]=1\n",
        "        else:\n",
        "          break\n",
        "  return dict_values_edges \n",
        "      \n",
        "dict_Bet_Edges(TupleWallsIndex,SIZE_H,SIZE_W)\n",
        "print(len(dict_Bet_Edges(TupleWallsIndex,SIZE_H,SIZE_W)))\n",
        "print(dict_Bet_Edges(TupleWallsIndex,SIZE_H,SIZE_W)[0,1])\n",
        "\n"
      ],
      "execution_count": null,
      "outputs": []
    },
    {
      "cell_type": "code",
      "metadata": {
        "id": "UjlfgMCzAzex"
      },
      "source": [
        "#okomora model \n",
        "dict_values_edges=dict_Bet_Edges(TupleWallsIndex,SIZE_H,SIZE_W)\n",
        "def okomora(ant,SIZE_H,SIZE_W,dict_values_edges=dict_values_edges):\n",
        "  PathLoss=[]\n",
        "  attenuation= 13 #in db function of frequency and distance \n",
        "  freq= 2.4*(10^9) # the frequency og the signal\n",
        "  c= 3*(10^8) # the speed of light\n",
        "  #hte = input(\"please enter the height of the transmitter antenna ? \")\n",
        "  #hre = input(\"please enter the height of the receiver antenna ? \")\n",
        "  hte= 20\n",
        "  hre= 2\n",
        "  G_hte = 10*np.log(int(hte) /200) \n",
        "  G_hre = 10*np.log(int(hre)/ 3)\n",
        "  G_Area =27 # (Quasi Open Area)\n",
        "  for i in range(SIZE_H):\n",
        "    for j in range(SIZE_W):\n",
        "      difference = [ant.x-i,ant.y-j]\n",
        "      if difference == [0,0]:\n",
        "        continue\n",
        "      else:\n",
        "        ## calculate the pathloss\n",
        "        distance=pow((pow(difference[0],2)+pow(difference[1],2)),0.5)\n",
        "        #values=dict_Bet_Edges(TupleWallsIndex,SIZE_H,SIZE_W)\n",
        "        if (i,j) in dict_values_edges.keys():\n",
        "          x=dict_values_edges[i,j]\n",
        "          distance*=x\n",
        "        FPL      = 20*np.log(4*np.pi*distance*freq/c)\n",
        "        Path_Loss = FPL + attenuation - G_hte - G_hre - G_Area\n",
        "          #Path_Loss*=10\n",
        "        PathLoss.append(Path_Loss)\n",
        "  return PathLoss  \n",
        "#okomora(ant,SIZE_H,SIZE_W)  \n",
        "#len(okomora(ant,SIZE_H,SIZE_W))"
      ],
      "execution_count": null,
      "outputs": []
    },
    {
      "cell_type": "code",
      "metadata": {
        "id": "ZhiHQdPgBPKP"
      },
      "source": [
        "def AnglesInDegrees(ant,SIZE_H,SIZE_W):\n",
        "  theta=[]\n",
        "  for i in range(SIZE_H):\n",
        "    for j in range(SIZE_W):\n",
        "      difference = [ant.x-i,ant.y-j]\n",
        "      if difference==[0,0]: # the same position as the antenna \n",
        "        continue\n",
        "      if difference[0]==0:     # the angle itself is either 90 or 270 tan will be infinite \n",
        "          if difference[1]>0:\n",
        "            t=90\n",
        "            theta.append(90)\n",
        "          else:\n",
        "            t=270\n",
        "            theta.append(270)\n",
        "      else:\n",
        "          tantheta= difference[1]/difference[0]\n",
        "          t=np.degrees(np.arctan(tantheta))\n",
        "          if t <=0:\n",
        "            t+=360\n",
        "            theta.append(t)\n",
        "          else:\n",
        "            theta.append(t)\n",
        "  return theta\n",
        "#print(len(AnglesInDegrees(ant,SIZE_H,SIZE_W)))"
      ],
      "execution_count": null,
      "outputs": []
    },
    {
      "cell_type": "code",
      "metadata": {
        "id": "Q-YCAFATC7SQ"
      },
      "source": [
        "def measureSNR(ant,SIZE_H,SIZE_W,typeOfAntenna=\"omnidirectionnel\",dict_values_edges=dict_values_edges):\n",
        "  Path_Loss=okomora(ant,SIZE_H,SIZE_W,dict_values_edges)\n",
        "  Gain=[]\n",
        "  if typeOfAntenna == \"omnidirectionnel\" :\n",
        "    Gain_pannel=7 #in db\n",
        "    for i in range(len(Path_Loss)):\n",
        "      Gain.append(Gain_pannel-Path_Loss[i])\n",
        "  elif typeOfAntenna == \"directionnel\":\n",
        "    thetas=AnglesInDegrees(ant,SIZE_H,SIZE_W)\n",
        "    GainVsTheta={360:-20,30:-10,60:-5,90:15,120:0,150:-10,180:-20,210:-10,240:-8,270:-15,300:-8,330:-10} # values in db angle:gain\n",
        "    for i in range(len(thetas)):\n",
        "      t=thetas[i]\n",
        "      if t==0:\n",
        "       value = GainVsTheta[360]\n",
        "      elif t<=30:\n",
        "        value = GainVsTheta[30]\n",
        "      elif 30<t<=60:\n",
        "        value = GainVsTheta[60]\n",
        "      elif 60<t<=90:\n",
        "        value = GainVsTheta[90]\n",
        "      elif 90<t<=120:\n",
        "        value = GainVsTheta[120]\n",
        "      elif 120<t<=150:\n",
        "        value = GainVsTheta[150]\n",
        "      elif 150<t<=180:\n",
        "        value = GainVsTheta[180]\n",
        "      elif 180<t<=210:\n",
        "        value = GainVsTheta[210]\n",
        "      elif 210<t<=240:\n",
        "        value = GainVsTheta[240]\n",
        "      elif 240<t<=270:\n",
        "        value = GainVsTheta[270]\n",
        "      elif 270<t<=300:\n",
        "        value = GainVsTheta[300]\n",
        "      elif 300<t<=330:\n",
        "        value = GainVsTheta[330]\n",
        "      elif 330<t<=360:\n",
        "        value = GainVsTheta[360]\n",
        "      Gain.append(value-Path_Loss[i])\n",
        "  Magnitude=[]\n",
        "  for g in Gain:\n",
        "    mag=pow(10,(g/10))\n",
        "    Magnitude.append(mag)\n",
        "  return Magnitude\n",
        "#measureSNR(ant,SIZE_H,SIZE_W,typeOfAntenna=\"omnidirectionnel\")\n"
      ],
      "execution_count": null,
      "outputs": []
    },
    {
      "cell_type": "code",
      "metadata": {
        "id": "UPlDhQnR70Z_"
      },
      "source": [
        "measureSNR(ant,SIZE_H,SIZE_W,typeOfAntenna=\"omnidirectionnel\")"
      ],
      "execution_count": null,
      "outputs": []
    },
    {
      "cell_type": "code",
      "metadata": {
        "id": "AK9PzO2BLC2M"
      },
      "source": [
        "def calSNRlow(ant,SNR,TypeOfReward,TupleWallsIndex=TupleWallsIndex):\n",
        "#counter =0\n",
        "#for i in range(len(SNR)):\n",
        "#    if int(SNR[i]) < snr_range[\"deadzone\"]:\n",
        "#      counter+=1\n",
        "#      percent=counter*100/len(SNR)\n",
        "    #return percent\n",
        "  ## check if the antenna is inside the wall \n",
        "  if TypeOfReward==\"AverageSNR\":\n",
        "    if (ant.x,ant.y) in TupleWallsIndex:\n",
        "      return 0\n",
        "    else:\n",
        "      for i in range(SIZE_H):\n",
        "        for j in range(SIZE_W):\n",
        "          if (i,j) in TupleWallsIndex:\n",
        "            SNR[i+(SIZE_W)*j]*=0\n",
        "          else:\n",
        "            continue\n",
        "    return np.mean(SNR)\n",
        "  else:\n",
        "    counter =0\n",
        "    for i in range(len(SNR)):\n",
        "      if int(SNR[i]) < snr_range[\"deadzone\"]:\n",
        "        counter+=1\n",
        "        percent=counter*100/len(SNR)\n",
        "  return percent\n",
        "\n",
        "#calSNRlow(ant,measureSNR(ant,SIZE_H,SIZE_W),TypeOfReward=\"AverageSNR\",TupleWallsIndex)"
      ],
      "execution_count": null,
      "outputs": []
    },
    {
      "cell_type": "code",
      "metadata": {
        "id": "Ct1MEcAwKhYq"
      },
      "source": [
        "HM_EPISODES = 2500\n",
        "epsilon = 0.5  # randomness\n",
        "EPS_DECAY = 0.9999  # Every episode will be epsilon*EPS_DECAY\n",
        "SHOW_EVERY = 100  # how often to play through env visually.\n",
        "\n",
        "start_q_table = None  # if we have a pickled Q table, we'll put the filename of it here.\n",
        "\n",
        "LEARNING_RATE = 0.1\n",
        "DISCOUNT = 0.95\n",
        "\n",
        "ANTENNA_N = 1  # NUMBER OF ANTENNAS \n",
        "#SNR RANGES\n",
        "snr_range={\"highSNR_max\":-50,\"highSNR_min\":-80,\n",
        "           \"mediumSNR_max\":-90,\"mediumSNR_min\":-100,\n",
        "          \"deadzone\":-120}"
      ],
      "execution_count": null,
      "outputs": []
    },
    {
      "cell_type": "code",
      "metadata": {
        "id": "VUA5sED5K4om"
      },
      "source": [
        "x = SIZE_W # Building X\n",
        "y = SIZE_H # Building Y\n",
        "z = 4 # actions\n",
        "\n",
        "q_table = np.zeros((x, y, z))\n",
        "# q_table *= 0\n",
        "print(q_table.shape)\n"
      ],
      "execution_count": null,
      "outputs": []
    },
    {
      "cell_type": "code",
      "metadata": {
        "id": "CTkZXB7jrcWa"
      },
      "source": [
        "def TrainingAgent(HM_EPISODES=HM_EPISODES,EPS_DECAY=EPS_DECAY,LEARNING_RATE=LEARNING_RATE,DISCOUNT=DISCOUNT,epsilon=epsilon,\n",
        "                  SIZE_H=SIZE_H,SIZE_W=SIZE_W,typeOfAntenna=\"omnidirectionnel\",TypeOfReward=\"AverageSNR\",TupleWallsIndex=TupleWallsIndex):\n",
        "  dict_values_edges=dict_Bet_Edges(TupleWallsIndex,SIZE_H,SIZE_W)\n",
        "  episode_rewards = []\n",
        "  reward=0\n",
        "  for episode in range(HM_EPISODES):\n",
        "      x_=np.random.randint(0, SIZE_H)\n",
        "      y_=np.random.randint(0, SIZE_W)\n",
        "      ant = antenna(x_,y_)\n",
        "      if episode % SHOW_EVERY == 0:\n",
        "          print(f\"on #{episode}\")\n",
        "       # print(f\"{SHOW_EVERY} ep mean: {np.mean(episode_rewards[-SHOW_EVERY:])}\")\n",
        "          show = True\n",
        "      else:\n",
        "          show = False\n",
        "\n",
        "      episode_reward = 0\n",
        "      for i in range(200):\n",
        "          antennaPos = (ant) # Current Antenna X, Y Co-ord.\n",
        "         # choose an action \n",
        "          if np.random.random() > epsilon: \n",
        "              action = np.argmax(q_table[ant.x][ant.y])\n",
        "          else:\n",
        "              action = np.random.randint(0, 4) #low is inclusive high is exclusive \n",
        "          #print(action)\n",
        "        # Take the action!\n",
        "          ant.action(action) # move the  antenna\n",
        "        ###\n",
        "        #calculate the SNR\n",
        "          snr=measureSNR(ant,SIZE_H,SIZE_W,typeOfAntenna=typeOfAntenna,dict_values_edges=dict_values_edges)\n",
        "          percent=calSNRlow(ant,snr,TypeOfReward=TypeOfReward,TupleWallsIndex=TupleWallsIndex)\n",
        "        ##\n",
        "          reward=percent\n",
        "          ###\n",
        "        #current_q = q_table[state][action]\n",
        "          newAntennaPos = (ant)\n",
        "          current_q = q_table[ant.x][ant.y][action] # Current State\n",
        "          max_future_q = np.max(q_table[ant.x][ant.y]) # Max State\n",
        "          new_q = (1 - LEARNING_RATE) * current_q + LEARNING_RATE * (reward + DISCOUNT * max_future_q)\n",
        "          q_table[ant.x][ant.y][action] = new_q\n",
        "      \n",
        "\n",
        "          #episode_reward += reward\n",
        "      #print(episode)\n",
        "        #print(episode_reward)\n",
        "      #episode_rewards.append(episode_reward)\n",
        "      epsilon *= EPS_DECAY\n",
        "  return q_table"
      ],
      "execution_count": null,
      "outputs": []
    },
    {
      "cell_type": "code",
      "metadata": {
        "id": "RdFGXmaeqk1q"
      },
      "source": [
        "q_table=TrainingAgent(HM_EPISODES=HM_EPISODES,EPS_DECAY=EPS_DECAY,LEARNING_RATE=LEARNING_RATE,DISCOUNT=DISCOUNT,epsilon=epsilon,\n",
        "                  SIZE_H=SIZE_H,SIZE_W=SIZE_W,typeOfAntenna=\"omnidirectionnel\",TypeOfReward=\"AverageSNR\",TupleWallsIndex=TupleWallsIndex)"
      ],
      "execution_count": null,
      "outputs": []
    },
    {
      "cell_type": "code",
      "metadata": {
        "id": "8361i5qiew4t"
      },
      "source": [
        "def GetBestPosition (q_table): \n",
        "  xval=[]\n",
        "  yval=[]\n",
        "  max_value =np.max((q_table))\n",
        "  print(max_value)\n",
        "  for i in range(SIZE_H):\n",
        "      for j in range(SIZE_W):\n",
        "        for k in range(4):\n",
        "          if max_value  == (q_table[i][j][k]):\n",
        "              xval.append(i)\n",
        "              yval.append(j)\n",
        "          else :\n",
        "              continue\n",
        "  return xval,yval\n",
        "\n",
        "  \n",
        "xval,yval=GetBestPosition (q_table)\n",
        "plt.scatter(xval, yval, color= \"blue\", linewidths =2 ,marker =\"s\")\n",
        "plt.xlim(0, SIZE_H-1)\n",
        "plt.ylim(0, SIZE_W-1)\n",
        "plt.imshow(edges)\n",
        "plt.show()\n",
        "#print(q_table)\n",
        "#print(xval)\n"
      ],
      "execution_count": null,
      "outputs": []
    },
    {
      "cell_type": "code",
      "metadata": {
        "id": "0mCBD5MYKkX4"
      },
      "source": [
        "print(xval[0],yval[0])\n",
        "import matplotlib.pyplot as plt\n",
        "import pandas as pd\n",
        "import numpy as np\n",
        "import seaborn as sns\n",
        "# sns.set()\n",
        "\n",
        "ant=antenna(xval[0],yval[0])\n",
        "snr=measureSNR(ant,SIZE_H,SIZE_W,typeOfAntenna=\"omnidirectionnel\")\n",
        "# convert from linear to db\n",
        "snr_db=[] \n",
        "for i in (snr):\n",
        "  out_=10*np.log10(i)\n",
        "  snr_db.append(out_)\n",
        "print(snr_db)\n",
        "# Build data\n",
        "max_value_snr=np.max(snr_db)\n",
        "min_value_snr=np.min(snr_db)\n",
        "print(max_value_snr)\n",
        "print(min_value_snr)"
      ],
      "execution_count": null,
      "outputs": []
    },
    {
      "cell_type": "code",
      "metadata": {
        "id": "QaMhqo8CKr0-"
      },
      "source": [
        "## 1D heatmap\n",
        "plt.figure()\n",
        "plt.suptitle(\"Seaborn heatmap example to display 2d percentage values\", color='m')\n",
        "sns.set(font_scale=0.8)\n",
        "\n",
        "print(len(snr_db))\n",
        "snr_db=np.reshape(snr_db,((SIZE_H*SIZE_W-1),1)) ## size_w*size_h -1\n",
        "ax = sns.heatmap(snr_db, vmin=min_value_snr, vmax=max_value_snr)\n",
        "ax.set(xlabel='x label', ylabel='y label')\n",
        "\n",
        "plt.show()"
      ],
      "execution_count": null,
      "outputs": []
    },
    {
      "cell_type": "code",
      "metadata": {
        "id": "jsnvcs-QY5Qn"
      },
      "source": [
        "rows=[]\n",
        "row=[]\n",
        "#print(type(snr_db[0]))\n",
        "# insert a value\n",
        "if SIZE_H>SIZE_W:\n",
        "      position=(SIZE_W*(xval[0])) + (yval[0])\n",
        "else:\n",
        "      position=(SIZE_H*(yval[0])) + (xval[0])\n",
        "#position=(SIZE_H*(yval[0]))+ xval[0]\n",
        "snr_db_=np.insert(snr_db,position,[0])\n",
        "print(snr_db_)\n",
        "\"\"\"\n",
        "for j in range(SIZE_W):\n",
        "  for i in range (SIZE_H):\n",
        "    value=snr_db_[i+(SIZE_W)*j].astype(int)\n",
        "    row.append(value)\n",
        "  rows.append(row)\n",
        "  row=[]\n",
        "print(rows)\n",
        "for line in rows:\n",
        "  print(line)\n",
        "\"\"\"\n",
        "rows=np.reshape(snr_db_,(1,SIZE_H*SIZE_W))"
      ],
      "execution_count": null,
      "outputs": []
    },
    {
      "cell_type": "code",
      "metadata": {
        "id": "N_eVcnjZb9-G"
      },
      "source": [
        "#2D heatmap\n",
        "plt.figure()\n",
        "plt.suptitle(\"Seaborn heatmap example to display 2d percentage values\", color='m')\n",
        "sns.set(font_scale=0.8)\n",
        "\n",
        "#print(type(rows))\n",
        "rows_db=rows\n",
        "rows_db=np.reshape(rows,(SIZE_W,SIZE_H))\n",
        "ax = sns.heatmap(rows_db, vmin=min_value_snr, vmax=max_value_snr)\n",
        "ax.set(xlabel='x label', ylabel='y label')\n",
        "\n",
        "\n",
        "plt.show()\n",
        "\n",
        "plt.scatter(xval, yval, color= \"green\", linewidths =6 ,marker =\"s\")\n",
        "plt.xlim(0, SIZE_H-1)\n",
        "plt.ylim(0, SIZE_W-1)\n",
        "plt.imshow(edges)\n",
        "plt.show()"
      ],
      "execution_count": null,
      "outputs": []
    },
    {
      "cell_type": "markdown",
      "metadata": {
        "id": "2b6fqsM2XQe9"
      },
      "source": [
        "loop everywhere and calculate average SNR s"
      ]
    },
    {
      "cell_type": "code",
      "metadata": {
        "id": "ioNcIRd6AB4R"
      },
      "source": [
        "#looping on the area \n",
        "#brute force check  get the optimal decision \n",
        "AntTest=antenna(2,3)\n",
        "EveryWhere={}\n",
        "max=-200\n",
        "#Move antenna Every where \n",
        "for i in range(SIZE_H):\n",
        "  for j in range(SIZE_W):\n",
        "    AntTest.x =i\n",
        "    AntTest.y = j\n",
        "    AvgSnr=calSNRlow(AntTest,measureSNR(AntTest,SIZE_H,SIZE_W,typeOfAntenna=\"omnidirectionnel\"),TypeOfReward=\"AverageSNR\")\n",
        "    if AvgSnr>max:\n",
        "      max=AvgSnr\n",
        "    list_=[AntTest.x,AntTest.y,AvgSnr]\n",
        "    EveryWhere[AvgSnr]=[AntTest.x,AntTest.y]\n",
        "print(max,EveryWhere[max])\n",
        "print(EveryWhere)\n",
        "## x,y,meanSNR   "
      ],
      "execution_count": null,
      "outputs": []
    }
  ]
}