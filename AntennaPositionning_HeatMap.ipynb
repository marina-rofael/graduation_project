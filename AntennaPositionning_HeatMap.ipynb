{
  "nbformat": 4,
  "nbformat_minor": 0,
  "metadata": {
    "colab": {
      "name": "AntennaPositionning_HeatMap",
      "provenance": [],
      "collapsed_sections": [],
      "include_colab_link": true
    },
    "kernelspec": {
      "display_name": "Python 3",
      "name": "python3"
    },
    "language_info": {
      "name": "python"
    }
  },
  "cells": [
    {
      "cell_type": "markdown",
      "metadata": {
        "id": "view-in-github",
        "colab_type": "text"
      },
      "source": [
        "<a href=\"https://colab.research.google.com/github/monikamikhaiel/graduation-project-/blob/main/AntennaPositionning_HeatMap.ipynb\" target=\"_parent\"><img src=\"https://colab.research.google.com/assets/colab-badge.svg\" alt=\"Open In Colab\"/></a>"
      ]
    },
    {
      "cell_type": "code",
      "metadata": {
        "id": "gP53XJtFISeC"
      },
      "source": [
        "import numpy as np  # for array stuff and random\n",
        "import matplotlib.pyplot as plt  # for graphing our mean rewards over time\n",
        "from matplotlib.pyplot import figure\n",
        "from matplotlib import style  # to make pretty charts because it matters.\n",
        "import time  # using this to keep track of our saved Q-Tables.\n",
        "style.use(\"ggplot\")  # setting our style!"
      ],
      "execution_count": 1,
      "outputs": []
    },
    {
      "cell_type": "code",
      "metadata": {
        "colab": {
          "base_uri": "https://localhost:8080/"
        },
        "id": "9nDFjr7CKd3y",
        "outputId": "eca17116-ff0d-416f-9400-b48480be15da"
      },
      "source": [
        "#the size of the area \n",
        "SIZE_W = int(input(\"please enter the width of the building in meter :\"))\n",
        "SIZE_H = int(input(\"please enter the height of the building in meter :\"))\n",
        "print(SIZE_H,SIZE_W)\n"
      ],
      "execution_count": 2,
      "outputs": [
        {
          "output_type": "stream",
          "text": [
            "please enter the width of the building in meter :5\n",
            "please enter the height of the building in meter :5\n",
            "5 5\n"
          ],
          "name": "stdout"
        }
      ]
    },
    {
      "cell_type": "code",
      "metadata": {
        "id": "Ct1MEcAwKhYq"
      },
      "source": [
        "#constants value \n",
        "HM_EPISODES = 2500\n",
        "epsilon = 0.5  # randomness\n",
        "EPS_DECAY = 0.9999  # Every episode will be epsilon*EPS_DECAY\n",
        "SHOW_EVERY = 100  # how often to play through env visually.\n",
        "\n",
        "start_q_table = None  # if we have a pickled Q table, we'll put the filename of it here.\n",
        "\n",
        "LEARNING_RATE = 0.1\n",
        "DISCOUNT = 0.95\n",
        "\n",
        "ANTENNA_N = 1  # single antenna \n",
        "\n",
        "#SNR RANGES\n",
        "snr_range={\"highSNR_max\":-50,\"highSNR_min\":-80,\n",
        "           \"mediumSNR_max\":-90,\"mediumSNR_min\":-100,\n",
        "          \"deadzone\":-120}\n"
      ],
      "execution_count": 3,
      "outputs": []
    },
    {
      "cell_type": "code",
      "metadata": {
        "id": "hDLiiMUeKqUw"
      },
      "source": [
        "#antenna\n",
        "class antenna:\n",
        "    def __init__(self,x_,y_):\n",
        "      if not x_:\n",
        "        self.x = np.random.randint(0, SIZE_W)\n",
        "      else:\n",
        "        self.x=x_\n",
        "      if not y_:\n",
        "        self.y = np.random.randint(0, SIZE_H)\n",
        "      else:\n",
        "        self.y=y_\n",
        "        \n",
        "        \n",
        "    def __str__(self):\n",
        "        return f\"{self.x}, {self.y}\"\n",
        "    def __sub__(self, other):\n",
        "        return (self.x-other.x, self.y-other.y)\n",
        "    def action(self, choice):\n",
        "        '''\n",
        "        Gives us 4 total movement options. (0,1,2,3)\n",
        "        '''\n",
        "        if choice == 0:  #up\n",
        "            #self.move(x=0, y=1)\n",
        "            self.x=self.x\n",
        "            self.y+=1\n",
        "            self.move()\n",
        "\n",
        "        elif choice == 1:  #down\n",
        "            #self.move(x=0, y=-1)\n",
        "            self.x=self.x\n",
        "            self.y-=1\n",
        "            self.move()\n",
        "\n",
        "        elif choice == 2:  #left\n",
        "           # self.move(x=-1, y=0)\n",
        "            self.x-=1\n",
        "            self.y=self.y\n",
        "            self.move()\n",
        "\n",
        "        elif choice == 3:    #right\n",
        "            # self.move(x=1, y=0)\n",
        "            self.x+=1\n",
        "            self.y=self.y\n",
        "            self.move()\n",
        "\n",
        "#    def move(self, x=False, y=False):\n",
        "    def move(self):\n",
        "        # If no value for x, move randomly\n",
        "      #  if not x:\n",
        "      #      self.x += np.random.randint(-1, 2)\n",
        "       # elif x==0:\n",
        "      #      self.x=self.x\n",
        "      #  else:\n",
        "       #     self.x += x\n",
        "\n",
        "        # If no value for y, move randomly\n",
        "       # if not y:\n",
        "        #    self.y += np.random.randint(-1, 2)\n",
        "       # elif y==0:\n",
        "        #    self.y=self.y\n",
        "       # else:\n",
        "        #    self.y += y\n",
        "      # If we are out of bounds, fix!\n",
        "        if self.x < 0:\n",
        "            self.x = 0\n",
        "        elif self.x > SIZE_W-1:\n",
        "            self.x = SIZE_W-1\n",
        "        if self.y < 0:\n",
        "            self.y = 0\n",
        "        elif self.y > SIZE_H-1:\n",
        "            self.y = SIZE_H-1\n",
        "\n"
      ],
      "execution_count": 4,
      "outputs": []
    },
    {
      "cell_type": "code",
      "metadata": {
        "colab": {
          "base_uri": "https://localhost:8080/"
        },
        "id": "6E9GEGIcKwQe",
        "outputId": "76997298-60e8-493f-9cbe-58de0d349ed5"
      },
      "source": [
        "ant = antenna(2,3)\n",
        "print(ant)\n",
        "ant.action(0) # up\n",
        "print(ant)\n",
        "ant.action(1) #down \n",
        "print(ant)\n",
        "ant.action(2) #left\n",
        "print(ant)\n",
        "ant.action(3) #right \n",
        "print(ant)\n"
      ],
      "execution_count": 5,
      "outputs": [
        {
          "output_type": "stream",
          "text": [
            "2, 3\n",
            "2, 4\n",
            "2, 3\n",
            "1, 3\n",
            "2, 3\n"
          ],
          "name": "stdout"
        }
      ]
    },
    {
      "cell_type": "code",
      "metadata": {
        "colab": {
          "base_uri": "https://localhost:8080/"
        },
        "id": "VUA5sED5K4om",
        "outputId": "37385eb3-d123-4a78-81fb-212cfe80949d"
      },
      "source": [
        "#build the initial q table \n",
        "x = SIZE_W # Building X\n",
        "y = SIZE_H # Building Y\n",
        "z = 4 # actions\n",
        "\n",
        "q_table = np.zeros((x, y, z))\n",
        "# q_table *= 0\n",
        "print(q_table.shape)\n"
      ],
      "execution_count": 6,
      "outputs": [
        {
          "output_type": "stream",
          "text": [
            "(5, 5, 4)\n"
          ],
          "name": "stdout"
        }
      ]
    },
    {
      "cell_type": "code",
      "metadata": {
        "id": "UjlfgMCzAzex",
        "colab": {
          "base_uri": "https://localhost:8080/"
        },
        "outputId": "f09d06b2-1b29-41f1-81ca-71914515b850"
      },
      "source": [
        "#okomora model \n",
        "def okomora(ant,SIZE_H,SIZE_W):\n",
        "  Arr_PathLoss=[]\n",
        "  Arr_FPL=[]\n",
        "  attenuation= 13 #in db function of frequency and distance \n",
        "  freq= 2.4*(10^9) # the frequency og the signal\n",
        "  c= 3*(10^8) # the speed of light\n",
        "  #hte = input(\"please enter the height of the transmitter antenna ? \")\n",
        "  #hre = input(\"please enter the height of the receiver antenna ? \")\n",
        "  hte= 20\n",
        "  hre= 2\n",
        "  G_hte = 10*np.log(int(hte) /200) \n",
        "  G_hre = 10*np.log(int(hre)/ 3)\n",
        "  G_Area =27 # (Quasi Open Area)\n",
        "  for i in range(SIZE_H):\n",
        "    for j in range(SIZE_W):\n",
        "      difference = [ant.x-i,ant.y-j]\n",
        "      if difference == [0,0]:\n",
        "        continue\n",
        "      else:\n",
        "        ## calculate the pathloss\n",
        "        distance=pow((pow(difference[0],2)+pow(difference[1],2)),0.5)\n",
        "        FPL=20*np.log(4*np.pi*distance*freq/c)\n",
        "        Arr_FPL.append (20*np.log(4*np.pi*distance*freq/c))\n",
        "        Path_Loss = FPL + attenuation - G_hte - G_hre - G_Area\n",
        "        Arr_PathLoss.append(Path_Loss)\n",
        "  return Arr_PathLoss \n",
        "okomora(ant,SIZE_H,SIZE_W)"
      ],
      "execution_count": 7,
      "outputs": [
        {
          "output_type": "execute_result",
          "data": {
            "text/plain": [
              "[92.99691166090237,\n",
              " 88.14183350308535,\n",
              " 83.441797210628,\n",
              " 81.21036169748591,\n",
              " 83.441797210628,\n",
              " 90.37326901622747,\n",
              " 83.441797210628,\n",
              " 74.27888989188646,\n",
              " 67.34741808628699,\n",
              " 74.27888989188646,\n",
              " 89.3196638596492,\n",
              " 81.21036169748591,\n",
              " 67.34741808628699,\n",
              " 67.34741808628699,\n",
              " 90.37326901622747,\n",
              " 83.441797210628,\n",
              " 74.27888989188646,\n",
              " 67.34741808628699,\n",
              " 74.27888989188646,\n",
              " 92.99691166090237,\n",
              " 88.14183350308535,\n",
              " 83.441797210628,\n",
              " 81.21036169748591,\n",
              " 83.441797210628]"
            ]
          },
          "metadata": {
            "tags": []
          },
          "execution_count": 7
        }
      ]
    },
    {
      "cell_type": "code",
      "metadata": {
        "id": "ZhiHQdPgBPKP"
      },
      "source": [
        "def AnglesInDegrees(ant,SIZE_H,SIZE_W):\n",
        "  theta=[]\n",
        "  for i in range(SIZE_H):\n",
        "    for j in range(SIZE_W):\n",
        "      difference = [ant.x-i,ant.y-j]\n",
        "      if difference==[0,0]: # the same position as the antenna \n",
        "        continue\n",
        "      if difference[0]==0:     # the angle itself is either 90 or 270 tan will be infinite \n",
        "          if difference[1]>0:\n",
        "            t=90\n",
        "            theta.append(90)\n",
        "          else:\n",
        "            t=270\n",
        "            theta.append(270)\n",
        "      else:\n",
        "          tantheta= difference[1]/difference[0]\n",
        "          t=np.degrees(np.arctan(tantheta))\n",
        "          if t <=0:\n",
        "            t+=360\n",
        "            theta.append(t)\n",
        "          else:\n",
        "            theta.append(t)\n",
        "  return theta\n",
        "#print(len(AnglesInDegrees(ant,SIZE_H,SIZE_W)))"
      ],
      "execution_count": 8,
      "outputs": []
    },
    {
      "cell_type": "code",
      "metadata": {
        "id": "Q-YCAFATC7SQ",
        "colab": {
          "base_uri": "https://localhost:8080/"
        },
        "outputId": "e6533ca7-67a0-4863-fb71-cbbc743f3b84"
      },
      "source": [
        "def measureSNR(ant,SIZE_H,SIZE_W,typeOfAntenna=\"directionnel\"):\n",
        "  Path_Loss=okomora(ant,SIZE_H,SIZE_W)\n",
        "  Gain=[] # values in db \n",
        "  if typeOfAntenna == \"omnidirectionnel\" :\n",
        "    Gain_pannel=7 #in db\n",
        "    for i in range(len(Path_Loss)):\n",
        "      #print(Path_Loss[i],Gain_pannel-Path_Loss[i])\n",
        "      Gain.append(Gain_pannel-Path_Loss[i])\n",
        "  elif typeOfAntenna== \"directionnel\":\n",
        "    thetas=AnglesInDegrees(ant,SIZE_H,SIZE_W)\n",
        "    gain=7 #db\n",
        "    for i in range(len(Path_Loss)):\n",
        "      Gain.append((gain*np.cos(thetas[i]))-Path_Loss[i])\n",
        "  else:\n",
        "    thetas=AnglesInDegrees(ant,SIZE_H,SIZE_W)\n",
        "    GainVsTheta={360:-20,30:-10,60:-5,90:15,120:0,150:-10,180:-20,210:-10,240:-8,270:-15,300:-8,330:-10} # values in db angle:gain\n",
        "    for i in range(len(thetas)):\n",
        "      t=thetas[i]\n",
        "      if t==0:\n",
        "       value = GainVsTheta[360]\n",
        "      elif t<=30:\n",
        "        value = GainVsTheta[30]\n",
        "      elif 30<t<=60:\n",
        "        value = GainVsTheta[60]\n",
        "      elif 60<t<=90:\n",
        "        value = GainVsTheta[90]\n",
        "      elif 90<t<=120:\n",
        "        value = GainVsTheta[120]\n",
        "      elif 120<t<=150:\n",
        "        value = GainVsTheta[150]\n",
        "      elif 150<t<=180:\n",
        "        value = GainVsTheta[180]\n",
        "      elif 180<t<=210:\n",
        "        value = GainVsTheta[210]\n",
        "      elif 210<t<=240:\n",
        "        value = GainVsTheta[240]\n",
        "      elif 240<t<=270:\n",
        "        value = GainVsTheta[270]\n",
        "      elif 270<t<=300:\n",
        "        value = GainVsTheta[300]\n",
        "      elif 300<t<=330:\n",
        "        value = GainVsTheta[330]\n",
        "      elif 330<t<=360:\n",
        "        value = GainVsTheta[360]\n",
        "      Gain.append(value-Path_Loss[i])\n",
        "  Magnitude=[]\n",
        "  # from db to magnitude \n",
        "  for g in Gain:\n",
        "    mag=pow(10,(g/10))\n",
        "    Magnitude.append(mag)\n",
        "  return Magnitude\n",
        "ant=antenna(2,3)\n",
        "measureSNR(ant,SIZE_H,SIZE_W,typeOfAntenna=\"omnidirectionnel\")\n",
        "print(ant)"
      ],
      "execution_count": 9,
      "outputs": [
        {
          "output_type": "stream",
          "text": [
            "2, 3\n"
          ],
          "name": "stdout"
        }
      ]
    },
    {
      "cell_type": "code",
      "metadata": {
        "colab": {
          "base_uri": "https://localhost:8080/"
        },
        "id": "AK9PzO2BLC2M",
        "outputId": "d683feb2-266e-466e-831e-f88be7a4b625"
      },
      "source": [
        "def calSNRlow(SNR,TypeOfReward):\n",
        "    if TypeOfReward==\"AverageSNR\":\n",
        "      return np.mean(SNR)\n",
        "    else:\n",
        "      counter =0\n",
        "      for i in range(len(SNR)):\n",
        "            if int(SNR[i]) < snr_range[\"deadzone\"]:\n",
        "              counter+=1\n",
        "      percent=counter*100/len(SNR)\n",
        "    return percent\n",
        "    \n",
        "ant=antenna(3,4)\n",
        "calSNRlow(measureSNR (ant,SIZE_H,SIZE_W),TypeOfReward=\"AverageSNR\")"
      ],
      "execution_count": 10,
      "outputs": [
        {
          "output_type": "execute_result",
          "data": {
            "text/plain": [
              "2.3995473631943706e-08"
            ]
          },
          "metadata": {
            "tags": []
          },
          "execution_count": 10
        }
      ]
    },
    {
      "cell_type": "code",
      "metadata": {
        "id": "l2qcdm6uLIBt"
      },
      "source": [
        "def TrainingAgent(HM_EPISODES=HM_EPISODES,EPS_DECAY=EPS_DECAY,LEARNING_RATE=LEARNING_RATE,DISCOUNT=DISCOUNT,epsilon=epsilon,\n",
        "                  SIZE_H=SIZE_H,SIZE_W=SIZE_W,typeOfAntenna=\"directionnel\",TypeOfReward=\"AverageSNR\"):\n",
        "  episode_rewards = []\n",
        "  reward=0\n",
        "  for episode in range(HM_EPISODES):\n",
        "    #start the antenna in random position \n",
        "      x_=np.random.randint(0, SIZE_W)\n",
        "      y_=np.random.randint(0, SIZE_H)\n",
        "      ant = antenna(x_,y_)\n",
        "      if episode % SHOW_EVERY == 0:\n",
        "          print(f\"on #{episode}\")\n",
        "       # print(f\"{SHOW_EVERY} ep mean: {np.mean(episode_rewards[-SHOW_EVERY:])}\")\n",
        "          show = True\n",
        "      else:\n",
        "          show = False\n",
        "\n",
        "      episode_reward = 0\n",
        "      for i in range(200):\n",
        "          antennaPos = (ant) # Current Antenna X, Y Co-ord.\n",
        "         # choose an action \n",
        "          if np.random.random() > epsilon: \n",
        "              action = np.argmax(q_table[ant.x][ant.y])\n",
        "          else:\n",
        "              action = np.random.randint(0, 4) #low is inclusive high is exclusive \n",
        "            #print(action)\n",
        "        # Take the action!\n",
        "          ant.action(action) # move the  antenna\n",
        "        ###\n",
        "        #calculate the SNR\n",
        "          snr=measureSNR(ant,SIZE_H,SIZE_W,typeOfAntenna=typeOfAntenna)\n",
        "          percent=calSNRlow(snr,TypeOfReward=TypeOfReward)\n",
        "        ##\n",
        "          reward=percent\n",
        "          ###\n",
        "        #current_q = q_table[state][action]\n",
        "          newAntennaPos = (ant)\n",
        "          current_q = q_table[ant.x][ant.y][action] # Current State\n",
        "          max_future_q = np.max(q_table[ant.x][ant.y]) # Max State\n",
        "          new_q = (1 - LEARNING_RATE) * current_q + LEARNING_RATE * (reward + DISCOUNT * max_future_q)\n",
        "          q_table[ant.x][ant.y][action] = new_q\n",
        "      \n",
        "\n",
        "          episode_reward += reward\n",
        "\n",
        "        #print(episode_reward)\n",
        "      episode_rewards.append(episode_reward)\n",
        "      epsilon *= EPS_DECAY\n",
        "  return q_table"
      ],
      "execution_count": 11,
      "outputs": []
    },
    {
      "cell_type": "code",
      "metadata": {
        "colab": {
          "base_uri": "https://localhost:8080/"
        },
        "id": "RdFGXmaeqk1q",
        "outputId": "102907ac-e5b8-4ca1-b961-ca2d78402017"
      },
      "source": [
        "q_table=TrainingAgent(HM_EPISODES=HM_EPISODES,EPS_DECAY=EPS_DECAY,LEARNING_RATE=LEARNING_RATE,DISCOUNT=DISCOUNT,epsilon=epsilon,\n",
        "                  SIZE_H=SIZE_H,SIZE_W=SIZE_W,typeOfAntenna=\"directionnel\",TypeOfReward=\"AverageSNR\")"
      ],
      "execution_count": 12,
      "outputs": [
        {
          "output_type": "stream",
          "text": [
            "on #0\n",
            "on #100\n",
            "on #200\n",
            "on #300\n",
            "on #400\n",
            "on #500\n",
            "on #600\n",
            "on #700\n",
            "on #800\n",
            "on #900\n",
            "on #1000\n",
            "on #1100\n",
            "on #1200\n",
            "on #1300\n",
            "on #1400\n",
            "on #1500\n",
            "on #1600\n",
            "on #1700\n",
            "on #1800\n",
            "on #1900\n",
            "on #2000\n",
            "on #2100\n",
            "on #2200\n",
            "on #2300\n",
            "on #2400\n"
          ],
          "name": "stdout"
        }
      ]
    },
    {
      "cell_type": "code",
      "metadata": {
        "id": "TITlgL6G-CcO"
      },
      "source": [
        "#plot the result of the agent \n",
        "def GetBestPosition (q_table): \n",
        "  xval=[]\n",
        "  yval=[]\n",
        "  max_value =np.max((q_table))\n",
        "  print(max_value)\n",
        "  for i in range(SIZE_W):\n",
        "      for j in range(SIZE_H):\n",
        "        for k in range(4):\n",
        "          if max_value  == (q_table[i][j][k]):\n",
        "              xval.append(i)\n",
        "              yval.append(j)\n",
        "          else :\n",
        "              continue\n",
        "  return xval,yval"
      ],
      "execution_count": 13,
      "outputs": []
    },
    {
      "cell_type": "code",
      "metadata": {
        "id": "BNIf0z_dLX1b",
        "colab": {
          "base_uri": "https://localhost:8080/",
          "height": 434
        },
        "outputId": "c2536243-835b-4ce3-b469-13f5f607af74"
      },
      "source": [
        "xval,yval=GetBestPosition(q_table)\n",
        "# plot the output \n",
        "figure(figsize=(8, 6), dpi=80) # increase figure size \n",
        "plt.scatter(xval, yval, color= \"blue\", linewidths =10 ,marker =\"s\")\n",
        "plt.xlim(0, SIZE_H-1)\n",
        "plt.ylim(0, SIZE_W-1)\n",
        "plt.show()\n",
        "#print(q_table)\n",
        "#print(xval)\n"
      ],
      "execution_count": 14,
      "outputs": [
        {
          "output_type": "stream",
          "text": [
            "1.4848063058032433e-06\n"
          ],
          "name": "stdout"
        },
        {
          "output_type": "display_data",
          "data": {
            "image/png": "[encoded data removed]",
            "text/plain": [
              "<Figure size 640x480 with 1 Axes>"
            ]
          },
          "metadata": {
            "tags": [],
            "needs_background": "light"
          }
        }
      ]
    },
    {
      "cell_type": "markdown",
      "metadata": {
        "id": "q8wY6IrtqIyZ"
      },
      "source": [
        "#looping on q_table \n",
        "#antenna Tracing qtable \n",
        "AntTest2=antenna(2,3)\n",
        "AntTest2.x=xval[0]\n",
        "AntTest2.y=yval[0]\n",
        "for i in range(10):\n",
        "  print(AntTest2)\n",
        "  actionx = np.argmax(q_table[AntTest2.x][AntTest2.y])\n",
        "  print(actionx)\n",
        "  AntTest2.action(actionx)\n",
        "  #plt.scatter(AntTest2.x,AntTest2.y, color= \"blue\", linewidths =2 ,marker =\"s\")\n",
        "  #plt.xlim(0, 4)\n",
        "  #plt.ylim(0, 4)\n",
        "  #plt.show()\n"
      ]
    },
    {
      "cell_type": "code",
      "metadata": {
        "id": "ioNcIRd6AB4R",
        "colab": {
          "base_uri": "https://localhost:8080/"
        },
        "outputId": "fce04836-d263-4ed3-f570-3324d0435efd"
      },
      "source": [
        "#looping on the area \n",
        "#brute force check  get the optimal decision \n",
        "AntTest=antenna(2,3)\n",
        "EveryWhere={}\n",
        "max=-200\n",
        "#Move antenna Every where \n",
        "for i in range(SIZE_W):\n",
        "  for j in range(SIZE_H):\n",
        "    AntTest.x =i\n",
        "    AntTest.y = j\n",
        "    AvgSnr=calSNRlow(measureSNR(AntTest,SIZE_H,SIZE_W,typeOfAntenna=\"directionnel\"),TypeOfReward=\"AverageSNR\")\n",
        "    if AvgSnr>max:\n",
        "      max=AvgSnr\n",
        "    list_=[AntTest.x,AntTest.y,AvgSnr]\n",
        "    EveryWhere[AvgSnr]=[AntTest.x,AntTest.y]\n",
        "print(max,EveryWhere[max])\n",
        "print(EveryWhere)\n",
        "## x,y,meanSNR   "
      ],
      "execution_count": 15,
      "outputs": [
        {
          "output_type": "stream",
          "text": [
            "7.42403152964074e-08 [2, 2]\n",
            "{4.959583875574628e-08: [0, 0], 5.861926321047294e-08: [0, 1], 5.9009532187754104e-08: [0, 2], 5.679967825568434e-08: [0, 3], 1.5304082299168687e-08: [0, 4], 5.9434781563742284e-08: [1, 0], 7.202436641548189e-08: [1, 1], 7.296046853071668e-08: [3, 2], 7.045923908273441e-08: [1, 3], 2.4455495049366495e-08: [1, 4], 6.043280280854428e-08: [2, 0], 7.32327284801651e-08: [2, 1], 7.42403152964074e-08: [2, 2], 7.163030845253367e-08: [2, 3], 2.4993494876745695e-08: [2, 4], 5.989480298116507e-08: [3, 0], 7.206165911036585e-08: [3, 1], 7.042194638785048e-08: [3, 3], 2.3995473631943706e-08: [3, 4], 5.074339023096726e-08: [4, 0], 5.8402098283315766e-08: [4, 1], 5.900953218775411e-08: [4, 2], 5.701684318284152e-08: [4, 3], 1.4156530823947708e-08: [4, 4]}\n"
          ],
          "name": "stdout"
        }
      ]
    },
    {
      "cell_type": "code",
      "metadata": {
        "id": "0mCBD5MYKkX4",
        "colab": {
          "base_uri": "https://localhost:8080/"
        },
        "outputId": "89427af6-1c4d-4bb7-8dd1-79f9524ca905"
      },
      "source": [
        "#plot heat map \n",
        "import pandas as pd\n",
        "import seaborn as sns\n",
        "# sns.set()\n",
        "\n",
        "ant=antenna(xval[0],yval[0]) # put this antenna in the best location from the q table \n",
        "ArrayOfSNR=measureSNR(ant,SIZE_H,SIZE_W,typeOfAntenna=\"directionnel\")\n",
        "# convert from linear to db\n",
        "snr_db=[] \n",
        "snr_db=10*np.log10(ArrayOfSNR)\n",
        "#for SNR in (ArrayOfSNR):\n",
        "  #out_=10*np.log10(SNR)\n",
        "  #snr_db.append(out_)\n",
        "#print(snr_db)\n",
        "# Build data\n",
        "max_value_snr=np.max(snr_db)\n",
        "min_value_snr=np.min(snr_db)\n",
        "print(max_value_snr)\n",
        "print(min_value_snr)"
      ],
      "execution_count": 16,
      "outputs": [
        {
          "output_type": "stream",
          "text": [
            "-60.45674443185946\n",
            "-84.46457958136125\n"
          ],
          "name": "stdout"
        }
      ]
    },
    {
      "cell_type": "code",
      "metadata": {
        "id": "QaMhqo8CKr0-",
        "colab": {
          "base_uri": "https://localhost:8080/",
          "height": 327
        },
        "outputId": "57a892b0-7176-4461-dbca-80305bf606c3"
      },
      "source": [
        "## 1D heatmap\n",
        "plt.figure()\n",
        "plt.suptitle(\"Seaborn heatmap example to display 1d percentage values\", color='m')\n",
        "sns.set(font_scale=0.8)\n",
        "\n",
        "print(len(snr_db))\n",
        "snr_db=np.reshape(snr_db,((SIZE_H*SIZE_W-1),1)) ## size_w*size_h -1\n",
        "ax = sns.heatmap(snr_db, vmin=min_value_snr, vmax=max_value_snr)\n",
        "ax.set(xlabel='x label', ylabel='y label')\n",
        "\n",
        "plt.show()"
      ],
      "execution_count": 17,
      "outputs": [
        {
          "output_type": "stream",
          "text": [
            "24\n"
          ],
          "name": "stdout"
        },
        {
          "output_type": "display_data",
          "data": {
            "image/png": "[encoded data removed]",
            "text/plain": [
              "<Figure size 432x288 with 2 Axes>"
            ]
          },
          "metadata": {
            "tags": [],
            "needs_background": "light"
          }
        }
      ]
    },
    {
      "cell_type": "code",
      "metadata": {
        "id": "jsnvcs-QY5Qn",
        "colab": {
          "base_uri": "https://localhost:8080/"
        },
        "outputId": "1b6f1842-0b79-4b76-f497-aadc3afde651"
      },
      "source": [
        "#create 2D heatmap\n",
        "rows=[]\n",
        "row=[]\n",
        "#print(type(snr_db[0]))\n",
        "# insert a value\n",
        "position=(SIZE_H*yval[0])+ xval[0]\n",
        "snr_db_=np.insert(snr_db,position,[0])\n",
        "#print(snr_db_) # 24 value +1  if 5*5 \n",
        "for i in range(SIZE_W):\n",
        "  for j in range (SIZE_H):\n",
        "    value=snr_db_[j+(SIZE_H)*i].astype(int)\n",
        "    row.append(value)\n",
        "  #print(rows) \n",
        "  rows.append(row)\n",
        "  row=[]\n",
        "rows=np.reshape(snr_db_,(SIZE_W,SIZE_H))\n",
        "print(rows) \n"
      ],
      "execution_count": 18,
      "outputs": [
        {
          "output_type": "stream",
          "text": [
            "[[-84.46457958 -82.47548821 -83.19619934 -77.0677845  -83.4734243 ]\n",
            " [-77.67671152 -70.60163597 -69.33325573 -69.61048069 -81.2700566 ]\n",
            " [-84.34687701 -70.4839334    0.         -60.45674443 -74.31968804]\n",
            " [-81.2700566  -69.61048069 -69.33325573 -70.60163597 -77.67671152]\n",
            " [-83.4734243  -77.0677845  -83.19619934 -82.47548821 -84.46457958]]\n"
          ],
          "name": "stdout"
        }
      ]
    },
    {
      "cell_type": "code",
      "metadata": {
        "id": "N_eVcnjZb9-G",
        "colab": {
          "base_uri": "https://localhost:8080/",
          "height": 849
        },
        "outputId": "41085d28-8e1b-4c38-c208-9028fb0cdd27"
      },
      "source": [
        "#2D heatmap\n",
        "plt.figure()\n",
        "plt.suptitle(\"Seaborn heatmap example to display 2d percentage values\", color='m')\n",
        "sns.set(font_scale=0.8)\n",
        "\n",
        "#print(type(rows))\n",
        "figure(figsize=(8, 6), dpi=80) # increase figure size \n",
        "rows_db=np.reshape(rows,(SIZE_W,SIZE_H))\n",
        "ax = sns.heatmap(rows_db, vmin=min_value_snr, vmax=max_value_snr)\n",
        "ax.set(xlabel='x label', ylabel='y label')\n",
        "\n",
        "\n",
        "plt.show()\n",
        "figure(figsize=(8, 6), dpi=80) # increase figure size \n",
        "plt.scatter(xval, yval, color= \"green\", linewidths =10 ,marker =\"s\")\n",
        "plt.xlim(0, SIZE_H-1)\n",
        "plt.ylim(0, SIZE_W-1)\n",
        "plt.show()"
      ],
      "execution_count": 19,
      "outputs": [
        {
          "output_type": "display_data",
          "data": {
            "text/plain": [
              "<Figure size 432x288 with 0 Axes>"
            ]
          },
          "metadata": {
            "tags": []
          }
        },
        {
          "output_type": "display_data",
          "data": {
            "image/png": "[encoded data removed]",
            "text/plain": [
              "<Figure size 640x480 with 2 Axes>"
            ]
          },
          "metadata": {
            "tags": []
          }
        },
        {
          "output_type": "display_data",
          "data": {
            "image/png": "[encoded data removed]",
            "text/plain": [
              "<Figure size 640x480 with 1 Axes>"
            ]
          },
          "metadata": {
            "tags": []
          }
        }
      ]
    }
  ]
}