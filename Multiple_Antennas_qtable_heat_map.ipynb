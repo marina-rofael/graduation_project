{
  "nbformat": 4,
  "nbformat_minor": 0,
  "metadata": {
    "colab": {
      "name": "Multiple Antennas_qtable_heat map",
      "provenance": [],
      "collapsed_sections": [],
      "include_colab_link": true
    },
    "kernelspec": {
      "display_name": "Python 3",
      "name": "python3"
    },
    "language_info": {
      "name": "python"
    }
  },
  "cells": [
    {
      "cell_type": "markdown",
      "metadata": {
        "id": "view-in-github",
        "colab_type": "text"
      },
      "source": [
        "<a href=\"https://colab.research.google.com/github/monikamikhaiel/graduation-project-/blob/main/Multiple_Antennas_qtable_heat_map.ipynb\" target=\"_parent\"><img src=\"https://colab.research.google.com/assets/colab-badge.svg\" alt=\"Open In Colab\"/></a>"
      ]
    },
    {
      "cell_type": "code",
      "metadata": {
        "id": "gP53XJtFISeC"
      },
      "source": [
        "import numpy as np  # for array stuff and random\n",
        "import matplotlib.pyplot as plt  # for graphing our mean rewards over time\n",
        "from matplotlib.pyplot import figure\n",
        "from matplotlib import style  # to make pretty charts because it matters.\n",
        "import time  # using this to keep track of our saved Q-Tables.\n",
        "style.use(\"ggplot\")  # setting our style!"
      ],
      "execution_count": 1,
      "outputs": []
    },
    {
      "cell_type": "code",
      "metadata": {
        "id": "9nDFjr7CKd3y",
        "colab": {
          "base_uri": "https://localhost:8080/"
        },
        "outputId": "1f8f2935-8270-4216-db66-e0a1493b226e"
      },
      "source": [
        "#the size of the area \n",
        "SIZE_W = int(input(\"please enter the width of the building in meter :\"))\n",
        "SIZE_H = int(input(\"please enter the height of the building in meter :\"))\n",
        "print(SIZE_H,SIZE_W)"
      ],
      "execution_count": 2,
      "outputs": [
        {
          "output_type": "stream",
          "text": [
            "please enter the width of the building in meter :10\n",
            "please enter the height of the building in meter :10\n",
            "10 10\n"
          ],
          "name": "stdout"
        }
      ]
    },
    {
      "cell_type": "code",
      "metadata": {
        "id": "Ct1MEcAwKhYq",
        "colab": {
          "base_uri": "https://localhost:8080/"
        },
        "outputId": "cf5eea04-5074-4752-fc74-ef7b6b78ff18"
      },
      "source": [
        "HM_EPISODES = 2500\n",
        "epsilon = 0.5  # randomness\n",
        "EPS_DECAY = 0.9999  # Every episode will be epsilon*EPS_DECAY\n",
        "SHOW_EVERY = 100  # how often to play through env visually.\n",
        "\n",
        "start_q_table = None  # if we have a pickled Q table, we'll put the filename of it here.\n",
        "\n",
        "LEARNING_RATE = 0.1\n",
        "DISCOUNT = 0.95\n",
        "ANTENNA_N = int(input(\"please enter the number of antennas ?\"))  # NUMBER OF ANTENNAS \n",
        "#SNR RANGES\n",
        "snr_range={\"highSNR_max\":-50,\"highSNR_min\":-80,\n",
        "           \"mediumSNR_max\":-90,\"mediumSNR_min\":-100,\n",
        "          \"deadzone\":-120}\n"
      ],
      "execution_count": 3,
      "outputs": [
        {
          "output_type": "stream",
          "text": [
            "please enter the number of antennas ?4\n"
          ],
          "name": "stdout"
        }
      ]
    },
    {
      "cell_type": "code",
      "metadata": {
        "id": "hDLiiMUeKqUw"
      },
      "source": [
        "#antenna\n",
        "class antenna:\n",
        "    def __init__(self,x_,y_):\n",
        "      if not x_:\n",
        "        self.x = np.random.randint(0, SIZE_W)\n",
        "      else:\n",
        "        self.x=x_\n",
        "      if not y_:\n",
        "        self.y = np.random.randint(0, SIZE_H)\n",
        "      else:\n",
        "        self.y=y_\n",
        "    def __str__(self):\n",
        "        return f\"{self.x}, {self.y}\"\n",
        "    def __sub__(self, other):\n",
        "        return (self.x-other.x, self.y-other.y)\n",
        "    def action(self, choice):\n",
        "        '''\n",
        "        Gives us 4 total movement options. (0,1,2,3)\n",
        "        '''\n",
        "        if choice == 0:  #up\n",
        "            #self.move(x=0, y=1)\n",
        "            self.x=self.x\n",
        "            self.y+=1\n",
        "            self.move()\n",
        "\n",
        "        elif choice == 1:  #down\n",
        "            #self.move(x=0, y=-1)\n",
        "            self.x=self.x\n",
        "            self.y-=1\n",
        "            self.move()\n",
        "\n",
        "        elif choice == 2:  #left\n",
        "           # self.move(x=-1, y=0)\n",
        "            self.x-=1\n",
        "            self.y=self.y\n",
        "            self.move()\n",
        "\n",
        "        elif choice == 3:    #right\n",
        "            # self.move(x=1, y=0)\n",
        "            self.x+=1\n",
        "            self.y=self.y\n",
        "            self.move()\n",
        "\n",
        "#    def move(self, x=False, y=False):\n",
        "    def move(self):\n",
        "        # If no value for x, move randomly\n",
        "      #  if not x:\n",
        "      #      self.x += np.random.randint(-1, 2)\n",
        "       # elif x==0:\n",
        "      #      self.x=self.x\n",
        "      #  else:\n",
        "       #     self.x += x\n",
        "\n",
        "        # If no value for y, move randomly\n",
        "       # if not y:\n",
        "        #    self.y += np.random.randint(-1, 2)\n",
        "       # elif y==0:\n",
        "        #    self.y=self.y\n",
        "       # else:\n",
        "        #    self.y += y\n",
        "      # If we are out of bounds, fix!\n",
        "        if self.x < 0:\n",
        "            self.x = 0\n",
        "        elif self.x > SIZE_W-1:\n",
        "            self.x = SIZE_W-1\n",
        "        if self.y < 0:\n",
        "            self.y = 0\n",
        "        elif self.y > SIZE_H-1:\n",
        "            self.y = SIZE_H-1\n",
        "\n"
      ],
      "execution_count": 4,
      "outputs": []
    },
    {
      "cell_type": "code",
      "metadata": {
        "id": "6E9GEGIcKwQe",
        "colab": {
          "base_uri": "https://localhost:8080/"
        },
        "outputId": "22f2c6e4-5130-47ff-8e69-93211972aaef"
      },
      "source": [
        "ant = antenna(2,3)\n",
        "print(ant)\n",
        "ant.action(0) # up\n",
        "print(ant)\n",
        "ant.action(1) #down \n",
        "print(ant)\n",
        "ant.action(2) #left\n",
        "print(ant)\n",
        "ant.action(3) #right \n",
        "print(ant)\n"
      ],
      "execution_count": 5,
      "outputs": [
        {
          "output_type": "stream",
          "text": [
            "2, 3\n",
            "2, 4\n",
            "2, 3\n",
            "1, 3\n",
            "2, 3\n"
          ],
          "name": "stdout"
        }
      ]
    },
    {
      "cell_type": "code",
      "metadata": {
        "id": "VUA5sED5K4om",
        "colab": {
          "base_uri": "https://localhost:8080/"
        },
        "outputId": "6e0da249-90f1-453d-8a5e-72d32e788dae"
      },
      "source": [
        "x = SIZE_W # Building X\n",
        "y = SIZE_H # Building Y\n",
        "z = 4 # actions\n",
        "## increase the size of a qtable dynamically from the number of antennas \n",
        "q_table={}\n",
        "for i in range(ANTENNA_N):\n",
        "  q_table[i]=np.zeros((x,y,z))\n",
        "  print(q_table[i].shape)\n",
        "\n",
        "#print(q_table)\n",
        "# q_table *= 0"
      ],
      "execution_count": 6,
      "outputs": [
        {
          "output_type": "stream",
          "text": [
            "(10, 10, 4)\n",
            "(10, 10, 4)\n",
            "(10, 10, 4)\n",
            "(10, 10, 4)\n"
          ],
          "name": "stdout"
        }
      ]
    },
    {
      "cell_type": "code",
      "metadata": {
        "id": "UjlfgMCzAzex"
      },
      "source": [
        "#okomora model \n",
        "def okomora(ant,SIZE_H,SIZE_W):\n",
        "  Arr_PathLoss=[]\n",
        "  Arr_FPL=[]\n",
        "  attenuation= 13 #in db function of frequency and distance \n",
        "  freq= 2.4*(10^9) # the frequency og the signal\n",
        "  c= 3*(10^8) # the speed of light\n",
        "  #hte = input(\"please enter the height of the transmitter antenna ? \")\n",
        "  #hre = input(\"please enter the height of the receiver antenna ? \")\n",
        "  hte= 20\n",
        "  hre= 2\n",
        "  G_hte = 10*np.log(int(hte) /200) \n",
        "  G_hre = 10*np.log(int(hre)/ 3)\n",
        "  G_Area =27 # (Quasi Open Area)\n",
        "  for i in range(SIZE_H):\n",
        "    for j in range(SIZE_W):\n",
        "      difference = [ant.x-i,ant.y-j]\n",
        "      if difference == [0,0]:\n",
        "        continue\n",
        "      else:\n",
        "        ## calculate the pathloss\n",
        "        distance=pow((pow(difference[0],2)+pow(difference[1],2)),0.5)\n",
        "        FPL=20*np.log(4*np.pi*distance*freq/c)\n",
        "        Arr_FPL.append (20*np.log(4*np.pi*distance*freq/c))\n",
        "        Path_Loss = FPL + attenuation - G_hte - G_hre - G_Area\n",
        "        Arr_PathLoss.append(Path_Loss)\n",
        "  return Arr_PathLoss\n",
        "#len(okomora(ant,SIZE_H,SIZE_W))"
      ],
      "execution_count": 7,
      "outputs": []
    },
    {
      "cell_type": "code",
      "metadata": {
        "id": "ZhiHQdPgBPKP"
      },
      "source": [
        "def AnglesInDegrees(ant,SIZE_H,SIZE_W):\n",
        "  theta=[]\n",
        "  for i in range(SIZE_H):\n",
        "    for j in range(SIZE_W):\n",
        "      difference = [ant.x-i,ant.y-j]\n",
        "      if difference==[0,0]: # the same position as the antenna \n",
        "        continue\n",
        "      if difference[0]==0:     # the angle itself is either 90 or 270 tan will be infinite \n",
        "          if difference[1]>0:\n",
        "            t=90\n",
        "            theta.append(90)\n",
        "          else:\n",
        "            t=270\n",
        "            theta.append(270)\n",
        "      else:\n",
        "          tantheta= difference[1]/difference[0]\n",
        "          t=np.degrees(np.arctan(tantheta))\n",
        "          if t <=0:\n",
        "            t+=360\n",
        "            theta.append(t)\n",
        "          else:\n",
        "            theta.append(t)\n",
        "  return theta\n",
        "#print(len(AnglesInDegrees(ant,SIZE_H,SIZE_W)))"
      ],
      "execution_count": 8,
      "outputs": []
    },
    {
      "cell_type": "code",
      "metadata": {
        "id": "Q-YCAFATC7SQ"
      },
      "source": [
        "def measureSNR(ant,SIZE_H,SIZE_W,typeOfAntenna=\"omnidirectionnel\"):\n",
        "  Path_Loss=okomora(ant,SIZE_H,SIZE_W)\n",
        "  Gain=[]\n",
        "  if typeOfAntenna == \"omnidirectionnel\" :\n",
        "    Gain_pannel=7 #in db\n",
        "    for i in range(len(Path_Loss)):\n",
        "      Gain.append(Gain_pannel-Path_Loss[i])\n",
        "  elif typeOfAntenna== \"directionnel\":\n",
        "    thetas=AnglesInDegrees(ant,SIZE_H,SIZE_W)\n",
        "    GainVsTheta={360:-20,30:-10,60:-5,90:15,120:0,150:-10,180:-20,210:-10,240:-8,270:-15,300:-8,330:-10} # values in db angle:gain\n",
        "    for i in range(len(thetas)):\n",
        "      t=thetas[i]\n",
        "      if t==0:\n",
        "       value = GainVsTheta[360]\n",
        "      elif t<=30:\n",
        "        value = GainVsTheta[30]\n",
        "      elif 30<t<=60:\n",
        "        value = GainVsTheta[60]\n",
        "      elif 60<t<=90:\n",
        "        value = GainVsTheta[90]\n",
        "      elif 90<t<=120:\n",
        "        value = GainVsTheta[120]\n",
        "      elif 120<t<=150:\n",
        "        value = GainVsTheta[150]\n",
        "      elif 150<t<=180:\n",
        "        value = GainVsTheta[180]\n",
        "      elif 180<t<=210:\n",
        "        value = GainVsTheta[210]\n",
        "      elif 210<t<=240:\n",
        "        value = GainVsTheta[240]\n",
        "      elif 240<t<=270:\n",
        "        value = GainVsTheta[270]\n",
        "      elif 270<t<=300:\n",
        "        value = GainVsTheta[300]\n",
        "      elif 300<t<=330:\n",
        "        value = GainVsTheta[330]\n",
        "      elif 330<t<=360:\n",
        "        value = GainVsTheta[360]\n",
        "      Gain.append(value-Path_Loss[i])\n",
        "  Magnitude=[]\n",
        "  for g in Gain:\n",
        "    mag=pow(10,(g/10))\n",
        "    Magnitude.append(mag)\n",
        "  return Magnitude #return in magnitude \n",
        "  #output in magnitude not db \n",
        "ant=antenna(2,3)\n",
        "#measureSNR(ant,SIZE_H,SIZE_W,typeOfAntenna=\"omnidirectionnel\")\n"
      ],
      "execution_count": 9,
      "outputs": []
    },
    {
      "cell_type": "code",
      "metadata": {
        "id": "AK9PzO2BLC2M",
        "colab": {
          "base_uri": "https://localhost:8080/"
        },
        "outputId": "ba269cbe-7507-415a-e2c9-45145018c784"
      },
      "source": [
        "def calSNRlow(SNR,TypeOfReward):\n",
        "  if TypeOfReward==\"AverageSNR\":\n",
        "   return np.mean(SNR)\n",
        "  elif TypeOfReward==\"MinSNR\":\n",
        "   return np.min(SNR)\n",
        "  else:\n",
        "    counter =0\n",
        "    percent=0\n",
        "    min= 5.095204897841283e-9\n",
        "    for i in range(len(SNR)):\n",
        "      if SNR[i] < min:\n",
        "        counter+=1\n",
        "        percent=counter*100/len(SNR)\n",
        "    return percent\n",
        "ant=antenna(2,3)\n",
        "calSNRlow(measureSNR (ant,SIZE_H,SIZE_W),TypeOfReward=\"AverageSNR\")"
      ],
      "execution_count": 10,
      "outputs": [
        {
          "output_type": "execute_result",
          "data": {
            "text/plain": [
              "4.941078389451243e-08"
            ]
          },
          "metadata": {
            "tags": []
          },
          "execution_count": 10
        }
      ]
    },
    {
      "cell_type": "code",
      "metadata": {
        "id": "FwoPAVamNPBM"
      },
      "source": [
        "def differnceXandY(ant1,ant2):\n",
        "  diff_X= ant1.x-ant2.x\n",
        "  diff_Y= ant1.y-ant2.y\n",
        "  return diff_X,diff_Y"
      ],
      "execution_count": 11,
      "outputs": []
    },
    {
      "cell_type": "code",
      "metadata": {
        "id": "8uAbylNf0gBR",
        "colab": {
          "base_uri": "https://localhost:8080/"
        },
        "outputId": "6978ceae-ff72-412f-fb8d-1d697a9d1c4e"
      },
      "source": [
        "def RewardCalc(antennas_object,ANTENNA_N,typeOfAntenna=\"omnidirectionnel\",TypeOfReward=\"AverageSNR\"):\n",
        "  mini_distance_X= 1\n",
        "  mini_distance_Y= 1   \n",
        "  antennas_meanSNR={} # antenna and their mean values\n",
        "  #antennas_object={} # antenna and their classes\n",
        "  reward=0\n",
        "  reward_arr=np.zeros(((SIZE_H*SIZE_W)))\n",
        "  Magnitude=[]\n",
        "  for i in range(ANTENNA_N):\n",
        "    #antennas_object[i]=antenna()\n",
        "    antennas_meanSNR[i]=measureSNR(antennas_object[i],SIZE_H,SIZE_W,typeOfAntenna=typeOfAntenna)\n",
        "    #print(antennas_meanSNR[i])\n",
        "    #shift the list of SNRs before multiplying /or adding them \n",
        "    # to db\n",
        "    antennas_meanSNR[i]=10*np.log10(antennas_meanSNR[i])\n",
        "    ## if rect \n",
        "    if SIZE_H>SIZE_W:\n",
        "      position=(SIZE_W*(antennas_object[i].x)) + (antennas_object[i].y)\n",
        "    else:\n",
        "      position=(SIZE_H*(antennas_object[i].y)) + (antennas_object[i].x)\n",
        "    if len(antennas_meanSNR[i]) >= len(reward_arr) :\n",
        "      continue\n",
        "    else:\n",
        "      antennas_meanSNR[i]=np.insert(antennas_meanSNR[i],position,0)\n",
        "    #print(len(antennas_meanSNR[i]),len(reward_arr),antennas_object[i].x,antennas_object[i].y)\n",
        "  #print(antennas)\n",
        "    reward_arr=np.add(reward_arr,antennas_meanSNR[i])\n",
        "    # magnitude\n",
        "  # from db to magnitude \n",
        "    for g in reward_arr:\n",
        "      mag=pow(10,(g/10))\n",
        "      Magnitude.append(mag)\n",
        "  reward=calSNRlow(Magnitude,TypeOfReward=TypeOfReward)\n",
        "  #reward/=ANTENNA_N\n",
        "  #calculate the difference between each 2 antennas  \n",
        "  for i in range(ANTENNA_N):\n",
        "    for j in range(i):\n",
        "      if i==j:\n",
        "        continue\n",
        "      else:\n",
        "        #print(i,j)\n",
        "        x,y=differnceXandY(antennas_object[i],antennas_object[j]) \n",
        "        if (x <= mini_distance_X) & (y <= mini_distance_Y):\n",
        "          reward*=0.1 \n",
        "        if reward==0:\n",
        "          break\n",
        "#convert from db into magnitude \n",
        "  #  mag=pow(10,(reward/10))\n",
        "  return reward  \n",
        "antennas_object={}\n",
        "for i in range(ANTENNA_N):\n",
        "  antennas_object[i]=antenna(2+i,3+i)\n",
        "  #print( antennas_object[i].x, antennas_object[i].y)\n",
        "\n",
        "RewardCalc(antennas_object,ANTENNA_N)"
      ],
      "execution_count": 12,
      "outputs": [
        {
          "output_type": "execute_result",
          "data": {
            "text/plain": [
              "2.5000124188140035e-06"
            ]
          },
          "metadata": {
            "tags": []
          },
          "execution_count": 12
        }
      ]
    },
    {
      "cell_type": "code",
      "metadata": {
        "id": "l2qcdm6uLIBt"
      },
      "source": [
        "def TrainingAgent(HM_EPISODES=HM_EPISODES,EPS_DECAY=EPS_DECAY,LEARNING_RATE=LEARNING_RATE,DISCOUNT=DISCOUNT,epsilon=epsilon,\n",
        "                  ANTENNA_N=ANTENNA_N,SIZE_H=SIZE_H,SIZE_W=SIZE_W,typeOfAntenna=\"omnidirectionnel\",TypeOfReward=\"AverageSNR\"):\n",
        "## actions\n",
        "  actions={}\n",
        "## antennas object\n",
        "  antennas_object={} # antenna and their classes\n",
        "##\n",
        "  episode_rewards = []\n",
        "  reward=0\n",
        "  for episode in range(HM_EPISODES):\n",
        "      x_=np.random.randint(0, SIZE_W)\n",
        "      y_=np.random.randint(0, SIZE_H)\n",
        "      for i in range(ANTENNA_N):\n",
        "        antennas_object[i]=antenna(x_,y_)\n",
        "      if episode % SHOW_EVERY == 0:\n",
        "          print(f\"on #{episode}\")\n",
        "       # print(f\"{SHOW_EVERY} ep mean: {np.mean(episode_rewards[-SHOW_EVERY:])}\")\n",
        "          show = True\n",
        "      else:\n",
        "          show = False\n",
        "\n",
        "      episode_reward = 0\n",
        "      for i in range(200):\n",
        "        if np.random.random() > epsilon:\n",
        "          for i in range(ANTENNA_N):\n",
        "            actions[i] = np.argmax(q_table[i][antennas_object[i].x][antennas_object[i].y]) # antenna 1\n",
        "        else:\n",
        "          for i in range(ANTENNA_N):\n",
        "            actions[i] = np.random.randint(0, 4) #low is inclusive high is exclusive\n",
        "            #print(action)\n",
        "        # Take the action!\n",
        "        for i in range(ANTENNA_N):\n",
        "          antennas_object[i].action(actions[i]) #move the  antenna\n",
        "        ###\n",
        "        #calculate the SNR\n",
        "        reward=RewardCalc(antennas_object,ANTENNA_N,typeOfAntenna=typeOfAntenna,TypeOfReward=TypeOfReward)\n",
        "          ###\n",
        "        #current_q = q_table[state][action]\n",
        "        #antena 1\n",
        "        for i in range(ANTENNA_N):\n",
        "            newAntennaPos = (ant)\n",
        "            current_q = q_table[i][antennas_object[i].x][antennas_object[i].y][actions[i]] # Current State\n",
        "            max_future_q = np.max(q_table[i][antennas_object[i].x][antennas_object[i].y]) # Max State\n",
        "            new_q = (1 - LEARNING_RATE) * current_q + LEARNING_RATE * (reward + DISCOUNT * max_future_q)\n",
        "            q_table[i][antennas_object[i].x][antennas_object[i].y][actions[i]] = new_q\n",
        "\n",
        "\n",
        "        #episode_reward += reward\n",
        "\n",
        "        #print(episode_reward)\n",
        "      #episode_rewards.append(episode_reward)\n",
        "      epsilon *= EPS_DECAY \n",
        "  return q_table"
      ],
      "execution_count": 13,
      "outputs": []
    },
    {
      "cell_type": "code",
      "metadata": {
        "id": "MlRe2xlS-qq8",
        "colab": {
          "base_uri": "https://localhost:8080/"
        },
        "outputId": "abb18fff-c5bb-4c80-c9e7-04cec1dd507d"
      },
      "source": [
        "q_table=TrainingAgent(HM_EPISODES=HM_EPISODES,EPS_DECAY=EPS_DECAY,LEARNING_RATE=LEARNING_RATE,DISCOUNT=DISCOUNT,epsilon=epsilon,\n",
        "                  ANTENNA_N=ANTENNA_N,SIZE_H=SIZE_H,SIZE_W=SIZE_W,typeOfAntenna=\"omnidirectionnel\",TypeOfReward=\"MinSNR\")"
      ],
      "execution_count": 14,
      "outputs": [
        {
          "output_type": "stream",
          "text": [
            "on #0\n",
            "on #100\n",
            "on #200\n",
            "on #300\n",
            "on #400\n",
            "on #500\n",
            "on #600\n",
            "on #700\n",
            "on #800\n",
            "on #900\n",
            "on #1000\n",
            "on #1100\n",
            "on #1200\n",
            "on #1300\n",
            "on #1400\n",
            "on #1500\n",
            "on #1600\n",
            "on #1700\n",
            "on #1800\n",
            "on #1900\n",
            "on #2000\n",
            "on #2100\n",
            "on #2200\n",
            "on #2300\n",
            "on #2400\n"
          ],
          "name": "stdout"
        }
      ]
    },
    {
      "cell_type": "code",
      "metadata": {
        "id": "XfPPRs2XWzYj",
        "colab": {
          "base_uri": "https://localhost:8080/",
          "height": 595
        },
        "outputId": "7271403a-61e2-4085-8152-e3812c586e56"
      },
      "source": [
        "xval_={}\n",
        "yval_={}\n",
        "for n in range(ANTENNA_N):\n",
        "  max_value =np.max((q_table[n]))\n",
        "  print(max_value)\n",
        "  for i in range(SIZE_W):\n",
        "    for j in range(SIZE_H):\n",
        "      for k in range(4):\n",
        "        if max_value == (q_table[n][i][j][k]):\n",
        "          xval_[n]=[i]\n",
        "          yval_[n]=[j]\n",
        "        else :\n",
        "          continue\n",
        "#outputOfTraining(q_table)\n",
        "figure(figsize=(8, 6), dpi=80) # increase figure size \n",
        "print(xval_,yval_)\n",
        "for n in range(ANTENNA_N):\n",
        "  plt.scatter(xval_[n], yval_[n], color= \"blue\", linewidths =2 ,marker =\"s\")\n",
        "plt.xlim(0, SIZE_H-1)\n",
        "plt.ylim(0, SIZE_W-1)\n",
        "plt.show()\n",
        "antennas_object_toplot_heat={}\n",
        "for n in range(ANTENNA_N):\n",
        "  print(xval_[n],yval_[n])\n",
        "  antennas_object_toplot_heat[n]=[xval_[n][0],yval_[n][0]]\n",
        "print(antennas_object_toplot_heat)\n"
      ],
      "execution_count": 15,
      "outputs": [
        {
          "output_type": "stream",
          "text": [
            "3.0463136836304787e-40\n",
            "2.5588695468821297e-40\n",
            "2.223055914524884e-40\n",
            "2.48605396069436e-40\n",
            "{0: [3], 1: [2], 2: [6], 3: [8]} {0: [2], 1: [5], 2: [4], 3: [5]}\n"
          ],
          "name": "stdout"
        },
        {
          "output_type": "display_data",
          "data": {
            "image/png": "[encoded data removed]",
            "text/plain": [
              "<Figure size 640x480 with 1 Axes>"
            ]
          },
          "metadata": {
            "tags": [],
            "needs_background": "light"
          }
        },
        {
          "output_type": "stream",
          "text": [
            "[3] [2]\n",
            "[2] [5]\n",
            "[6] [4]\n",
            "[8] [5]\n",
            "{0: [3, 2], 1: [2, 5], 2: [6, 4], 3: [8, 5]}\n"
          ],
          "name": "stdout"
        }
      ]
    },
    {
      "cell_type": "markdown",
      "metadata": {
        "id": "oGLYrjQQWrLP"
      },
      "source": [
        "Average SNR must be constant "
      ]
    },
    {
      "cell_type": "markdown",
      "metadata": {
        "id": "xp3xUZCTFz_K"
      },
      "source": [
        "assume that power adds up (SNR) -> reward \n",
        "qtable -> add the positions of new antenna and actions \n",
        "3 antennas optimization all area \n"
      ]
    },
    {
      "cell_type": "code",
      "metadata": {
        "id": "ioNcIRd6AB4R",
        "colab": {
          "base_uri": "https://localhost:8080/"
        },
        "outputId": "f3d9bd34-fab3-4293-f540-647ccf31b9f2"
      },
      "source": [
        "antennas_object_heatmap={} #dict for antennas and their position \n",
        "SumOfSNR=np.zeros((1,SIZE_H*SIZE_W))\n",
        "position=[]\n",
        "for n in range(ANTENNA_N):\n",
        "  x=antennas_object_toplot_heat[n][0]\n",
        "  y=antennas_object_toplot_heat[n][1]\n",
        "  antennas_object_heatmap[n]=antenna(x,y)\n",
        "  #1d coordinate \n",
        "  position.append((SIZE_H*x)+ y)\n",
        "  ArrayOfSNR=measureSNR(antennas_object_heatmap[n],SIZE_H,SIZE_W,typeOfAntenna=\"omnidirectionnel\")\n",
        "  ## convert from magnitude to db \n",
        "  ArrayOfSNR=10*np.log10(ArrayOfSNR)\n",
        "  ArrayOfSNR=np.insert(ArrayOfSNR,position[n],0)\n",
        "  SumOfSNR=np.add(SumOfSNR,ArrayOfSNR)\n",
        "for i in range(len(SumOfSNR)):\n",
        "  SumOfSNR[i]/=ANTENNA_N #average \n",
        "print(len(SumOfSNR[0])) "
      ],
      "execution_count": 16,
      "outputs": [
        {
          "output_type": "stream",
          "text": [
            "100\n"
          ],
          "name": "stdout"
        }
      ]
    },
    {
      "cell_type": "code",
      "metadata": {
        "id": "0mCBD5MYKkX4",
        "colab": {
          "base_uri": "https://localhost:8080/"
        },
        "outputId": "cca5794e-767d-4e8f-c2b6-5539032acce3"
      },
      "source": [
        "import pandas as pd\n",
        "import seaborn as sns\n",
        "# sns.set()\n",
        "snr_db=SumOfSNR\n",
        "#for SNR in (SumOfSNR):\n",
        "#  out_=10*np.log10(SNR)\n",
        "#  snr_db.append(out_)\n",
        "#print(snr_db)\n",
        "# Build data\n",
        "max_value_snr=np.max(snr_db)\n",
        "min_value_snr=np.min(snr_db)\n",
        "print(max_value_snr)\n",
        "print(min_value_snr)"
      ],
      "execution_count": 17,
      "outputs": [
        {
          "output_type": "stream",
          "text": [
            "-62.779565099594876\n",
            "-99.22010754365601\n"
          ],
          "name": "stdout"
        }
      ]
    },
    {
      "cell_type": "code",
      "metadata": {
        "id": "QaMhqo8CKr0-",
        "colab": {
          "base_uri": "https://localhost:8080/",
          "height": 328
        },
        "outputId": "c4758733-7822-49bb-a302-30afe8f3deae"
      },
      "source": [
        "## 1D heatmap\n",
        "plt.figure()\n",
        "plt.suptitle(\"Seaborn heatmap example to display 1d percentage values\", color='m')\n",
        "sns.set(font_scale=0.8)\n",
        "\n",
        "print(len(snr_db))\n",
        "snr_db=np.reshape(snr_db,((SIZE_H*SIZE_W),1)) ## size_w*size_h -1\n",
        "ax = sns.heatmap(snr_db, vmin=min_value_snr, vmax=max_value_snr)\n",
        "ax.set(xlabel='x label', ylabel='y label')\n",
        "\n",
        "plt.show()"
      ],
      "execution_count": 18,
      "outputs": [
        {
          "output_type": "stream",
          "text": [
            "1\n"
          ],
          "name": "stdout"
        },
        {
          "output_type": "display_data",
          "data": {
            "image/png": "[encoded data removed]",
            "text/plain": [
              "<Figure size 432x288 with 2 Axes>"
            ]
          },
          "metadata": {
            "tags": [],
            "needs_background": "light"
          }
        }
      ]
    },
    {
      "cell_type": "code",
      "metadata": {
        "id": "jsnvcs-QY5Qn",
        "colab": {
          "base_uri": "https://localhost:8080/"
        },
        "outputId": "0a363325-dbc1-4717-da2d-2181acc41391"
      },
      "source": [
        "#create 2D heatmap\n",
        "rows=[]\n",
        "#print(type(snr_db[0]))\n",
        "# insert a value\n",
        "#convert 2d array \n",
        "snr_db=np.reshape(snr_db,(SIZE_H,SIZE_W))\n",
        "#snr_db=10*(np.log10(snr_db))\n",
        "print(snr_db)\n",
        "for n in range(ANTENNA_N):\n",
        "  x=antennas_object_toplot_heat[n][0]\n",
        "  y=antennas_object_toplot_heat[n][1]\n",
        "  snr_db[y][x]=0\n",
        "#print(snr_db)\n",
        "rows=snr_db\n",
        "print(rows) \n"
      ],
      "execution_count": 19,
      "outputs": [
        {
          "output_type": "stream",
          "text": [
            "[[-96.27773128 -94.06493431 -92.20120016 -90.87854872 -90.17815178\n",
            "  -90.46358587 -92.07636924 -94.42734874 -96.8807056  -99.22010754]\n",
            " [-93.73535619 -90.70591571 -88.13896382 -86.46557878 -85.10613697\n",
            "  -84.63458357 -87.76791381 -91.53088354 -94.76111715 -97.57220692]\n",
            " [-91.35972685 -86.9370567  -82.84646644 -81.85125394 -80.32977945\n",
            "  -67.058857   -83.94707691 -89.22778353 -93.04877029 -96.22098687]\n",
            " [-89.78564241 -83.94031101 -66.245301   -78.54571517 -79.18432473\n",
            "  -79.64413182 -83.56937258 -88.0623714  -91.92576904 -95.25983367]\n",
            " [-89.56251329 -84.64632987 -80.0055849  -78.79181536 -78.94337691\n",
            "  -80.52468331 -83.73568344 -87.59296736 -91.32360651 -94.69938562]\n",
            " [-90.26085792 -86.22185472 -82.28860756 -78.92862761 -77.05894741\n",
            "  -79.47878232 -83.37326902 -87.34686718 -91.10450887 -94.51276834]\n",
            " [-91.39343303 -87.7506127  -83.76577839 -78.79181536 -62.7795651\n",
            "  -77.97055519 -82.96697169 -87.34431538 -91.25510907 -94.69938562]\n",
            " [-92.84508099 -89.55387771 -85.87484872 -81.60515375 -77.71485807\n",
            "  -78.17466516 -82.91346192 -87.82964534 -91.88092479 -95.29559113]\n",
            " [-94.57936257 -91.71461393 -88.60292917 -85.20418875 -81.25868835\n",
            "  -67.058857   -83.85724689 -89.22778353 -93.1236511  -96.3354015 ]\n",
            " [-96.52221036 -94.1196438  -91.62615908 -89.08050017 -86.57560363\n",
            "  -85.35008779 -88.15082624 -91.79985671 -94.9938432  -97.78894907]]\n",
            "[[-96.27773128 -94.06493431 -92.20120016 -90.87854872 -90.17815178\n",
            "  -90.46358587 -92.07636924 -94.42734874 -96.8807056  -99.22010754]\n",
            " [-93.73535619 -90.70591571 -88.13896382 -86.46557878 -85.10613697\n",
            "  -84.63458357 -87.76791381 -91.53088354 -94.76111715 -97.57220692]\n",
            " [-91.35972685 -86.9370567  -82.84646644   0.         -80.32977945\n",
            "  -67.058857   -83.94707691 -89.22778353 -93.04877029 -96.22098687]\n",
            " [-89.78564241 -83.94031101 -66.245301   -78.54571517 -79.18432473\n",
            "  -79.64413182 -83.56937258 -88.0623714  -91.92576904 -95.25983367]\n",
            " [-89.56251329 -84.64632987 -80.0055849  -78.79181536 -78.94337691\n",
            "  -80.52468331   0.         -87.59296736 -91.32360651 -94.69938562]\n",
            " [-90.26085792 -86.22185472   0.         -78.92862761 -77.05894741\n",
            "  -79.47878232 -83.37326902 -87.34686718   0.         -94.51276834]\n",
            " [-91.39343303 -87.7506127  -83.76577839 -78.79181536 -62.7795651\n",
            "  -77.97055519 -82.96697169 -87.34431538 -91.25510907 -94.69938562]\n",
            " [-92.84508099 -89.55387771 -85.87484872 -81.60515375 -77.71485807\n",
            "  -78.17466516 -82.91346192 -87.82964534 -91.88092479 -95.29559113]\n",
            " [-94.57936257 -91.71461393 -88.60292917 -85.20418875 -81.25868835\n",
            "  -67.058857   -83.85724689 -89.22778353 -93.1236511  -96.3354015 ]\n",
            " [-96.52221036 -94.1196438  -91.62615908 -89.08050017 -86.57560363\n",
            "  -85.35008779 -88.15082624 -91.79985671 -94.9938432  -97.78894907]]\n"
          ],
          "name": "stdout"
        }
      ]
    },
    {
      "cell_type": "code",
      "metadata": {
        "id": "N_eVcnjZb9-G",
        "colab": {
          "base_uri": "https://localhost:8080/",
          "height": 850
        },
        "outputId": "80805640-6b6f-4950-a3b9-8af7f0792fe9"
      },
      "source": [
        "#2D heatmap\n",
        "plt.figure()\n",
        "plt.suptitle(\"Seaborn heatmap example to display 2d percentage values\", color='m')\n",
        "sns.set(font_scale=0.8)\n",
        "\n",
        "#print(type(rows))\n",
        "figure(figsize=(8, 6), dpi=80) # increase figure size \n",
        "rows_db=np.reshape(rows,(SIZE_H,SIZE_W))\n",
        "ax = sns.heatmap(rows_db, vmin=min_value_snr, vmax=max_value_snr)\n",
        "ax.set(xlabel='y label', ylabel='x label')\n",
        "\n",
        "\n",
        "plt.show()\n",
        "figure(figsize=(8, 6), dpi=80) # increase figure size \n",
        "for n in range(ANTENNA_N):\n",
        "  plt.scatter(xval_[n], yval_[n], color= \"green\", linewidths =10 ,marker =\"s\")\n",
        "plt.xlim(0, SIZE_H-1)\n",
        "plt.ylim(0, SIZE_W-1)\n",
        "plt.show()"
      ],
      "execution_count": 20,
      "outputs": [
        {
          "output_type": "display_data",
          "data": {
            "text/plain": [
              "<Figure size 432x288 with 0 Axes>"
            ]
          },
          "metadata": {
            "tags": []
          }
        },
        {
          "output_type": "display_data",
          "data": {
            "image/png": "[encoded data removed]",
            "text/plain": [
              "<Figure size 640x480 with 2 Axes>"
            ]
          },
          "metadata": {
            "tags": []
          }
        },
        {
          "output_type": "display_data",
          "data": {
            "image/png": "[encoded data removed]",
            "text/plain": [
              "<Figure size 640x480 with 1 Axes>"
            ]
          },
          "metadata": {
            "tags": []
          }
        }
      ]
    }
  ]
}