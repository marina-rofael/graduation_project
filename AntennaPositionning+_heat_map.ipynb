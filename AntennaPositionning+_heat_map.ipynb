{
  "nbformat": 4,
  "nbformat_minor": 0,
  "metadata": {
    "colab": {
      "name": "AntennaPositionning+ heat map",
      "provenance": [],
      "collapsed_sections": [],
      "include_colab_link": true
    },
    "kernelspec": {
      "display_name": "Python 3",
      "name": "python3"
    },
    "language_info": {
      "name": "python"
    }
  },
  "cells": [
    {
      "cell_type": "markdown",
      "metadata": {
        "id": "view-in-github",
        "colab_type": "text"
      },
      "source": [
        "<a href=\"https://colab.research.google.com/github/monikamikhaiel/graduation-project-/blob/main/AntennaPositionning%2B_heat_map.ipynb\" target=\"_parent\"><img src=\"https://colab.research.google.com/assets/colab-badge.svg\" alt=\"Open In Colab\"/></a>"
      ]
    },
    {
      "cell_type": "code",
      "metadata": {
        "id": "gP53XJtFISeC"
      },
      "source": [
        "import numpy as np  # for array stuff and random\n",
        "import matplotlib.pyplot as plt  # for graphing our mean rewards over time\n",
        "from matplotlib.pyplot import figure\n",
        "from matplotlib import style  # to make pretty charts because it matters.\n",
        "import time  # using this to keep track of our saved Q-Tables.\n",
        "style.use(\"ggplot\")  # setting our style!"
      ],
      "execution_count": 29,
      "outputs": []
    },
    {
      "cell_type": "code",
      "metadata": {
        "colab": {
          "base_uri": "https://localhost:8080/"
        },
        "id": "9nDFjr7CKd3y",
        "outputId": "6693a556-7547-47f8-f53d-c8acda3dbf06"
      },
      "source": [
        "#the size of the area \n",
        "SIZE_W = int(input(\"please enter the width of the building in meter :\"))\n",
        "SIZE_H = int(input(\"please enter the height of the building in meter :\"))\n",
        "print(SIZE_H,SIZE_W)\n"
      ],
      "execution_count": 14,
      "outputs": [
        {
          "output_type": "stream",
          "text": [
            "please enter the width of the building in meter :5\n",
            "please enter the height of the building in meter :5\n",
            "5 5\n"
          ],
          "name": "stdout"
        }
      ]
    },
    {
      "cell_type": "code",
      "metadata": {
        "id": "Ct1MEcAwKhYq"
      },
      "source": [
        "HM_EPISODES = 2500\n",
        "epsilon = 0.5  # randomness\n",
        "EPS_DECAY = 0.9999  # Every episode will be epsilon*EPS_DECAY\n",
        "SHOW_EVERY = 100  # how often to play through env visually.\n",
        "\n",
        "start_q_table = None  # if we have a pickled Q table, we'll put the filename of it here.\n",
        "\n",
        "LEARNING_RATE = 0.1\n",
        "DISCOUNT = 0.95\n",
        "\n",
        "ANTENNA_N = 1  # player key in dict\n",
        "\n",
        "#SNR RANGES\n",
        "snr_range={\"highSNR_max\":-50,\"highSNR_min\":-80,\n",
        "           \"mediumSNR_max\":-90,\"mediumSNR_min\":-100,\n",
        "          \"deadzone\":-120}\n"
      ],
      "execution_count": 15,
      "outputs": []
    },
    {
      "cell_type": "code",
      "metadata": {
        "id": "hDLiiMUeKqUw"
      },
      "source": [
        "#antenna\n",
        "class antenna:\n",
        "    def __init__(self,x_,y_):\n",
        "      if not x_:\n",
        "        self.x = np.random.randint(0, SIZE_W)\n",
        "      else:\n",
        "        self.x=x_\n",
        "      if not y_:\n",
        "        self.y = np.random.randint(0, SIZE_H)\n",
        "      else:\n",
        "        self.y=y_\n",
        "        \n",
        "        \n",
        "    def __str__(self):\n",
        "        return f\"{self.x}, {self.y}\"\n",
        "    def __sub__(self, other):\n",
        "        return (self.x-other.x, self.y-other.y)\n",
        "    def action(self, choice):\n",
        "        '''\n",
        "        Gives us 4 total movement options. (0,1,2,3)\n",
        "        '''\n",
        "        if choice == 0:  #up\n",
        "            #self.move(x=0, y=1)\n",
        "            self.x=self.x\n",
        "            self.y+=1\n",
        "            self.move()\n",
        "\n",
        "        elif choice == 1:  #down\n",
        "            #self.move(x=0, y=-1)\n",
        "            self.x=self.x\n",
        "            self.y-=1\n",
        "            self.move()\n",
        "\n",
        "        elif choice == 2:  #left\n",
        "           # self.move(x=-1, y=0)\n",
        "            self.x-=1\n",
        "            self.y=self.y\n",
        "            self.move()\n",
        "\n",
        "        elif choice == 3:    #right\n",
        "            # self.move(x=1, y=0)\n",
        "            self.x+=1\n",
        "            self.y=self.y\n",
        "            self.move()\n",
        "\n",
        "#    def move(self, x=False, y=False):\n",
        "    def move(self):\n",
        "        # If no value for x, move randomly\n",
        "      #  if not x:\n",
        "      #      self.x += np.random.randint(-1, 2)\n",
        "       # elif x==0:\n",
        "      #      self.x=self.x\n",
        "      #  else:\n",
        "       #     self.x += x\n",
        "\n",
        "        # If no value for y, move randomly\n",
        "       # if not y:\n",
        "        #    self.y += np.random.randint(-1, 2)\n",
        "       # elif y==0:\n",
        "        #    self.y=self.y\n",
        "       # else:\n",
        "        #    self.y += y\n",
        "      # If we are out of bounds, fix!\n",
        "        if self.x < 0:\n",
        "            self.x = 0\n",
        "        elif self.x > SIZE_W-1:\n",
        "            self.x = SIZE_W-1\n",
        "        if self.y < 0:\n",
        "            self.y = 0\n",
        "        elif self.y > SIZE_H-1:\n",
        "            self.y = SIZE_H-1\n",
        "\n"
      ],
      "execution_count": 16,
      "outputs": []
    },
    {
      "cell_type": "code",
      "metadata": {
        "colab": {
          "base_uri": "https://localhost:8080/"
        },
        "id": "6E9GEGIcKwQe",
        "outputId": "85e72fe9-4050-47b6-dca2-ad3c407807ba"
      },
      "source": [
        "ant = antenna(2,3)\n",
        "print(ant)\n",
        "ant.action(0) # up\n",
        "print(ant)\n",
        "ant.action(1) #down \n",
        "print(ant)\n",
        "ant.action(2) #left\n",
        "print(ant)\n",
        "ant.action(3) #right \n",
        "print(ant)\n"
      ],
      "execution_count": 17,
      "outputs": [
        {
          "output_type": "stream",
          "text": [
            "2, 3\n",
            "2, 4\n",
            "2, 3\n",
            "1, 3\n",
            "2, 3\n"
          ],
          "name": "stdout"
        }
      ]
    },
    {
      "cell_type": "code",
      "metadata": {
        "colab": {
          "base_uri": "https://localhost:8080/"
        },
        "id": "VUA5sED5K4om",
        "outputId": "232c8f55-6409-4478-ba63-3876ec0434fd"
      },
      "source": [
        "#build the initial q table \n",
        "x = SIZE_W # Building X\n",
        "y = SIZE_H # Building Y\n",
        "z = 4 # actions\n",
        "\n",
        "q_table = np.zeros((x, y, z))\n",
        "# q_table *= 0\n",
        "print(q_table.shape)\n"
      ],
      "execution_count": 18,
      "outputs": [
        {
          "output_type": "stream",
          "text": [
            "(5, 5, 4)\n"
          ],
          "name": "stdout"
        }
      ]
    },
    {
      "cell_type": "code",
      "metadata": {
        "id": "UjlfgMCzAzex"
      },
      "source": [
        "#okomora model \n",
        "def okomora(ant,SIZE_H,SIZE_W):\n",
        "  PathLoss=[]\n",
        "  attenuation= 13 #in db function of frequency and distance \n",
        "  freq= 2.4*(10^9) # the frequency og the signal\n",
        "  c= 3*(10^8) # the speed of light\n",
        "  #hte = input(\"please enter the height of the transmitter antenna ? \")\n",
        "  #hre = input(\"please enter the height of the receiver antenna ? \")\n",
        "  hte= 20\n",
        "  hre= 2\n",
        "  G_hte = 10*np.log(int(hte) /200) \n",
        "  G_hre = 10*np.log(int(hre)/ 3)\n",
        "  G_Area =27 # (Quasi Open Area)\n",
        "  for i in range(SIZE_H):\n",
        "    for j in range(SIZE_W):\n",
        "      difference = [ant.x-i,ant.y-j]\n",
        "      if difference == [0,0]:\n",
        "        continue\n",
        "      else:\n",
        "        ## calculate the pathloss\n",
        "        distance=pow((pow(difference[0],2)+pow(difference[1],2)),0.5)\n",
        "        FPL      = 20*np.log(4*np.pi*distance*freq/c)\n",
        "        Path_Loss = FPL + attenuation - G_hte - G_hre - G_Area\n",
        "        PathLoss.append(Path_Loss)\n",
        "  return PathLoss  \n",
        "#len(okomora(ant,SIZE_H,SIZE_W))"
      ],
      "execution_count": 19,
      "outputs": []
    },
    {
      "cell_type": "code",
      "metadata": {
        "id": "ZhiHQdPgBPKP"
      },
      "source": [
        "def AnglesInDegrees(ant,SIZE_H,SIZE_W):\n",
        "  theta=[]\n",
        "  for i in range(SIZE_H):\n",
        "    for j in range(SIZE_W):\n",
        "      difference = [ant.x-i,ant.y-j]\n",
        "      if difference==[0,0]: # the same position as the antenna \n",
        "        continue\n",
        "      if difference[0]==0:     # the angle itself is either 90 or 270 tan will be infinite \n",
        "          if difference[1]>0:\n",
        "            t=90\n",
        "            theta.append(90)\n",
        "          else:\n",
        "            t=270\n",
        "            theta.append(270)\n",
        "      else:\n",
        "          tantheta= difference[1]/difference[0]\n",
        "          t=np.degrees(np.arctan(tantheta))\n",
        "          if t <=0:\n",
        "            t+=360\n",
        "            theta.append(t)\n",
        "          else:\n",
        "            theta.append(t)\n",
        "  return theta\n",
        "#print(len(AnglesInDegrees(ant,SIZE_H,SIZE_W)))"
      ],
      "execution_count": 20,
      "outputs": []
    },
    {
      "cell_type": "code",
      "metadata": {
        "id": "Q-YCAFATC7SQ"
      },
      "source": [
        "def measureSNR(ant,SIZE_H,SIZE_W,typeOfAntenna=\"omnidirectionnel\"):\n",
        "  Path_Loss=okomora(ant,SIZE_H,SIZE_W)\n",
        "  Gain=[]\n",
        "  if typeOfAntenna == \"omnidirectionnel\" :\n",
        "    Gain_pannel=7 #in db\n",
        "    for i in range(len(Path_Loss)):\n",
        "      Gain.append(Gain_pannel-Path_Loss[i])\n",
        "  elif typeOfAntenna== \"directionnel\":\n",
        "    thetas=AnglesInDegrees(ant,SIZE_H,SIZE_W)\n",
        "    gain=7 #db\n",
        "    for i in range(len(Path_Loss)):\n",
        "      Gain.append((gain*np.cos(thetas[i]))-Path_Loss[i])\n",
        "  else:\n",
        "    thetas=AnglesInDegrees(ant,SIZE_H,SIZE_W)\n",
        "    GainVsTheta={360:-20,30:-10,60:-5,90:15,120:0,150:-10,180:-20,210:-10,240:-8,270:-15,300:-8,330:-10} # values in db angle:gain\n",
        "    for i in range(len(thetas)):\n",
        "      t=thetas[i]\n",
        "      if t==0:\n",
        "       value = GainVsTheta[360]\n",
        "      elif t<=30:\n",
        "        value = GainVsTheta[30]\n",
        "      elif 30<t<=60:\n",
        "        value = GainVsTheta[60]\n",
        "      elif 60<t<=90:\n",
        "        value = GainVsTheta[90]\n",
        "      elif 90<t<=120:\n",
        "        value = GainVsTheta[120]\n",
        "      elif 120<t<=150:\n",
        "        value = GainVsTheta[150]\n",
        "      elif 150<t<=180:\n",
        "        value = GainVsTheta[180]\n",
        "      elif 180<t<=210:\n",
        "        value = GainVsTheta[210]\n",
        "      elif 210<t<=240:\n",
        "        value = GainVsTheta[240]\n",
        "      elif 240<t<=270:\n",
        "        value = GainVsTheta[270]\n",
        "      elif 270<t<=300:\n",
        "        value = GainVsTheta[300]\n",
        "      elif 300<t<=330:\n",
        "        value = GainVsTheta[330]\n",
        "      elif 330<t<=360:\n",
        "        value = GainVsTheta[360]\n",
        "      Gain.append(value-Path_Loss[i])\n",
        "  Magnitude=[]\n",
        "  # from db to magnitude \n",
        "  for g in Gain:\n",
        "    mag=pow(10,(g/10))\n",
        "    Magnitude.append(mag)\n",
        "  return Magnitude\n",
        "#measureSNR(ant,SIZE_H,SIZE_W,type=\"omnidirectionnel\")\n"
      ],
      "execution_count": 21,
      "outputs": []
    },
    {
      "cell_type": "code",
      "metadata": {
        "colab": {
          "base_uri": "https://localhost:8080/"
        },
        "id": "AK9PzO2BLC2M",
        "outputId": "21585031-2d64-44c2-ffc5-a02f9d9bbc86"
      },
      "source": [
        "def calSNRlow(SNR,TypeOfReward):\n",
        "    if TypeOfReward==\"AverageSNR\":\n",
        "      return np.mean(SNR)\n",
        "    else:\n",
        "      counter =0\n",
        "      for i in range(len(SNR)):\n",
        "            if int(SNR[i]) < snr_range[\"deadzone\"]:\n",
        "              counter+=1\n",
        "      percent=counter*100/len(SNR)\n",
        "    return percent\n",
        "    \n",
        "\n",
        "calSNRlow(measureSNR (ant,SIZE_H,SIZE_W),TypeOfReward=\"AverageSNR\")"
      ],
      "execution_count": 22,
      "outputs": [
        {
          "output_type": "execute_result",
          "data": {
            "text/plain": [
              "1.9693035320699446e-07"
            ]
          },
          "metadata": {
            "tags": []
          },
          "execution_count": 22
        }
      ]
    },
    {
      "cell_type": "code",
      "metadata": {
        "id": "l2qcdm6uLIBt"
      },
      "source": [
        "def TrainingAgent(HM_EPISODES=HM_EPISODES,EPS_DECAY=EPS_DECAY,LEARNING_RATE=LEARNING_RATE,DISCOUNT=DISCOUNT,epsilon=epsilon,\n",
        "                  SIZE_H=SIZE_H,SIZE_W=SIZE_W,typeOfAntenna=\"omnidirectionnel\",TypeOfReward=\"AverageSNR\"):\n",
        "  episode_rewards = []\n",
        "  reward=0\n",
        "  for episode in range(HM_EPISODES):\n",
        "      x_=np.random.randint(0, SIZE_H)\n",
        "      y_=np.random.randint(0, SIZE_W)\n",
        "      ant = antenna(x_,y_)\n",
        "      if episode % SHOW_EVERY == 0:\n",
        "          print(f\"on #{episode}\")\n",
        "       # print(f\"{SHOW_EVERY} ep mean: {np.mean(episode_rewards[-SHOW_EVERY:])}\")\n",
        "          show = True\n",
        "      else:\n",
        "          show = False\n",
        "\n",
        "      episode_reward = 0\n",
        "      for i in range(200):\n",
        "          antennaPos = (ant) # Current Antenna X, Y Co-ord.\n",
        "         # choose an action \n",
        "          if np.random.random() > epsilon: \n",
        "              action = np.argmax(q_table[ant.x][ant.y])\n",
        "          else:\n",
        "              action = np.random.randint(0, 4) #low is inclusive high is exclusive \n",
        "            #print(action)\n",
        "        # Take the action!\n",
        "          ant.action(action) # move the  antenna\n",
        "        ###\n",
        "        #calculate the SNR\n",
        "          snr=measureSNR(ant,SIZE_H,SIZE_W,typeOfAntenna=\"omnidirectionnel\")\n",
        "          percent=calSNRlow(snr,TypeOfReward=TypeOfReward)\n",
        "        ##\n",
        "          reward=percent\n",
        "          ###\n",
        "        #current_q = q_table[state][action]\n",
        "          newAntennaPos = (ant)\n",
        "          current_q = q_table[ant.x][ant.y][action] # Current State\n",
        "          max_future_q = np.max(q_table[ant.x][ant.y]) # Max State\n",
        "          new_q = (1 - LEARNING_RATE) * current_q + LEARNING_RATE * (reward + DISCOUNT * max_future_q)\n",
        "          q_table[ant.x][ant.y][action] = new_q\n",
        "      \n",
        "\n",
        "          episode_reward += reward\n",
        "\n",
        "        #print(episode_reward)\n",
        "      episode_rewards.append(episode_reward)\n",
        "      epsilon *= EPS_DECAY\n",
        "  return q_table"
      ],
      "execution_count": 25,
      "outputs": []
    },
    {
      "cell_type": "code",
      "metadata": {
        "id": "RdFGXmaeqk1q"
      },
      "source": [
        "q_table=TrainingAgent(HM_EPISODES=HM_EPISODES,EPS_DECAY=EPS_DECAY,LEARNING_RATE=LEARNING_RATE,DISCOUNT=DISCOUNT,epsilon=epsilon,\n",
        "                  SIZE_H=SIZE_H,SIZE_W=SIZE_W,typeOfAntenna=\"omnidirectionnel\",TypeOfReward=\"AverageSNR\")"
      ],
      "execution_count": null,
      "outputs": []
    },
    {
      "cell_type": "code",
      "metadata": {
        "colab": {
          "base_uri": "https://localhost:8080/",
          "height": 434
        },
        "id": "TITlgL6G-CcO",
        "outputId": "43f7e9c4-414c-4e5e-ebed-5918c0e416bc"
      },
      "source": [
        "#plot the result of the agent \n",
        "xval=[]\n",
        "yval=[]\n",
        "max_value =np.max((q_table))\n",
        "print(max_value)\n",
        "for i in range(SIZE_H):\n",
        "    for j in range(SIZE_W):\n",
        "      for k in range(4):\n",
        "        if max_value  == (q_table[i][j][k]):\n",
        "            xval.append(i)\n",
        "            yval.append(j)\n",
        "        else :\n",
        "            continue\n",
        "figure(figsize=(8, 6), dpi=80) # increase figure size \n",
        "plt.scatter(xval, yval, color= \"blue\", linewidths =10 ,marker =\"s\")\n",
        "plt.xlim(0, SIZE_H-1)\n",
        "plt.ylim(0, SIZE_W-1)\n",
        "plt.show()\n",
        "#print(q_table)\n",
        "#print(xval)\n"
      ],
      "execution_count": 31,
      "outputs": [
        {
          "output_type": "stream",
          "text": [
            "4.004103383034576e-06\n"
          ],
          "name": "stdout"
        },
        {
          "output_type": "display_data",
          "data": {
            "image/png": "[encoded data removed]",
            "text/plain": [
              "<Figure size 640x480 with 1 Axes>"
            ]
          },
          "metadata": {
            "tags": []
          }
        }
      ]
    },
    {
      "cell_type": "markdown",
      "metadata": {
        "id": "q8wY6IrtqIyZ"
      },
      "source": [
        "#looping on q_table \n",
        "#antenna Tracing qtable \n",
        "AntTest2=antenna(2,3)\n",
        "AntTest2.x=xval[0]\n",
        "AntTest2.y=yval[0]\n",
        "for i in range(10):\n",
        "  print(AntTest2)\n",
        "  actionx = np.argmax(q_table[AntTest2.x][AntTest2.y])\n",
        "  print(actionx)\n",
        "  AntTest2.action(actionx)\n",
        "  #plt.scatter(AntTest2.x,AntTest2.y, color= \"blue\", linewidths =2 ,marker =\"s\")\n",
        "  #plt.xlim(0, 4)\n",
        "  #plt.ylim(0, 4)\n",
        "  #plt.show()\n"
      ]
    },
    {
      "cell_type": "code",
      "metadata": {
        "colab": {
          "base_uri": "https://localhost:8080/"
        },
        "id": "ioNcIRd6AB4R",
        "outputId": "6ae7c20d-4e93-4c43-a6c5-006a9935f2a0"
      },
      "source": [
        "#looping on the area \n",
        "#brute force check  get the optimal decision \n",
        "AntTest=antenna(2,3)\n",
        "EveryWhere={}\n",
        "max=-200\n",
        "#Move antenna Every where \n",
        "for i in range(SIZE_H):\n",
        "  for j in range(SIZE_W):\n",
        "    AntTest.x =i\n",
        "    AntTest.y = j\n",
        "    AvgSnr=calSNRlow(measureSNR(AntTest,SIZE_H,SIZE_W,typeOfAntenna=\"omnidirectionnel\"),TypeOfReward=\"AverageSNR\")\n",
        "    if AvgSnr>max:\n",
        "      max=AvgSnr\n",
        "    list_=[AntTest.x,AntTest.y,AvgSnr]\n",
        "    EveryWhere[AvgSnr]=[AntTest.x,AntTest.y]\n",
        "print(max,EveryWhere[max])\n",
        "print(EveryWhere)\n",
        "## x,y,meanSNR   "
      ],
      "execution_count": 35,
      "outputs": [
        {
          "output_type": "stream",
          "text": [
            "2.002051691578497e-07 [2, 2]\n",
            "{9.160583043925769e-08: [4, 4], 1.3886250977364017e-07: [4, 3], 1.412388049787932e-07: [4, 2], 9.160583043925767e-08: [4, 0], 1.3886250977364015e-07: [1, 0], 1.9381590820755185e-07: [3, 1], 1.9693035320699446e-07: [3, 2], 1.4123880497879323e-07: [2, 4], 2.002051691578497e-07: [2, 2], 1.938159082075519e-07: [3, 3]}\n"
          ],
          "name": "stdout"
        }
      ]
    },
    {
      "cell_type": "code",
      "metadata": {
        "colab": {
          "base_uri": "https://localhost:8080/"
        },
        "id": "0mCBD5MYKkX4",
        "outputId": "24095f14-6e26-4301-cc99-3646155f874d"
      },
      "source": [
        "import pandas as pd\n",
        "import seaborn as sns\n",
        "# sns.set()\n",
        "\n",
        "ant=antenna(xval[0],yval[0])\n",
        "ArrayOfSNR=measureSNR(ant,SIZE_H,SIZE_W,typeOfAntenna=\"omnidirectionnel\")\n",
        "# convert from linear to db\n",
        "snr_db=[] \n",
        "for SNR in (ArrayOfSNR):\n",
        "  out_=10*np.log10(SNR)\n",
        "  snr_db.append(out_)\n",
        "print(snr_db)\n",
        "# Build data\n",
        "max_value_snr=np.max(snr_db)\n",
        "min_value_snr=np.min(snr_db)\n",
        "print(max_value_snr)\n",
        "print(min_value_snr)"
      ],
      "execution_count": 36,
      "outputs": [
        {
          "output_type": "stream",
          "text": [
            "[-81.14183350308535, -76.441797210628, -74.21036169748591, -76.441797210628, -81.14183350308535, -76.441797210628, -67.27888989188646, -60.34741808628699, -67.27888989188646, -76.441797210628, -74.21036169748591, -60.34741808628699, -60.34741808628699, -74.21036169748591, -76.441797210628, -67.27888989188646, -60.34741808628699, -67.27888989188646, -76.441797210628, -81.14183350308535, -76.441797210628, -74.21036169748591, -76.441797210628, -81.14183350308535]\n",
            "-60.34741808628699\n",
            "-81.14183350308535\n"
          ],
          "name": "stdout"
        }
      ]
    },
    {
      "cell_type": "code",
      "metadata": {
        "colab": {
          "base_uri": "https://localhost:8080/",
          "height": 328
        },
        "id": "QaMhqo8CKr0-",
        "outputId": "21f3beb1-f888-4016-cfc0-ae034cf3f367"
      },
      "source": [
        "## 1D heatmap\n",
        "plt.figure()\n",
        "plt.suptitle(\"Seaborn heatmap example to display 1d percentage values\", color='m')\n",
        "sns.set(font_scale=0.8)\n",
        "\n",
        "print(len(snr_db))\n",
        "snr_db=np.reshape(snr_db,((SIZE_H*SIZE_W-1),1)) ## size_w*size_h -1\n",
        "ax = sns.heatmap(snr_db, vmin=min_value_snr, vmax=max_value_snr)\n",
        "ax.set(xlabel='x label', ylabel='y label')\n",
        "\n",
        "plt.show()"
      ],
      "execution_count": 39,
      "outputs": [
        {
          "output_type": "stream",
          "text": [
            "24\n"
          ],
          "name": "stdout"
        },
        {
          "output_type": "display_data",
          "data": {
            "image/png": "[encoded data removed]",
            "text/plain": [
              "<Figure size 432x288 with 2 Axes>"
            ]
          },
          "metadata": {
            "tags": []
          }
        }
      ]
    },
    {
      "cell_type": "code",
      "metadata": {
        "colab": {
          "base_uri": "https://localhost:8080/"
        },
        "id": "jsnvcs-QY5Qn",
        "outputId": "dff69d31-b72d-4427-e1e5-e43f9f835bb3"
      },
      "source": [
        "#create 2D heatmap\n",
        "rows=[]\n",
        "row=[]\n",
        "#print(type(snr_db[0]))\n",
        "# insert a value\n",
        "position=(SIZE_H*xval[0])+ yval[0]\n",
        "snr_db_=np.insert(snr_db,position,[0])\n",
        "print(snr_db_)\n",
        "for j in range(SIZE_W):\n",
        "  for i in range (SIZE_H):\n",
        "    value=snr_db_[i+(SIZE_W)*j].astype(int)\n",
        "    row.append(value)\n",
        "  rows.append(row)\n",
        "  row=[]\n",
        "print(rows) \n"
      ],
      "execution_count": 40,
      "outputs": [
        {
          "output_type": "stream",
          "text": [
            "[-81.1418335  -76.44179721 -74.2103617  -76.44179721 -81.1418335\n",
            " -76.44179721 -67.27888989 -60.34741809 -67.27888989 -76.44179721\n",
            " -74.2103617  -60.34741809   0.         -60.34741809 -74.2103617\n",
            " -76.44179721 -67.27888989 -60.34741809 -67.27888989 -76.44179721\n",
            " -81.1418335  -76.44179721 -74.2103617  -76.44179721 -81.1418335 ]\n",
            "[[-81, -76, -74, -76, -81], [-76, -67, -60, -67, -76], [-74, -60, 0, -60, -74], [-76, -67, -60, -67, -76], [-81, -76, -74, -76, -81]]\n"
          ],
          "name": "stdout"
        }
      ]
    },
    {
      "cell_type": "code",
      "metadata": {
        "colab": {
          "base_uri": "https://localhost:8080/",
          "height": 850
        },
        "id": "N_eVcnjZb9-G",
        "outputId": "d22863ad-fdae-49c0-8e1c-c07d90860b31"
      },
      "source": [
        "#2D heatmap\n",
        "plt.figure()\n",
        "plt.suptitle(\"Seaborn heatmap example to display 2d percentage values\", color='m')\n",
        "sns.set(font_scale=0.8)\n",
        "\n",
        "#print(type(rows))\n",
        "figure(figsize=(8, 6), dpi=80) # increase figure size \n",
        "rows_db=np.reshape(rows,(SIZE_H,SIZE_W))\n",
        "ax = sns.heatmap(rows_db, vmin=min_value_snr, vmax=max_value_snr)\n",
        "ax.set(xlabel='x label', ylabel='y label')\n",
        "\n",
        "\n",
        "plt.show()\n",
        "figure(figsize=(8, 6), dpi=80) # increase figure size \n",
        "plt.scatter(xval, yval, color= \"green\", linewidths =10 ,marker =\"s\")\n",
        "plt.xlim(0, SIZE_H-1)\n",
        "plt.ylim(0, SIZE_W-1)\n",
        "plt.show()"
      ],
      "execution_count": 42,
      "outputs": [
        {
          "output_type": "display_data",
          "data": {
            "text/plain": [
              "<Figure size 432x288 with 0 Axes>"
            ]
          },
          "metadata": {
            "tags": []
          }
        },
        {
          "output_type": "display_data",
          "data": {
            "image/png": "[encoded data removed]",
            "text/plain": [
              "<Figure size 640x480 with 2 Axes>"
            ]
          },
          "metadata": {
            "tags": []
          }
        },
        {
          "output_type": "display_data",
          "data": {
            "image/png": "[encoded data removed]",
            "text/plain": [
              "<Figure size 640x480 with 1 Axes>"
            ]
          },
          "metadata": {
            "tags": []
          }
        }
      ]
    }
  ]
}