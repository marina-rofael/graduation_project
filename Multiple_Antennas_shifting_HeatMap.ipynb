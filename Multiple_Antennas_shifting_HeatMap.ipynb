{
  "nbformat": 4,
  "nbformat_minor": 0,
  "metadata": {
    "colab": {
      "name": "Multiple Antennas_shifting_HeatMap",
      "provenance": [],
      "collapsed_sections": [],
      "include_colab_link": true
    },
    "kernelspec": {
      "display_name": "Python 3",
      "name": "python3"
    },
    "language_info": {
      "name": "python"
    }
  },
  "cells": [
    {
      "cell_type": "markdown",
      "metadata": {
        "id": "view-in-github",
        "colab_type": "text"
      },
      "source": [
        "<a href=\"https://colab.research.google.com/github/monikamikhaiel/graduation-project-/blob/main/Multiple_Antennas_shifting_HeatMap.ipynb\" target=\"_parent\"><img src=\"https://colab.research.google.com/assets/colab-badge.svg\" alt=\"Open In Colab\"/></a>"
      ]
    },
    {
      "cell_type": "code",
      "metadata": {
        "id": "gP53XJtFISeC"
      },
      "source": [
        "import numpy as np  # for array stuff and random\n",
        "import matplotlib.pyplot as plt  # for graphing our mean rewards over time\n",
        "from matplotlib import style  # to make pretty charts because it matters.\n",
        "import time  # using this to keep track of our saved Q-Tables.\n",
        "\n",
        "style.use(\"ggplot\")  # setting our style!"
      ],
      "execution_count": 1,
      "outputs": []
    },
    {
      "cell_type": "code",
      "metadata": {
        "id": "Ct1MEcAwKhYq"
      },
      "source": [
        "HM_EPISODES = 2500\n",
        "epsilon = 0.5  # randomness\n",
        "EPS_DECAY = 0.9999  # Every episode will be epsilon*EPS_DECAY\n",
        "SHOW_EVERY = 100  # how often to play through env visually.\n",
        "\n",
        "start_q_table = None  # if we have a pickled Q table, we'll put the filename of it here.\n",
        "\n",
        "LEARNING_RATE = 0.1\n",
        "DISCOUNT = 0.95\n",
        "\n",
        "#ANTENNA_N = 5  # NUMBER OF ANTENNAS \n",
        "#SNR RANGES\n",
        "snr_range={\"highSNR_max\":-50,\"highSNR_min\":-80,\n",
        "           \"mediumSNR_max\":-90,\"mediumSNR_min\":-100,\n",
        "          \"deadzone\":-120}"
      ],
      "execution_count": 2,
      "outputs": []
    },
    {
      "cell_type": "code",
      "metadata": {
        "colab": {
          "base_uri": "https://localhost:8080/"
        },
        "id": "rgbHwZnYWNl1",
        "outputId": "ee24b53e-982c-4a28-a97c-e1c5ac112d12"
      },
      "source": [
        "ANTENNA_N = int(input(\"please enter the number of antennas ?\"))  # NUMBER OF ANTENNAS \n",
        "#width and height are points not continuous example 5,5\n",
        "antennas_info_sizes={}\n",
        "## splitting areas\n",
        "for i in range(ANTENNA_N):\n",
        "  print(\"attempt number\",i)\n",
        "  SIZE_H=int(input(\"please enter the max height for the {} th?\".format(i+1)))\n",
        "  SIZE_W=int(input(\"please enter the max width for the {} th?\".format(i+1)))\n",
        "  antennas_info_sizes[i+1]=[SIZE_H,SIZE_W]\n",
        "SIZE_H=antennas_info_sizes[1][0]\n",
        "SIZE_W=antennas_info_sizes[1][1]\n",
        "print(antennas_info_sizes)\n",
        "\n"
      ],
      "execution_count": 3,
      "outputs": [
        {
          "output_type": "stream",
          "text": [
            "please enter the number of antennas ?4\n",
            "attempt number 0\n",
            "please enter the max height for the 1 th?5\n",
            "please enter the max width for the 1 th?5\n",
            "attempt number 1\n",
            "please enter the max height for the 2 th?10\n",
            "please enter the max width for the 2 th?5\n",
            "attempt number 2\n",
            "please enter the max height for the 3 th?5\n",
            "please enter the max width for the 3 th?10\n",
            "attempt number 3\n",
            "please enter the max height for the 4 th?10\n",
            "please enter the max width for the 4 th?10\n",
            "{1: [5, 5], 2: [10, 5], 3: [5, 10], 4: [10, 10]}\n"
          ],
          "name": "stdout"
        }
      ]
    },
    {
      "cell_type": "code",
      "metadata": {
        "id": "hDLiiMUeKqUw"
      },
      "source": [
        "#antenna\n",
        "class antenna:\n",
        "    def __init__(self,x_,y_):\n",
        "      if not x_:\n",
        "        self.x = np.random.randint(0, SIZE_W)\n",
        "      else:\n",
        "        self.x=x_\n",
        "      if not y_:\n",
        "        self.y = np.random.randint(0, SIZE_H)\n",
        "      else:\n",
        "        self.y=y_\n",
        "    def __str__(self):\n",
        "        return f\"{self.x}, {self.y}\"\n",
        "    def __sub__(self, other):\n",
        "        return (self.x-other.x, self.y-other.y)\n",
        "    def action(self, choice):\n",
        "        '''\n",
        "        Gives us 4 total movement options. (0,1,2,3)\n",
        "        '''\n",
        "        if choice == 0:  #up\n",
        "            #self.move(x=0, y=1)\n",
        "            self.x=self.x\n",
        "            self.y+=1\n",
        "            self.move()\n",
        "\n",
        "        elif choice == 1:  #down\n",
        "            #self.move(x=0, y=-1)\n",
        "            self.x=self.x\n",
        "            self.y-=1\n",
        "            self.move()\n",
        "\n",
        "        elif choice == 2:  #left\n",
        "           # self.move(x=-1, y=0)\n",
        "            self.x-=1\n",
        "            self.y=self.y\n",
        "            self.move()\n",
        "\n",
        "        elif choice == 3:    #right\n",
        "            # self.move(x=1, y=0)\n",
        "            self.x+=1\n",
        "            self.y=self.y\n",
        "            self.move()\n",
        "\n",
        "#    def move(self, x=False, y=False):\n",
        "    def move(self):\n",
        "        # If no value for x, move randomly\n",
        "      #  if not x:\n",
        "      #      self.x += np.random.randint(-1, 2)\n",
        "       # elif x==0:\n",
        "      #      self.x=self.x\n",
        "      #  else:\n",
        "       #     self.x += x\n",
        "\n",
        "        # If no value for y, move randomly\n",
        "       # if not y:\n",
        "        #    self.y += np.random.randint(-1, 2)\n",
        "       # elif y==0:\n",
        "        #    self.y=self.y\n",
        "       # else:\n",
        "        #    self.y += y\n",
        "      # If we are out of bounds, fix!\n",
        "        if self.x < 0:\n",
        "            self.x = 0\n",
        "        elif self.x > SIZE_W-1:\n",
        "            self.x = SIZE_W-1\n",
        "        if self.y < 0:\n",
        "            self.y = 0\n",
        "        elif self.y > SIZE_H-1:\n",
        "            self.y = SIZE_H-1\n",
        "\n"
      ],
      "execution_count": 4,
      "outputs": []
    },
    {
      "cell_type": "code",
      "metadata": {
        "id": "6E9GEGIcKwQe",
        "colab": {
          "base_uri": "https://localhost:8080/"
        },
        "outputId": "1c10a607-7f8f-4594-c874-377477db749b"
      },
      "source": [
        "ant = antenna(2,3)\n",
        "print(ant)\n",
        "ant.action(0) # up\n",
        "print(ant)\n",
        "ant.action(1) #down \n",
        "print(ant)\n",
        "ant.action(2) #left\n",
        "print(ant)\n",
        "ant.action(3) #right \n",
        "print(ant)\n"
      ],
      "execution_count": 5,
      "outputs": [
        {
          "output_type": "stream",
          "text": [
            "2, 3\n",
            "2, 4\n",
            "2, 3\n",
            "1, 3\n",
            "2, 3\n"
          ],
          "name": "stdout"
        }
      ]
    },
    {
      "cell_type": "code",
      "metadata": {
        "id": "VUA5sED5K4om",
        "colab": {
          "base_uri": "https://localhost:8080/"
        },
        "outputId": "5f1ebee2-13e8-499d-ee3a-62abbec64156"
      },
      "source": [
        "x = SIZE_W # Building X\n",
        "y = SIZE_H # Building Y\n",
        "z = 4 # actions\n",
        "\n",
        "q_table = np.zeros((x, y, z))\n",
        "# q_table *= 0\n",
        "print(q_table.shape)\n"
      ],
      "execution_count": 6,
      "outputs": [
        {
          "output_type": "stream",
          "text": [
            "(5, 5, 4)\n"
          ],
          "name": "stdout"
        }
      ]
    },
    {
      "cell_type": "code",
      "metadata": {
        "id": "UjlfgMCzAzex"
      },
      "source": [
        "#okomora model \n",
        "def okomora(ant,SIZE_H,SIZE_W):\n",
        "  PathLoss=[]\n",
        "  attenuation= 13 #in db function of frequency and distance \n",
        "  freq= 2.4*(10^9) # the frequency og the signal\n",
        "  c= 3*(10^8) # the speed of light\n",
        "  #hte = input(\"please enter the height of the transmitter antenna ? \")\n",
        "  #hre = input(\"please enter the height of the receiver antenna ? \")\n",
        "  hte= 20\n",
        "  hre= 2\n",
        "  G_hte = 10*np.log(int(hte) /200) \n",
        "  G_hre = 10*np.log(int(hre)/ 3)\n",
        "  G_Area =27 # (Quasi Open Area)\n",
        "  for i in range(SIZE_H):\n",
        "    for j in range(SIZE_W):\n",
        "      difference = [ant.x-i,ant.y-j]\n",
        "      if difference == [0,0]:\n",
        "        continue\n",
        "      else:\n",
        "        ## calculate the pathloss\n",
        "        distance=pow((pow(difference[0],2)+pow(difference[1],2)),0.5)\n",
        "        FPL      = 20*np.log(4*np.pi*distance*freq/c)\n",
        "        Path_Loss = FPL + attenuation - G_hte - G_hre - G_Area\n",
        "        PathLoss.append(Path_Loss)\n",
        "  return PathLoss  \n",
        "#len(okomora(ant,SIZE_H,SIZE_W))"
      ],
      "execution_count": 7,
      "outputs": []
    },
    {
      "cell_type": "code",
      "metadata": {
        "id": "ZhiHQdPgBPKP"
      },
      "source": [
        "def AnglesInDegrees(ant,SIZE_H,SIZE_W):\n",
        "  theta=[]\n",
        "  for i in range(SIZE_H):\n",
        "    for j in range(SIZE_W):\n",
        "      difference = [ant.x-i,ant.y-j]\n",
        "      if difference==[0,0]: # the same position as the antenna \n",
        "        continue\n",
        "      if difference[0]==0:     # the angle itself is either 90 or 270 tan will be infinite \n",
        "          if difference[1]>0:\n",
        "            t=90\n",
        "            theta.append(90)\n",
        "          else:\n",
        "            t=270\n",
        "            theta.append(270)\n",
        "      else:\n",
        "          tantheta= difference[1]/difference[0]\n",
        "          t=np.degrees(np.arctan(tantheta))\n",
        "          if t <=0:\n",
        "            t+=360\n",
        "            theta.append(t)\n",
        "          else:\n",
        "            theta.append(t)\n",
        "  return theta\n",
        "#print(len(AnglesInDegrees(ant,SIZE_H,SIZE_W)))"
      ],
      "execution_count": 8,
      "outputs": []
    },
    {
      "cell_type": "code",
      "metadata": {
        "id": "Q-YCAFATC7SQ"
      },
      "source": [
        "def measureSNR(ant,SIZE_H,SIZE_W,typeOfAntenna=\"omnidirectionnel\"):\n",
        "  Path_Loss=okomora(ant,SIZE_H,SIZE_W)\n",
        "  Gain=[]\n",
        "  if typeOfAntenna == \"omnidirectionnel\" :\n",
        "    Gain_pannel=7 #in db\n",
        "    for i in range(len(Path_Loss)):\n",
        "      Gain.append(Gain_pannel-Path_Loss[i])\n",
        "  elif typeOfAntenna == \"directionnel\":\n",
        "    thetas=AnglesInDegrees(ant,SIZE_H,SIZE_W)\n",
        "    GainVsTheta={360:-20,30:-10,60:-5,90:15,120:0,150:-10,180:-20,210:-10,240:-8,270:-15,300:-8,330:-10} # values in db angle:gain\n",
        "    for i in range(len(thetas)):\n",
        "      t=thetas[i]\n",
        "      if t==0:\n",
        "       value = GainVsTheta[360]\n",
        "      elif t<=30:\n",
        "        value = GainVsTheta[30]\n",
        "      elif 30<t<=60:\n",
        "        value = GainVsTheta[60]\n",
        "      elif 60<t<=90:\n",
        "        value = GainVsTheta[90]\n",
        "      elif 90<t<=120:\n",
        "        value = GainVsTheta[120]\n",
        "      elif 120<t<=150:\n",
        "        value = GainVsTheta[150]\n",
        "      elif 150<t<=180:\n",
        "        value = GainVsTheta[180]\n",
        "      elif 180<t<=210:\n",
        "        value = GainVsTheta[210]\n",
        "      elif 210<t<=240:\n",
        "        value = GainVsTheta[240]\n",
        "      elif 240<t<=270:\n",
        "        value = GainVsTheta[270]\n",
        "      elif 270<t<=300:\n",
        "        value = GainVsTheta[300]\n",
        "      elif 300<t<=330:\n",
        "        value = GainVsTheta[330]\n",
        "      elif 330<t<=360:\n",
        "        value = GainVsTheta[360]\n",
        "      Gain.append(value-Path_Loss[i])\n",
        "  Magnitude=[]\n",
        "  for g in Gain:\n",
        "    mag=pow(10,(g/10))\n",
        "    Magnitude.append(mag)\n",
        "  return Magnitude\n",
        "#measureSNR(ant,9,9,typeOfAntenna=\"omnidirectionnel\")\n"
      ],
      "execution_count": 9,
      "outputs": []
    },
    {
      "cell_type": "code",
      "metadata": {
        "id": "AK9PzO2BLC2M",
        "colab": {
          "base_uri": "https://localhost:8080/"
        },
        "outputId": "f2c63b3b-70e6-4ccb-8ba8-0d0cf3e088ef"
      },
      "source": [
        "def calSNRlow(SNR,TypeOfReward):\n",
        "  if TypeOfReward == \"AverageSNR\" :\n",
        "    return np.mean(SNR)\n",
        "  else:\n",
        "    counter =0\n",
        "    for i in range(len(SNR)):\n",
        "      if int(SNR[i]) < snr_range[\"deadzone\"]:\n",
        "       counter+=1\n",
        "       percent=counter*100/len(SNR)\n",
        "    #return percent\n",
        "\n",
        "    return percent\n",
        "calSNRlow(measureSNR (ant,SIZE_H,SIZE_W),TypeOfReward=\"AverageSNR\")"
      ],
      "execution_count": 10,
      "outputs": [
        {
          "output_type": "execute_result",
          "data": {
            "text/plain": [
              "1.9693035320699446e-07"
            ]
          },
          "metadata": {
            "tags": []
          },
          "execution_count": 10
        }
      ]
    },
    {
      "cell_type": "code",
      "metadata": {
        "id": "fBlLqKdv6ic9"
      },
      "source": [
        "def TrainingAgent(HM_EPISODES=HM_EPISODES,EPS_DECAY=EPS_DECAY,LEARNING_RATE=LEARNING_RATE,DISCOUNT=DISCOUNT,epsilon=epsilon,\n",
        "                  SIZE_H=SIZE_H,SIZE_W=SIZE_W,typeOfAntenna=\"omnidirectionnel\",TypeOfReward=\"AverageSNR\"):\n",
        "  episode_rewards = []\n",
        "  reward=0\n",
        "  for episode in range(HM_EPISODES):\n",
        "      x_=np.random.randint(0, SIZE_H)\n",
        "      y_=np.random.randint(0, SIZE_W)\n",
        "      ant = antenna(x_,y_)\n",
        "      if episode % SHOW_EVERY == 0:\n",
        "          print(f\"on #{episode}\")\n",
        "       # print(f\"{SHOW_EVERY} ep mean: {np.mean(episode_rewards[-SHOW_EVERY:])}\")\n",
        "          show = True\n",
        "      else:\n",
        "          show = False\n",
        "\n",
        "      episode_reward = 0\n",
        "      for i in range(200):\n",
        "          antennaPos = (ant) # Current Antenna X, Y Co-ord.\n",
        "         # choose an action \n",
        "          if np.random.random() > epsilon: \n",
        "              action = np.argmax(q_table[ant.x][ant.y])\n",
        "          else:\n",
        "              action = np.random.randint(0, 4) #low is inclusive high is exclusive \n",
        "          #print(action)\n",
        "        # Take the action!\n",
        "          ant.action(action) # move the  antenna\n",
        "        ###\n",
        "        #calculate the SNR\n",
        "          snr=measureSNR(ant,SIZE_H,SIZE_W,typeOfAntenna=typeOfAntenna)\n",
        "          percent=calSNRlow(snr,TypeOfReward=TypeOfReward)\n",
        "        ##\n",
        "          reward=percent\n",
        "          ###\n",
        "        #current_q = q_table[state][action]\n",
        "          newAntennaPos = (ant)\n",
        "          current_q = q_table[ant.x][ant.y][action] # Current State\n",
        "          max_future_q = np.max(q_table[ant.x][ant.y]) # Max State\n",
        "          new_q = (1 - LEARNING_RATE) * current_q + LEARNING_RATE * (reward + DISCOUNT * max_future_q)\n",
        "          q_table[ant.x][ant.y][action] = new_q\n",
        "      \n",
        "\n",
        "          #episode_reward += reward\n",
        "      #print(episode)\n",
        "        #print(episode_reward)\n",
        "      #episode_rewards.append(episode_reward)\n",
        "      epsilon *= EPS_DECAY\n",
        "  return q_table"
      ],
      "execution_count": 11,
      "outputs": []
    },
    {
      "cell_type": "code",
      "metadata": {
        "id": "xZuk7pE9VCte"
      },
      "source": [
        "def GetBestPosition (q_table): \n",
        "  xval=[]\n",
        "  yval=[]\n",
        "  max_value =np.max((q_table))\n",
        "  print(max_value)\n",
        "  for i in range(SIZE_H):\n",
        "      for j in range(SIZE_W):\n",
        "        for k in range(4):\n",
        "          if max_value  == (q_table[i][j][k]):\n",
        "              xval.append(i)\n",
        "              yval.append(j)\n",
        "          else :\n",
        "              continue\n",
        "  return xval,yval"
      ],
      "execution_count": 12,
      "outputs": []
    },
    {
      "cell_type": "code",
      "metadata": {
        "colab": {
          "base_uri": "https://localhost:8080/"
        },
        "id": "BzQbZig586oi",
        "outputId": "892d919e-953a-4895-ff12-285b7f84e3d6"
      },
      "source": [
        "q_table=TrainingAgent(HM_EPISODES=HM_EPISODES,EPS_DECAY=EPS_DECAY,LEARNING_RATE=LEARNING_RATE,DISCOUNT=DISCOUNT,epsilon=epsilon,\n",
        "                  SIZE_H=SIZE_H,SIZE_W=SIZE_W,typeOfAntenna=\"omnidirectionnel\",TypeOfReward=\"AverageSNR\")\n",
        "\n",
        "print(antennas_info_sizes)\n",
        "#output\n",
        "xval,yval=GetBestPosition (q_table)\n",
        "print(xval,yval)"
      ],
      "execution_count": 13,
      "outputs": [
        {
          "output_type": "stream",
          "text": [
            "on #0\n",
            "on #100\n",
            "on #200\n",
            "on #300\n",
            "on #400\n",
            "on #500\n",
            "on #600\n",
            "on #700\n",
            "on #800\n",
            "on #900\n",
            "on #1000\n",
            "on #1100\n",
            "on #1200\n",
            "on #1300\n",
            "on #1400\n",
            "on #1500\n",
            "on #1600\n",
            "on #1700\n",
            "on #1800\n",
            "on #1900\n",
            "on #2000\n",
            "on #2100\n",
            "on #2200\n",
            "on #2300\n",
            "on #2400\n",
            "{1: [5, 5], 2: [10, 5], 3: [5, 10], 4: [10, 10]}\n",
            "4.004103382986967e-06\n",
            "[2] [2]\n"
          ],
          "name": "stdout"
        }
      ]
    },
    {
      "cell_type": "code",
      "metadata": {
        "colab": {
          "base_uri": "https://localhost:8080/"
        },
        "id": "yU1lCtXoHP53",
        "outputId": "26a99b63-364c-43e4-cb08-4a68af3c240d"
      },
      "source": [
        "#concatenating all thea areas\n",
        "# x >> SIZE_W\n",
        "# Y >> SIZE_H\n",
        "x_final_position=[]\n",
        "y_final_position=[]\n",
        "diff={}\n",
        "## dictionary of refernces \n",
        "for i in range(ANTENNA_N):\n",
        "  diff[i]=[antennas_info_sizes[i+1][0]-antennas_info_sizes[1][0],antennas_info_sizes[i+1][1]-antennas_info_sizes[1][1]]\n",
        "print(diff)\n",
        "for i in range(ANTENNA_N):\n",
        "  x_final_position.append(xval[0])\n",
        "  y_final_position.append(yval[0])\n",
        "  x_final_position[i]+=diff[i][0]\n",
        "  y_final_position[i]+=diff[i][1]\n",
        "\n",
        "  \n",
        "print(x_final_position,y_final_position)"
      ],
      "execution_count": 15,
      "outputs": [
        {
          "output_type": "stream",
          "text": [
            "{0: [0, 0], 1: [5, 0], 2: [0, 5], 3: [5, 5]}\n",
            "[2, 7, 2, 7] [2, 2, 7, 7]\n"
          ],
          "name": "stdout"
        }
      ]
    },
    {
      "cell_type": "code",
      "metadata": {
        "colab": {
          "base_uri": "https://localhost:8080/",
          "height": 269
        },
        "id": "rq66aY27K86e",
        "outputId": "b8ee87a8-79c7-47cd-d547-c329da366ec3"
      },
      "source": [
        "color=[\"cyan\",\"blue\",\"purple\",\"olive\",\"pink\",\"yellow\"]\n",
        "for i in range(ANTENNA_N):\n",
        "  plt.scatter(x_final_position[i], y_final_position[i], color=color[i], linewidths =7 ,marker =\"s\")\n",
        "plt.xlim(0, antennas_info_sizes[ANTENNA_N][0]-1)\n",
        "plt.ylim(0, antennas_info_sizes[ANTENNA_N][1]-1)\n",
        "\n",
        "plt.show()"
      ],
      "execution_count": 18,
      "outputs": [
        {
          "output_type": "display_data",
          "data": {
            "image/png": "[encoded data removed]",
            "text/plain": [
              "<Figure size 432x288 with 1 Axes>"
            ]
          },
          "metadata": {
            "tags": [],
            "needs_background": "light"
          }
        }
      ]
    },
    {
      "cell_type": "markdown",
      "metadata": {
        "id": "xp3xUZCTFz_K"
      },
      "source": [
        "assume that power adds up (SNR) -> reward \n",
        "qtable -> add the positions of new antenna and actions \n",
        "3 antennas optimization all area \n"
      ]
    },
    {
      "cell_type": "code",
      "metadata": {
        "id": "ioNcIRd6AB4R",
        "colab": {
          "base_uri": "https://localhost:8080/"
        },
        "outputId": "048a35ac-6148-4ee1-93bd-2d52fe026d68"
      },
      "source": [
        "antennas_object_heatmap={} #dict for antennas and their position \n",
        "maxsize_H=antennas_info_sizes[ANTENNA_N][0]\n",
        "maxsize_W=antennas_info_sizes[ANTENNA_N][1]\n",
        "SumOfSNR=np.zeros((1,maxsize_H*maxsize_W))\n",
        "position=[]\n",
        "for n in range(ANTENNA_N):\n",
        "  antennas_object_heatmap[n]=antenna(x_final_position[n],y_final_position[n])\n",
        "  #print(antennas_object_heatmap[n],maxsize_H,maxsize_W)\n",
        "  #1d coordinate \n",
        "  position.append((antennas_info_sizes[n+1][0]*x_final_position[n])+ y_final_position[n])\n",
        "  #print(position)\n",
        "  ArrayOfSNR=measureSNR(antennas_object_heatmap[n],maxsize_H,maxsize_W,typeOfAntenna=\"omnidirectionnel\")\n",
        "  ## convert from magnitude to db \n",
        "  ArrayOfSNR=10*np.log10(ArrayOfSNR)\n",
        "  #print(ArrayOfSNR)\n",
        "  ArrayOfSNR=np.insert(ArrayOfSNR,position[n],0)\n",
        "  #print(len(ArrayOfSNR))\n",
        "  SumOfSNR=np.add(SumOfSNR,ArrayOfSNR)\n",
        "  for i in range(len(SumOfSNR)):\n",
        "    SumOfSNR[i]/=ANTENNA_N #average \n",
        "print(SumOfSNR) "
      ],
      "execution_count": 21,
      "outputs": [
        {
          "output_type": "stream",
          "text": [
            "[[-34.6826661  -34.12352872 -33.56420033 -33.01965177 -32.49301583\n",
            "  -31.99724696 -31.59245367 -31.43725855 -31.66144598 -32.13410011\n",
            "  -34.22812726 -33.57699964 -32.67491639 -32.25030222 -31.59646405\n",
            "  -30.92298567 -30.20506699 -25.97730881 -29.86002192 -30.52786002\n",
            "  -32.48224346 -33.31003072 -32.55993486 -31.8420338  -31.16629002\n",
            "  -30.46555651 -29.73745386 -28.82140916 -28.96477526 -30.14643661\n",
            "  -33.44916305 -32.6419273  -31.79068615 -30.94209241 -30.05448574\n",
            "  -29.12535212 -28.20567264 -27.6762155  -28.31191232 -29.33751945\n",
            "  -33.15177016 -32.28208213 -31.35515833 -30.37939848 -29.34825293\n",
            "  -28.30106694 -27.41956023 -27.07925291 -27.53847796 -28.53878677\n",
            "  -32.9258414  -31.98001076 -30.96188114 -29.87977614 -28.68119048\n",
            "  -27.35260435 -26.09375963 -25.54011836 -26.22502429 -27.61789503\n",
            "  -32.79477368 -31.75302741 -30.6117568  -29.5053236  -28.17398425\n",
            "  -26.41867237 -24.11892485 -22.42423561 -24.25940633 -26.70747171\n",
            "  -32.80496358 -31.69259157 -29.71224153 -29.4169524  -28.08240892\n",
            "  -26.08858926 -22.65181739  -7.61793428 -22.79404484 -26.38374892\n",
            "  -32.98951474 -31.9867955  -30.89174738 -29.83914507 -28.56842698\n",
            "  -26.87484978 -24.62395535 -22.94658659 -24.7581835  -27.15116776\n",
            "  -33.30856539 -32.4403724  -31.51414164 -30.53983946 -29.46738121\n",
            "  -28.27664935 -27.13698299 -26.62961977 -27.2557663  -28.51672337]]\n"
          ],
          "name": "stdout"
        }
      ]
    },
    {
      "cell_type": "code",
      "metadata": {
        "id": "0mCBD5MYKkX4",
        "colab": {
          "base_uri": "https://localhost:8080/"
        },
        "outputId": "4d90a903-f20f-4612-9de8-62d1037127ff"
      },
      "source": [
        "import pandas as pd\n",
        "import seaborn as sns\n",
        "# sns.set()\n",
        "snr_db=SumOfSNR\n",
        "#for SNR in (SumOfSNR):\n",
        "#  out_=10*np.log10(SNR)\n",
        "#  snr_db.append(out_)\n",
        "#print(snr_db)\n",
        "# Build data\n",
        "max_value_snr=np.max(snr_db)\n",
        "min_value_snr=np.min(snr_db)\n",
        "print(max_value_snr)\n",
        "print(min_value_snr)"
      ],
      "execution_count": 22,
      "outputs": [
        {
          "output_type": "stream",
          "text": [
            "-7.6179342767185485\n",
            "-34.68266610082337\n"
          ],
          "name": "stdout"
        }
      ]
    },
    {
      "cell_type": "code",
      "metadata": {
        "id": "QaMhqo8CKr0-",
        "colab": {
          "base_uri": "https://localhost:8080/",
          "height": 328
        },
        "outputId": "b0d828a4-d67e-45a1-9d0c-9f293c28f55d"
      },
      "source": [
        "## 1D heatmap\n",
        "plt.figure()\n",
        "plt.suptitle(\"Seaborn heatmap example to display 1d percentage values\", color='m')\n",
        "sns.set(font_scale=0.8)\n",
        "\n",
        "print(len(snr_db))\n",
        "snr_db=np.reshape(snr_db,((maxsize_H*maxsize_W),1)) ## size_w*size_h -1\n",
        "ax = sns.heatmap(snr_db, vmin=min_value_snr, vmax=max_value_snr)\n",
        "ax.set(xlabel='x label', ylabel='y label')\n",
        "\n",
        "plt.show()"
      ],
      "execution_count": 23,
      "outputs": [
        {
          "output_type": "stream",
          "text": [
            "1\n"
          ],
          "name": "stdout"
        },
        {
          "output_type": "display_data",
          "data": {
            "image/png": "[encoded data removed]",
            "text/plain": [
              "<Figure size 432x288 with 2 Axes>"
            ]
          },
          "metadata": {
            "tags": [],
            "needs_background": "light"
          }
        }
      ]
    },
    {
      "cell_type": "code",
      "metadata": {
        "id": "jsnvcs-QY5Qn",
        "colab": {
          "base_uri": "https://localhost:8080/"
        },
        "outputId": "cf89fe73-ebbf-4296-8fcd-29e0d099d462"
      },
      "source": [
        "#create 2D heatmap\n",
        "rows=[]\n",
        "#print(type(snr_db[0]))\n",
        "# insert a value\n",
        "#convert 2d array \n",
        "snr_db=np.reshape(snr_db,(maxsize_H,maxsize_W))\n",
        "#snr_db=10*(np.log10(snr_db))\n",
        "#print(snr_db)\n",
        "for n in range(ANTENNA_N):\n",
        "  #x=antennas_object_heatmap[n][0]\n",
        "  #y=antennas_object_heatmap[n]\n",
        " \n",
        "  snr_db[y_final_position[n]][x_final_position[n]]=0\n",
        "#print(snr_db)\n",
        "rows=snr_db\n",
        "print(rows) \n"
      ],
      "execution_count": 24,
      "outputs": [
        {
          "output_type": "stream",
          "text": [
            "[[-34.6826661  -34.12352872 -33.56420033 -33.01965177 -32.49301583\n",
            "  -31.99724696 -31.59245367 -31.43725855 -31.66144598 -32.13410011]\n",
            " [-34.22812726 -33.57699964 -32.67491639 -32.25030222 -31.59646405\n",
            "  -30.92298567 -30.20506699 -25.97730881 -29.86002192 -30.52786002]\n",
            " [-32.48224346 -33.31003072   0.         -31.8420338  -31.16629002\n",
            "  -30.46555651 -29.73745386   0.         -28.96477526 -30.14643661]\n",
            " [-33.44916305 -32.6419273  -31.79068615 -30.94209241 -30.05448574\n",
            "  -29.12535212 -28.20567264 -27.6762155  -28.31191232 -29.33751945]\n",
            " [-33.15177016 -32.28208213 -31.35515833 -30.37939848 -29.34825293\n",
            "  -28.30106694 -27.41956023 -27.07925291 -27.53847796 -28.53878677]\n",
            " [-32.9258414  -31.98001076 -30.96188114 -29.87977614 -28.68119048\n",
            "  -27.35260435 -26.09375963 -25.54011836 -26.22502429 -27.61789503]\n",
            " [-32.79477368 -31.75302741 -30.6117568  -29.5053236  -28.17398425\n",
            "  -26.41867237 -24.11892485 -22.42423561 -24.25940633 -26.70747171]\n",
            " [-32.80496358 -31.69259157   0.         -29.4169524  -28.08240892\n",
            "  -26.08858926 -22.65181739   0.         -22.79404484 -26.38374892]\n",
            " [-32.98951474 -31.9867955  -30.89174738 -29.83914507 -28.56842698\n",
            "  -26.87484978 -24.62395535 -22.94658659 -24.7581835  -27.15116776]\n",
            " [-33.30856539 -32.4403724  -31.51414164 -30.53983946 -29.46738121\n",
            "  -28.27664935 -27.13698299 -26.62961977 -27.2557663  -28.51672337]]\n"
          ],
          "name": "stdout"
        }
      ]
    },
    {
      "cell_type": "code",
      "metadata": {
        "id": "N_eVcnjZb9-G",
        "colab": {
          "base_uri": "https://localhost:8080/",
          "height": 563
        },
        "outputId": "6772c27d-2755-425e-802f-20c7d09c4005"
      },
      "source": [
        "#2D heatmap\n",
        "plt.figure()\n",
        "plt.suptitle(\"Seaborn heatmap example to display 2d percentage values\", color='m')\n",
        "sns.set(font_scale=0.8)\n",
        "\n",
        "#print(type(rows))\n",
        "#figure(figsize=(8, 6), dpi=80) # increase figure size \n",
        "rows_db=np.reshape(rows,(maxsize_H,maxsize_W))\n",
        "ax = sns.heatmap(rows_db, vmin=min_value_snr, vmax=max_value_snr)\n",
        "ax.set(xlabel='y label', ylabel='x label')\n",
        "\n",
        "\n",
        "plt.show()\n",
        "#figure(figsize=(8, 6), dpi=80) # increase figure size \n",
        "for n in range(ANTENNA_N):\n",
        "  plt.scatter(x_final_position[n], y_final_position[n], color= \"green\", linewidths =10 ,marker =\"s\")\n",
        "plt.xlim(0, maxsize_H-1)\n",
        "plt.ylim(0, maxsize_W-1)\n",
        "plt.show()"
      ],
      "execution_count": 31,
      "outputs": [
        {
          "output_type": "display_data",
          "data": {
            "image/png": "[encoded data removed]",
            "text/plain": [
              "<Figure size 432x288 with 2 Axes>"
            ]
          },
          "metadata": {
            "tags": []
          }
        },
        {
          "output_type": "display_data",
          "data": {
            "image/png": "[encoded data removed]",
            "text/plain": [
              "<Figure size 432x288 with 1 Axes>"
            ]
          },
          "metadata": {
            "tags": []
          }
        }
      ]
    }
  ]
}