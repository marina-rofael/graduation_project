{
  "nbformat": 4,
  "nbformat_minor": 0,
  "metadata": {
    "colab": {
      "name": "Multiple Antennas_qtable +heat map",
      "provenance": [],
      "collapsed_sections": [],
      "include_colab_link": true
    },
    "kernelspec": {
      "display_name": "Python 3",
      "name": "python3"
    },
    "language_info": {
      "name": "python"
    }
  },
  "cells": [
    {
      "cell_type": "markdown",
      "metadata": {
        "id": "view-in-github",
        "colab_type": "text"
      },
      "source": [
        "<a href=\"https://colab.research.google.com/github/monikamikhaiel/graduation-project-/blob/main/Multiple_Antennas_qtable_%2Bheat_map.ipynb\" target=\"_parent\"><img src=\"https://colab.research.google.com/assets/colab-badge.svg\" alt=\"Open In Colab\"/></a>"
      ]
    },
    {
      "cell_type": "code",
      "metadata": {
        "id": "gP53XJtFISeC"
      },
      "source": [
        "import numpy as np  # for array stuff and random\n",
        "import matplotlib.pyplot as plt  # for graphing our mean rewards over time\n",
        "from matplotlib.pyplot import figure\n",
        "from matplotlib import style  # to make pretty charts because it matters.\n",
        "import time  # using this to keep track of our saved Q-Tables.\n",
        "style.use(\"ggplot\")  # setting our style!"
      ],
      "execution_count": 1,
      "outputs": []
    },
    {
      "cell_type": "code",
      "metadata": {
        "id": "9nDFjr7CKd3y",
        "colab": {
          "base_uri": "https://localhost:8080/"
        },
        "outputId": "a064e092-6444-4b41-fef7-fb5d1822d440"
      },
      "source": [
        "#the size of the area \n",
        "SIZE_W = int(input(\"please enter the width of the building in meter :\"))\n",
        "SIZE_H = int(input(\"please enter the height of the building in meter :\"))\n",
        "print(SIZE_H,SIZE_W)"
      ],
      "execution_count": 2,
      "outputs": [
        {
          "output_type": "stream",
          "text": [
            "please enter the width of the building in meter :20\n",
            "please enter the height of the building in meter :20\n",
            "20 20\n"
          ],
          "name": "stdout"
        }
      ]
    },
    {
      "cell_type": "code",
      "metadata": {
        "id": "Ct1MEcAwKhYq",
        "colab": {
          "base_uri": "https://localhost:8080/"
        },
        "outputId": "9302d970-c6a6-44dc-cce4-921db792e393"
      },
      "source": [
        "HM_EPISODES = 2500\n",
        "epsilon = 0.5  # randomness\n",
        "EPS_DECAY = 0.9999  # Every episode will be epsilon*EPS_DECAY\n",
        "SHOW_EVERY = 100  # how often to play through env visually.\n",
        "\n",
        "start_q_table = None  # if we have a pickled Q table, we'll put the filename of it here.\n",
        "\n",
        "LEARNING_RATE = 0.1\n",
        "DISCOUNT = 0.95\n",
        "ANTENNA_N = int(input(\"please enter the number of antennas ?\"))  # NUMBER OF ANTENNAS \n",
        "#SNR RANGES\n",
        "snr_range={\"highSNR_max\":-50,\"highSNR_min\":-80,\n",
        "           \"mediumSNR_max\":-90,\"mediumSNR_min\":-100,\n",
        "          \"deadzone\":-120}\n"
      ],
      "execution_count": 3,
      "outputs": [
        {
          "output_type": "stream",
          "text": [
            "please enter the number of antennas ?4\n"
          ],
          "name": "stdout"
        }
      ]
    },
    {
      "cell_type": "code",
      "metadata": {
        "id": "hDLiiMUeKqUw"
      },
      "source": [
        "#antenna\n",
        "class antenna:\n",
        "    def __init__(self,x_,y_):\n",
        "      if not x_:\n",
        "        self.x = np.random.randint(0, SIZE_W)\n",
        "      else:\n",
        "        self.x=x_\n",
        "      if not y_:\n",
        "        self.y = np.random.randint(0, SIZE_H)\n",
        "      else:\n",
        "        self.y=y_\n",
        "    def __str__(self):\n",
        "        return f\"{self.x}, {self.y}\"\n",
        "    def __sub__(self, other):\n",
        "        return (self.x-other.x, self.y-other.y)\n",
        "    def action(self, choice):\n",
        "        '''\n",
        "        Gives us 4 total movement options. (0,1,2,3)\n",
        "        '''\n",
        "        if choice == 0:  #up\n",
        "            #self.move(x=0, y=1)\n",
        "            self.x=self.x\n",
        "            self.y+=1\n",
        "            self.move()\n",
        "\n",
        "        elif choice == 1:  #down\n",
        "            #self.move(x=0, y=-1)\n",
        "            self.x=self.x\n",
        "            self.y-=1\n",
        "            self.move()\n",
        "\n",
        "        elif choice == 2:  #left\n",
        "           # self.move(x=-1, y=0)\n",
        "            self.x-=1\n",
        "            self.y=self.y\n",
        "            self.move()\n",
        "\n",
        "        elif choice == 3:    #right\n",
        "            # self.move(x=1, y=0)\n",
        "            self.x+=1\n",
        "            self.y=self.y\n",
        "            self.move()\n",
        "\n",
        "#    def move(self, x=False, y=False):\n",
        "    def move(self):\n",
        "        # If no value for x, move randomly\n",
        "      #  if not x:\n",
        "      #      self.x += np.random.randint(-1, 2)\n",
        "       # elif x==0:\n",
        "      #      self.x=self.x\n",
        "      #  else:\n",
        "       #     self.x += x\n",
        "\n",
        "        # If no value for y, move randomly\n",
        "       # if not y:\n",
        "        #    self.y += np.random.randint(-1, 2)\n",
        "       # elif y==0:\n",
        "        #    self.y=self.y\n",
        "       # else:\n",
        "        #    self.y += y\n",
        "      # If we are out of bounds, fix!\n",
        "        if self.x < 0:\n",
        "            self.x = 0\n",
        "        elif self.x > SIZE_W-1:\n",
        "            self.x = SIZE_W-1\n",
        "        if self.y < 0:\n",
        "            self.y = 0\n",
        "        elif self.y > SIZE_H-1:\n",
        "            self.y = SIZE_H-1\n",
        "\n"
      ],
      "execution_count": 4,
      "outputs": []
    },
    {
      "cell_type": "code",
      "metadata": {
        "id": "6E9GEGIcKwQe",
        "colab": {
          "base_uri": "https://localhost:8080/"
        },
        "outputId": "ea502e91-10cd-48ac-c02d-e4191fd757c5"
      },
      "source": [
        "ant = antenna(2,3)\n",
        "print(ant)\n",
        "ant.action(0) # up\n",
        "print(ant)\n",
        "ant.action(1) #down \n",
        "print(ant)\n",
        "ant.action(2) #left\n",
        "print(ant)\n",
        "ant.action(3) #right \n",
        "print(ant)\n"
      ],
      "execution_count": 5,
      "outputs": [
        {
          "output_type": "stream",
          "text": [
            "2, 3\n",
            "2, 4\n",
            "2, 3\n",
            "1, 3\n",
            "2, 3\n"
          ],
          "name": "stdout"
        }
      ]
    },
    {
      "cell_type": "code",
      "metadata": {
        "id": "VUA5sED5K4om",
        "colab": {
          "base_uri": "https://localhost:8080/"
        },
        "outputId": "91af4d85-8124-4caf-abcc-2d8657a0045e"
      },
      "source": [
        "x = SIZE_W # Building X\n",
        "y = SIZE_H # Building Y\n",
        "z = 4 # actions\n",
        "## increase the size of a qtable dynamically from the number of antennas \n",
        "q_table={}\n",
        "for i in range(ANTENNA_N):\n",
        "  q_table[i]=np.zeros((x,y,z))\n",
        "  print(q_table[i].shape)\n",
        "\n",
        "#print(q_table)\n",
        "# q_table *= 0"
      ],
      "execution_count": 6,
      "outputs": [
        {
          "output_type": "stream",
          "text": [
            "(20, 20, 4)\n",
            "(20, 20, 4)\n",
            "(20, 20, 4)\n",
            "(20, 20, 4)\n"
          ],
          "name": "stdout"
        }
      ]
    },
    {
      "cell_type": "code",
      "metadata": {
        "id": "UjlfgMCzAzex"
      },
      "source": [
        "#okomora model \n",
        "def okomora(ant,SIZE_H,SIZE_W):\n",
        "  PathLoss=[]\n",
        "  attenuation= 13 #in db function of frequency and distance \n",
        "  freq= 2.4*(10^9) # the frequency og the signal\n",
        "  c= 3*(10^8) # the speed of light\n",
        "  #hte = input(\"please enter the height of the transmitter antenna ? \")\n",
        "  #hre = input(\"please enter the height of the receiver antenna ? \")\n",
        "  hte= 20\n",
        "  hre= 2\n",
        "  G_hte = 10*np.log(int(hte) /200) \n",
        "  G_hre = 10*np.log(int(hre)/ 3)\n",
        "  G_Area =27 # (Quasi Open Area)\n",
        "  for i in range(SIZE_H):\n",
        "    for j in range(SIZE_W):\n",
        "      difference = [ant.x-i,ant.y-j]\n",
        "      if difference == [0,0]:\n",
        "        continue\n",
        "      else:\n",
        "        ## calculate the pathloss\n",
        "        distance=pow((pow(difference[0],2)+pow(difference[1],2)),0.5)\n",
        "        FPL      = 20*np.log(4*np.pi*distance*freq/c)\n",
        "        Path_Loss = FPL + attenuation - G_hte - G_hre - G_Area\n",
        "        PathLoss.append(Path_Loss)\n",
        "  return PathLoss  \n",
        "#len(okomora(ant,SIZE_H,SIZE_W))"
      ],
      "execution_count": 7,
      "outputs": []
    },
    {
      "cell_type": "code",
      "metadata": {
        "id": "ZhiHQdPgBPKP"
      },
      "source": [
        "def AnglesInDegrees(ant,SIZE_H,SIZE_W):\n",
        "  theta=[]\n",
        "  for i in range(SIZE_H):\n",
        "    for j in range(SIZE_W):\n",
        "      difference = [ant.x-i,ant.y-j]\n",
        "      if difference==[0,0]: # the same position as the antenna \n",
        "        continue\n",
        "      if difference[0]==0:     # the angle itself is either 90 or 270 tan will be infinite \n",
        "          if difference[1]>0:\n",
        "            t=90\n",
        "            theta.append(90)\n",
        "          else:\n",
        "            t=270\n",
        "            theta.append(270)\n",
        "      else:\n",
        "          tantheta= difference[1]/difference[0]\n",
        "          t=np.degrees(np.arctan(tantheta))\n",
        "          if t <=0:\n",
        "            t+=360\n",
        "            theta.append(t)\n",
        "          else:\n",
        "            theta.append(t)\n",
        "  return theta\n",
        "#print(len(AnglesInDegrees(ant,SIZE_H,SIZE_W)))"
      ],
      "execution_count": 8,
      "outputs": []
    },
    {
      "cell_type": "code",
      "metadata": {
        "id": "Q-YCAFATC7SQ",
        "colab": {
          "base_uri": "https://localhost:8080/"
        },
        "outputId": "34e7ee5a-2412-4005-84ce-9fb83efa3432"
      },
      "source": [
        "def measureSNR(ant,SIZE_H,SIZE_W,typeOfAntenna=\"omnidirectionnel\"):\n",
        "  Path_Loss=okomora(ant,SIZE_H,SIZE_W)\n",
        "  Gain=[]\n",
        "  if typeOfAntenna == \"omnidirectionnel\" :\n",
        "    Gain_pannel=7 #in db\n",
        "    for i in range(len(Path_Loss)):\n",
        "      Gain.append(Gain_pannel-Path_Loss[i])\n",
        "  elif typeOfAntenna== \"directionnel\":\n",
        "    thetas=AnglesInDegrees(ant,SIZE_H,SIZE_W)\n",
        "    GainVsTheta={360:-20,30:-10,60:-5,90:15,120:0,150:-10,180:-20,210:-10,240:-8,270:-15,300:-8,330:-10} # values in db angle:gain\n",
        "    for i in range(len(thetas)):\n",
        "      t=thetas[i]\n",
        "      if t==0:\n",
        "       value = GainVsTheta[360]\n",
        "      elif t<=30:\n",
        "        value = GainVsTheta[30]\n",
        "      elif 30<t<=60:\n",
        "        value = GainVsTheta[60]\n",
        "      elif 60<t<=90:\n",
        "        value = GainVsTheta[90]\n",
        "      elif 90<t<=120:\n",
        "        value = GainVsTheta[120]\n",
        "      elif 120<t<=150:\n",
        "        value = GainVsTheta[150]\n",
        "      elif 150<t<=180:\n",
        "        value = GainVsTheta[180]\n",
        "      elif 180<t<=210:\n",
        "        value = GainVsTheta[210]\n",
        "      elif 210<t<=240:\n",
        "        value = GainVsTheta[240]\n",
        "      elif 240<t<=270:\n",
        "        value = GainVsTheta[270]\n",
        "      elif 270<t<=300:\n",
        "        value = GainVsTheta[300]\n",
        "      elif 300<t<=330:\n",
        "        value = GainVsTheta[330]\n",
        "      elif 330<t<=360:\n",
        "        value = GainVsTheta[360]\n",
        "      Gain.append(value-Path_Loss[i])\n",
        "  Magnitude=[]\n",
        "  for g in Gain:\n",
        "    mag=pow(10,(g/10))\n",
        "    Magnitude.append(mag)\n",
        "  return Gain #return in db to add the snr values \n",
        "ant=antenna(2,3)\n",
        "measureSNR(ant,SIZE_H,SIZE_W,typeOfAntenna=\"omnidirectionnel\")\n"
      ],
      "execution_count": 9,
      "outputs": [
        {
          "output_type": "execute_result",
          "data": {
            "text/plain": [
              "[-85.99691166090237,\n",
              " -81.14183350308535,\n",
              " -76.441797210628,\n",
              " -74.21036169748591,\n",
              " -76.441797210628,\n",
              " -81.14183350308535,\n",
              " -85.99691166090237,\n",
              " -90.30474082182691,\n",
              " -94.02037638615172,\n",
              " -97.23621262742637,\n",
              " -100.0503372218082,\n",
              " -102.54249513804808,\n",
              " -104.77393065119014,\n",
              " -106.79132707770071,\n",
              " -108.63055545931002,\n",
              " -110.31954082392815,\n",
              " -111.8803340312648,\n",
              " -113.33059175176737,\n",
              " -114.68463812182938,\n",
              " -115.9542343964423,\n",
              " -83.37326901622747,\n",
              " -76.441797210628,\n",
              " -67.27888989188646,\n",
              " -60.34741808628699,\n",
              " -67.27888989188646,\n",
              " -76.441797210628,\n",
              " -83.37326901622747,\n",
              " -88.67955152684915,\n",
              " -92.92838346650181,\n",
              " -96.45659721272926,\n",
              " -99.46764814056843,\n",
              " -102.09129078524336,\n",
              " -104.41461055892955,\n",
              " -106.49862325469962,\n",
              " -108.38762853361959,\n",
              " -110.11475551049273,\n",
              " -111.70540245678961,\n",
              " -113.17945537366688,\n",
              " -114.55276807900987,\n",
              " -115.83817893523923,\n",
              " -82.3196638596492,\n",
              " -74.21036169748591,\n",
              " -60.34741808628699,\n",
              " -60.34741808628699,\n",
              " -74.21036169748591,\n",
              " -82.3196638596492,\n",
              " -88.0733053086848,\n",
              " -92.536176334969,\n",
              " -96.1826074708481,\n",
              " -99.26562106739328,\n",
              " -101.93624891988372,\n",
              " -104.29190963301141,\n",
              " -106.3991199461679,\n",
              " -108.30532354225443,\n",
              " -110.04555108204698,\n",
              " -111.64640523551776,\n",
              " -113.12856467859217,\n",
              " -114.50842210833122,\n",
              " -115.79919253108261,\n",
              " -83.37326901622747,\n",
              " -76.441797210628,\n",
              " -67.27888989188646,\n",
              " -60.34741808628699,\n",
              " -67.27888989188646,\n",
              " -76.441797210628,\n",
              " -83.37326901622747,\n",
              " -88.67955152684915,\n",
              " -92.92838346650181,\n",
              " -96.45659721272926,\n",
              " -99.46764814056843,\n",
              " -102.09129078524336,\n",
              " -104.41461055892955,\n",
              " -106.49862325469962,\n",
              " -108.38762853361959,\n",
              " -110.11475551049273,\n",
              " -111.70540245678961,\n",
              " -113.17945537366688,\n",
              " -114.55276807900987,\n",
              " -115.83817893523923,\n",
              " -85.99691166090237,\n",
              " -81.14183350308535,\n",
              " -76.441797210628,\n",
              " -74.21036169748591,\n",
              " -76.441797210628,\n",
              " -81.14183350308535,\n",
              " -85.99691166090237,\n",
              " -90.30474082182691,\n",
              " -94.02037638615172,\n",
              " -97.23621262742637,\n",
              " -100.0503372218082,\n",
              " -102.54249513804808,\n",
              " -104.77393065119014,\n",
              " -106.79132707770071,\n",
              " -108.63055545931002,\n",
              " -110.31954082392815,\n",
              " -111.8803340312648,\n",
              " -113.33059175176737,\n",
              " -114.68463812182938,\n",
              " -115.9542343964423,\n",
              " -89.25113566524864,\n",
              " -85.99691166090237,\n",
              " -83.37326901622747,\n",
              " -82.3196638596492,\n",
              " -83.37326901622747,\n",
              " -85.99691166090237,\n",
              " -89.25113566524864,\n",
              " -92.536176334969,\n",
              " -95.61102333244861,\n",
              " -98.41404298399021,\n",
              " -100.9518481917512,\n",
              " -103.25201249777092,\n",
              " -105.34551478958969,\n",
              " -107.26089690857845,\n",
              " -109.02276259084283,\n",
              " -110.65179730021134,\n",
              " -112.16525358920785,\n",
              " -113.57751787767108,\n",
              " -114.90062923986403,\n",
              " -116.14471634614921,\n",
              " -92.536176334969,\n",
              " -90.30474082182691,\n",
              " -88.67955152684915,\n",
              " -88.0733053086848,\n",
              " -88.67955152684915,\n",
              " -90.30474082182691,\n",
              " -92.536176334969,\n",
              " -95.00477711428425,\n",
              " -97.48313875333008,\n",
              " -99.8598552721013,\n",
              " -102.09129078524336,\n",
              " -104.16768443302584,\n",
              " -106.09452787132085,\n",
              " -107.88331999735067,\n",
              " -109.54722734456823,\n",
              " -111.09915623862526,\n",
              " -112.55097633707027,\n",
              " -113.91328083300715,\n",
              " -115.19538742119357,\n",
              " -116.40543874924697,\n",
              " -95.61102333244861,\n",
              " -94.02037638615172,\n",
              " -92.92838346650181,\n",
              " -92.536176334969,\n",
              " -92.92838346650181,\n",
              " -94.02037638615172,\n",
              " -95.61102333244861,\n",
              " -97.48313875333008,\n",
              " -99.46764814056843,\n",
              " -101.45615672802012,\n",
              " -103.38806901832868,\n",
              " -105.23378178360838,\n",
              " -106.98180902740768,\n",
              " -108.63055545931002,\n",
              " -110.18348430337039,\n",
              " -111.64640523551776,\n",
              " -113.02599967692026,\n",
              " -114.32904510146454,\n",
              " -115.56202726490949,\n",
              " -116.73096477962446,\n",
              " -98.41404298399021,\n",
              " -97.23621262742637,\n",
              " -96.45659721272926,\n",
              " -96.1826074708481,\n",
              " -96.45659721272926,\n",
              " -97.23621262742637,\n",
              " -98.41404298399021,\n",
              " -99.8598552721013,\n",
              " -101.45615672802012,\n",
              " -103.11407927644757,\n",
              " -104.77393065119014,\n",
              " -106.3991199461679,\n",
              " -107.96915743426456,\n",
              " -109.4739669436475,\n",
              " -110.90987613977006,\n",
              " -112.2769865951891,\n",
              " -113.57751787767108,\n",
              " -114.81479180295008,\n",
              " -115.99262215951393,\n",
              " -117.1149561089698,\n",
              " -100.9518481917512,\n",
              " -100.0503372218082,\n",
              " -99.46764814056843,\n",
              " -99.26562106739328,\n",
              " -99.46764814056843,\n",
              " -100.0503372218082,\n",
              " -100.9518481917512,\n",
              " -102.09129078524336,\n",
              " -103.38806901832868,\n",
              " -104.77393065119014,\n",
              " -106.1970928729927,\n",
              " -107.6212962734104,\n",
              " -109.02276259084283,\n",
              " -110.3868811457416,\n",
              " -111.70540245678961,\n",
              " -112.97431997533585,\n",
              " -114.19236871417792,\n",
              " -115.36000019173429,\n",
              " -116.4786991501677,\n",
              " -117.55053585236112,\n",
              " -103.25201249777092,\n",
              " -102.54249513804808,\n",
              " -102.09129078524336,\n",
              " -101.93624891988372,\n",
              " -102.09129078524336,\n",
              " -102.54249513804808,\n",
              " -103.25201249777092,\n",
              " -104.16768443302584,\n",
              " -105.23378178360838,\n",
              " -106.3991199461679,\n",
              " -107.6212962734104,\n",
              " -108.8677207254832,\n",
              " -110.11475551049273,\n",
              " -111.34608236452897,\n",
              " -112.55097633707027,\n",
              " -113.72279888330019,\n",
              " -114.85780262194402,\n",
              " -115.9542343964423,\n",
              " -117.01168496741133,\n",
              " -118.03062804422473,\n",
              " -105.34551478958969,\n",
              " -104.77393065119014,\n",
              " -104.41461055892955,\n",
              " -104.29190963301141,\n",
              " -104.41461055892955,\n",
              " -104.77393065119014,\n",
              " -105.34551478958969,\n",
              " -106.09452787132085,\n",
              " -106.98180902740768,\n",
              " -107.96915743426456,\n",
              " -109.02276259084283,\n",
              " -110.11475551049273,\n",
              " -111.22338143861083,\n",
              " -112.33238839894528,\n",
              " -113.43009506029904,\n",
              " -114.50842210833122,\n",
              " -115.56202726490949,\n",
              " -116.58759314816041,\n",
              " -117.58326910581081,\n",
              " -118.54824738981063,\n",
              " -107.26089690857845,\n",
              " -106.79132707770071,\n",
              " -106.49862325469962,\n",
              " -106.3991199461679,\n",
              " -106.49862325469962,\n",
              " -106.79132707770071,\n",
              " -107.26089690857845,\n",
              " -107.88331999735067,\n",
              " -108.63055545931002,\n",
              " -109.4739669436475,\n",
              " -110.3868811457416,\n",
              " -111.34608236452897,\n",
              " -112.33238839894528,\n",
              " -113.33059175176737,\n",
              " -114.32904510146454,\n",
              " -115.319100339219,\n",
              " -116.29453188230536,\n",
              " -117.25101262952762,\n",
              " -118.18566990958436,\n",
              " -119.09672539480732,\n",
              " -109.02276259084283,\n",
              " -108.63055545931002,\n",
              " -108.38762853361959,\n",
              " -108.30532354225443,\n",
              " -108.38762853361959,\n",
              " -108.63055545931002,\n",
              " -109.02276259084283,\n",
              " -109.54722734456823,\n",
              " -110.18348430337039,\n",
              " -110.90987613977006,\n",
              " -111.70540245678961,\n",
              " -112.55097633707027,\n",
              " -113.43009506029904,\n",
              " -114.32904510146454,\n",
              " -115.23679534785384,\n",
              " -116.14471634614921,\n",
              " -117.0462273160922,\n",
              " -117.93643582505979,\n",
              " -118.81180583686427,\n",
              " -119.66986996076707,\n",
              " -110.65179730021134,\n",
              " -110.31954082392815,\n",
              " -110.11475551049273,\n",
              " -110.04555108204698,\n",
              " -110.11475551049273,\n",
              " -110.31954082392815,\n",
              " -110.65179730021134,\n",
              " -111.09915623862526,\n",
              " -111.64640523551776,\n",
              " -112.2769865951891,\n",
              " -112.97431997533585,\n",
              " -113.72279888330019,\n",
              " -114.50842210833122,\n",
              " -115.319100339219,\n",
              " -116.14471634614921,\n",
              " -116.97702288764646,\n",
              " -117.80944999168855,\n",
              " -118.63687426238909,\n",
              " -119.45538452669228,\n",
              " -120.26206355736684,\n",
              " -112.16525358920785,\n",
              " -111.8803340312648,\n",
              " -111.70540245678961,\n",
              " -111.64640523551776,\n",
              " -111.70540245678961,\n",
              " -111.8803340312648,\n",
              " -112.16525358920785,\n",
              " -112.55097633707027,\n",
              " -113.02599967692026,\n",
              " -113.57751787767108,\n",
              " -114.19236871417792,\n",
              " -114.85780262194402,\n",
              " -115.56202726490949,\n",
              " -116.29453188230536,\n",
              " -117.0462273160922,\n",
              " -117.80944999168855,\n",
              " -118.57787704111718,\n",
              " -119.34639162211192,\n",
              " -120.11092717926635,\n",
              " -120.86830977553115,\n",
              " -113.57751787767108,\n",
              " -113.33059175176737,\n",
              " -113.17945537366688,\n",
              " -113.12856467859217,\n",
              " -113.17945537366688,\n",
              " -113.33059175176737,\n",
              " -113.57751787767108,\n",
              " -113.91328083300715,\n",
              " -114.32904510146454,\n",
              " -114.81479180295008,\n",
              " -115.36000019173429,\n",
              " -115.9542343964423,\n",
              " -116.58759314816041,\n",
              " -117.25101262952762,\n",
              " -117.93643582505979,\n",
              " -118.63687426238909,\n",
              " -119.34639162211192,\n",
              " -120.06003648419164,\n",
              " -120.77374642311082,\n",
              " -121.48423988460934,\n",
              " -114.90062923986403,\n",
              " -114.68463812182938,\n",
              " -114.55276807900987,\n",
              " -114.50842210833122,\n",
              " -114.55276807900987,\n",
              " -114.68463812182938,\n",
              " -114.90062923986403,\n",
              " -115.19538742119357,\n",
              " -115.56202726490949,\n",
              " -115.99262215951393,\n",
              " -116.4786991501677,\n",
              " -117.01168496741133,\n",
              " -117.58326910581081,\n",
              " -118.18566990958436,\n",
              " -118.81180583686427,\n",
              " -119.45538452669228,\n",
              " -120.11092717926635,\n",
              " -120.77374642311082,\n",
              " -121.43989391393063,\n",
              " -122.10609078734461,\n",
              " -116.14471634614921,\n",
              " -115.9542343964423,\n",
              " -115.83817893523923,\n",
              " -115.79919253108261,\n",
              " -115.83817893523923,\n",
              " -115.9542343964423,\n",
              " -116.14471634614921,\n",
              " -116.40543874924697,\n",
              " -116.73096477962446,\n",
              " -117.1149561089698,\n",
              " -117.55053585236112,\n",
              " -118.03062804422473,\n",
              " -118.54824738981063,\n",
              " -119.09672539480732,\n",
              " -119.66986996076707,\n",
              " -120.26206355736684,\n",
              " -120.86830977553115,\n",
              " -121.48423988460934,\n",
              " -122.10609078734461,\n",
              " -122.73066433668208,\n",
              " -117.31835295134107,\n",
              " -117.1491441764577,\n",
              " -117.0462273160922,\n",
              " -117.01168496741133,\n",
              " -117.0462273160922,\n",
              " -117.1491441764577,\n",
              " -117.31835295134107,\n",
              " -117.55053585236112,\n",
              " -117.84134794536953,\n",
              " -118.18566990958436,\n",
              " -118.57787704111718,\n",
              " -119.01209865561998,\n",
              " -119.48244814266968,\n",
              " -119.98321152247144,\n",
              " -120.50898968327056,\n",
              " -121.05479536631191,\n",
              " -121.61610992742885,\n",
              " -122.1889069956618,\n",
              " -122.76965074083864,\n",
              " -123.35527603291945]"
            ]
          },
          "metadata": {
            "tags": []
          },
          "execution_count": 9
        }
      ]
    },
    {
      "cell_type": "code",
      "metadata": {
        "id": "AK9PzO2BLC2M",
        "colab": {
          "base_uri": "https://localhost:8080/"
        },
        "outputId": "022ca2cc-1aab-45b5-bc42-c64bb5626823"
      },
      "source": [
        "def calSNRlow(SNR,TypeOfReward):\n",
        "  if TypeOfReward==\"AverageSNR\":\n",
        "   return np.mean(SNR)\n",
        "  else:\n",
        "    counter =0\n",
        "    min= 5.095204897841283e-9\n",
        "    for i in range(len(SNR)):\n",
        "      if SNR[i] < min:\n",
        "        counter+=1\n",
        "        percent=counter*100/len(SNR)\n",
        "    return percent\n",
        "ant=antenna(2,3)\n",
        "calSNRlow(measureSNR (ant,SIZE_H,SIZE_W),TypeOfReward=\"AverageSNR\")"
      ],
      "execution_count": 10,
      "outputs": [
        {
          "output_type": "execute_result",
          "data": {
            "text/plain": [
              "-106.54854504403419"
            ]
          },
          "metadata": {
            "tags": []
          },
          "execution_count": 10
        }
      ]
    },
    {
      "cell_type": "code",
      "metadata": {
        "id": "FwoPAVamNPBM"
      },
      "source": [
        "def differnceXandY(ant1,ant2):\n",
        "  diff_X= ant1.x-ant2.x\n",
        "  diff_Y= ant1.y-ant2.y\n",
        "  return diff_X,diff_Y"
      ],
      "execution_count": 11,
      "outputs": []
    },
    {
      "cell_type": "code",
      "metadata": {
        "id": "8uAbylNf0gBR",
        "colab": {
          "base_uri": "https://localhost:8080/"
        },
        "outputId": "5879a6b4-5e36-4461-cafa-ca8521faeaa3"
      },
      "source": [
        "def RewardCalc(antennas_object,ANTENNA_N,typeOfAntenna=\"omnidirectionnel\",TypeOfReward=\"AverageSNR\"):\n",
        "  mini_distance_X= 1\n",
        "  mini_distance_Y= 1   \n",
        "  antennas_meanSNR={} # antenna and their mean values\n",
        "  #antennas_object={} # antenna and their classes\n",
        "  reward=0\n",
        "  for i in range(ANTENNA_N):\n",
        "    #antennas_object[i]=antenna()\n",
        "    antennas_meanSNR[i]=calSNRlow(measureSNR(antennas_object[i],SIZE_H,SIZE_W,typeOfAntenna=typeOfAntenna),TypeOfReward=TypeOfReward)\n",
        "  #print(antennas_object)\n",
        "  #print(antennas)\n",
        "    reward+=antennas_meanSNR[i]\n",
        "  reward/=ANTENNA_N\n",
        "  #calculate the difference between each 2 antennas  \n",
        "  for i in range(ANTENNA_N):\n",
        "    for j in range(i):\n",
        "      if i==j:\n",
        "        continue\n",
        "      else:\n",
        "        #print(i,j)\n",
        "        x,y=differnceXandY(antennas_object[i],antennas_object[j]) \n",
        "        if (x <= mini_distance_X) & (y <= mini_distance_Y):\n",
        "          reward*=0 \n",
        "        if reward==0:\n",
        "          break\n",
        "#convert from db into magnitude \n",
        "    mag=pow(10,(reward/10))\n",
        "  return mag  \n",
        "antennas_object={}\n",
        "for i in range(ANTENNA_N):\n",
        "  antennas_object[i]=antenna(2+i,3+i)\n",
        "  #print( antennas_object[i].x, antennas_object[i].y)\n",
        "\n",
        "RewardCalc(antennas_object,ANTENNA_N)"
      ],
      "execution_count": 12,
      "outputs": [
        {
          "output_type": "execute_result",
          "data": {
            "text/plain": [
              "1.0"
            ]
          },
          "metadata": {
            "tags": []
          },
          "execution_count": 12
        }
      ]
    },
    {
      "cell_type": "code",
      "metadata": {
        "id": "l2qcdm6uLIBt"
      },
      "source": [
        "def TrainingAgent(HM_EPISODES=HM_EPISODES,EPS_DECAY=EPS_DECAY,LEARNING_RATE=LEARNING_RATE,DISCOUNT=DISCOUNT,epsilon=epsilon,\n",
        "                  ANTENNA_N=ANTENNA_N,SIZE_H=SIZE_H,SIZE_W=SIZE_W,typeOfAntenna=\"omnidirectionnel\",TypeOfReward=\"AverageSNR\"):\n",
        "## actions\n",
        "  actions={}\n",
        "## antennas object\n",
        "  antennas_object={} # antenna and their classes\n",
        "##\n",
        "  episode_rewards = []\n",
        "  reward=0\n",
        "  for episode in range(HM_EPISODES):\n",
        "      x_=np.random.randint(0, SIZE_H)\n",
        "      y_=np.random.randint(0, SIZE_W)\n",
        "      for i in range(ANTENNA_N):\n",
        "        antennas_object[i]=antenna(x_,y_)\n",
        "      if episode % SHOW_EVERY == 0:\n",
        "          print(f\"on #{episode}\")\n",
        "       # print(f\"{SHOW_EVERY} ep mean: {np.mean(episode_rewards[-SHOW_EVERY:])}\")\n",
        "          show = True\n",
        "      else:\n",
        "          show = False\n",
        "\n",
        "      episode_reward = 0\n",
        "      for i in range(200):\n",
        "        if np.random.random() > epsilon:\n",
        "          for i in range(ANTENNA_N):\n",
        "            actions[i] = np.argmax(q_table[i][antennas_object[i].x][antennas_object[i].y]) # antenna 1\n",
        "        else:\n",
        "          for i in range(ANTENNA_N):\n",
        "            actions[i] = np.random.randint(0, 4) #low is inclusive high is exclusive\n",
        "            #print(action)\n",
        "        # Take the action!\n",
        "        for i in range(ANTENNA_N):\n",
        "          antennas_object[i].action(actions[i]) #move the  antenna\n",
        "        ###\n",
        "        #calculate the SNR\n",
        "        reward=RewardCalc(antennas_object,ANTENNA_N,typeOfAntenna=typeOfAntenna,TypeOfReward=TypeOfReward)\n",
        "          ###\n",
        "        #current_q = q_table[state][action]\n",
        "        #antena 1\n",
        "        for i in range(ANTENNA_N):\n",
        "            newAntennaPos = (ant)\n",
        "            current_q = q_table[i][antennas_object[i].x][antennas_object[i].y][actions[i]] # Current State\n",
        "            max_future_q = np.max(q_table[i][antennas_object[i].x][antennas_object[i].y]) # Max State\n",
        "            new_q = (1 - LEARNING_RATE) * current_q + LEARNING_RATE * (reward + DISCOUNT * max_future_q)\n",
        "            q_table[i][antennas_object[i].x][antennas_object[i].y][actions[i]] = new_q\n",
        "\n",
        "\n",
        "        episode_reward += reward\n",
        "\n",
        "        #print(episode_reward)\n",
        "      episode_rewards.append(episode_reward)\n",
        "      epsilon *= EPS_DECAY \n",
        "  return q_table"
      ],
      "execution_count": 13,
      "outputs": []
    },
    {
      "cell_type": "code",
      "metadata": {
        "colab": {
          "base_uri": "https://localhost:8080/"
        },
        "id": "MlRe2xlS-qq8",
        "outputId": "e4da0a4a-5ed7-4087-e5d6-0bae60ee02b0"
      },
      "source": [
        "q_table=TrainingAgent(HM_EPISODES=HM_EPISODES,EPS_DECAY=EPS_DECAY,LEARNING_RATE=LEARNING_RATE,DISCOUNT=DISCOUNT,epsilon=epsilon,\n",
        "                  ANTENNA_N=ANTENNA_N,SIZE_H=SIZE_H,SIZE_W=SIZE_W,typeOfAntenna=\"omnidirectionnel\",TypeOfReward=\"AverageSNR\")"
      ],
      "execution_count": 14,
      "outputs": [
        {
          "output_type": "stream",
          "text": [
            "on #0\n",
            "on #100\n",
            "on #200\n",
            "on #300\n",
            "on #400\n",
            "on #500\n",
            "on #600\n",
            "on #700\n",
            "on #800\n",
            "on #900\n",
            "on #1000\n",
            "on #1100\n",
            "on #1200\n",
            "on #1300\n",
            "on #1400\n",
            "on #1500\n",
            "on #1600\n",
            "on #1700\n",
            "on #1800\n",
            "on #1900\n",
            "on #2000\n",
            "on #2100\n",
            "on #2200\n",
            "on #2300\n",
            "on #2400\n"
          ],
          "name": "stdout"
        }
      ]
    },
    {
      "cell_type": "code",
      "metadata": {
        "id": "XfPPRs2XWzYj",
        "colab": {
          "base_uri": "https://localhost:8080/",
          "height": 501
        },
        "outputId": "0c122997-7714-4c0a-8a66-35885c432557"
      },
      "source": [
        "xval_={}\n",
        "yval_={}\n",
        "for n in range(ANTENNA_N):\n",
        "  max_value =np.max((q_table[n]))\n",
        "#print(max_value)\n",
        "  for i in range(SIZE_H):\n",
        "    for j in range(SIZE_W):\n",
        "      for k in range(4):\n",
        "        if max_value == (q_table[n][i][j][k]):\n",
        "          xval_[n]=[i]\n",
        "          yval_[n]=[j]\n",
        "        else :\n",
        "          continue\n",
        "#outputOfTraining(q_table)\n",
        "figure(figsize=(8, 6), dpi=80) # increase figure size \n",
        "for n in range(ANTENNA_N):\n",
        "  plt.scatter(xval_[n], yval_[n], color= \"blue\", linewidths =2 ,marker =\"s\")\n",
        "plt.xlim(0, SIZE_H-1)\n",
        "plt.ylim(0, SIZE_W-1)\n",
        "plt.show()\n",
        "antennas_object_toplot_heat={}\n",
        "for n in range(ANTENNA_N):\n",
        "  print(xval_[n],yval_[n])\n",
        "  antennas_object_toplot_heat[n]=[xval_[n][0],yval_[n][0]]\n",
        "print(antennas_object_toplot_heat)\n"
      ],
      "execution_count": 15,
      "outputs": [
        {
          "output_type": "display_data",
          "data": {
            "image/png": "[encoded data removed]",
            "text/plain": [
              "<Figure size 640x480 with 1 Axes>"
            ]
          },
          "metadata": {
            "tags": [],
            "needs_background": "light"
          }
        },
        {
          "output_type": "stream",
          "text": [
            "[19] [17]\n",
            "[18] [19]\n",
            "[0] [1]\n",
            "[5] [0]\n",
            "{0: [19, 17], 1: [18, 19], 2: [0, 1], 3: [5, 0]}\n"
          ],
          "name": "stdout"
        }
      ]
    },
    {
      "cell_type": "markdown",
      "metadata": {
        "id": "oGLYrjQQWrLP"
      },
      "source": [
        "Average SNR must be constant "
      ]
    },
    {
      "cell_type": "markdown",
      "metadata": {
        "id": "xp3xUZCTFz_K"
      },
      "source": [
        "assume that power adds up (SNR) -> reward \n",
        "qtable -> add the positions of new antenna and actions \n",
        "3 antennas optimization all area \n"
      ]
    },
    {
      "cell_type": "code",
      "metadata": {
        "id": "ioNcIRd6AB4R",
        "colab": {
          "base_uri": "https://localhost:8080/"
        },
        "outputId": "88240d3d-929a-4a79-e231-fedc625a52bf"
      },
      "source": [
        "antennas_object_heatmap={} #dict for antennas and their position \n",
        "SumOfSNR=np.zeros((1,SIZE_H*SIZE_W))\n",
        "position=[]\n",
        "for n in range(ANTENNA_N):\n",
        "  x=antennas_object_toplot_heat[n][0]\n",
        "  y=antennas_object_toplot_heat[n][1]\n",
        "  antennas_object_heatmap[n]=antenna(x,y)\n",
        "  #1d coordinate \n",
        "  position.append((SIZE_H*x)+ y)\n",
        "  ArrayOfSNR=measureSNR(antennas_object_heatmap[n],SIZE_H,SIZE_W,typeOfAntenna=\"omnidirectionnel\")\n",
        "  ArrayOfSNR=np.insert(ArrayOfSNR,position[n],0)\n",
        "  SumOfSNR=np.add(SumOfSNR,ArrayOfSNR)\n",
        "for i in range(len(SumOfSNR)):\n",
        "  SumOfSNR[i]/=ANTENNA_N #average \n",
        "print(len(SumOfSNR[0])) "
      ],
      "execution_count": 16,
      "outputs": [
        {
          "output_type": "stream",
          "text": [
            "400\n"
          ],
          "name": "stdout"
        }
      ]
    },
    {
      "cell_type": "code",
      "metadata": {
        "id": "0mCBD5MYKkX4",
        "colab": {
          "base_uri": "https://localhost:8080/"
        },
        "outputId": "ccb26d26-7849-4ad0-e987-95940dbfc32c"
      },
      "source": [
        "import pandas as pd\n",
        "import seaborn as sns\n",
        "# sns.set()\n",
        "snr_db=SumOfSNR\n",
        "#for SNR in (SumOfSNR):\n",
        "#  out_=10*np.log10(SNR)\n",
        "#  snr_db.append(out_)\n",
        "#print(snr_db)\n",
        "# Build data\n",
        "max_value_snr=np.max(snr_db)\n",
        "min_value_snr=np.min(snr_db)\n",
        "print(max_value_snr)\n",
        "print(min_value_snr)"
      ],
      "execution_count": 17,
      "outputs": [
        {
          "output_type": "stream",
          "text": [
            "-77.13319054549669\n",
            "-120.10430884005633\n"
          ],
          "name": "stdout"
        }
      ]
    },
    {
      "cell_type": "code",
      "metadata": {
        "id": "QaMhqo8CKr0-",
        "colab": {
          "base_uri": "https://localhost:8080/",
          "height": 328
        },
        "outputId": "b85214a9-e73d-4b89-e6b0-0e7a7498ff0e"
      },
      "source": [
        "## 1D heatmap\n",
        "plt.figure()\n",
        "plt.suptitle(\"Seaborn heatmap example to display 1d percentage values\", color='m')\n",
        "sns.set(font_scale=0.8)\n",
        "\n",
        "print(len(snr_db))\n",
        "snr_db=np.reshape(snr_db,((SIZE_H*SIZE_W),1)) ## size_w*size_h -1\n",
        "ax = sns.heatmap(snr_db, vmin=min_value_snr, vmax=max_value_snr)\n",
        "ax.set(xlabel='x label', ylabel='y label')\n",
        "\n",
        "plt.show()"
      ],
      "execution_count": 18,
      "outputs": [
        {
          "output_type": "stream",
          "text": [
            "1\n"
          ],
          "name": "stdout"
        },
        {
          "output_type": "display_data",
          "data": {
            "image/png": "[encoded data removed]",
            "text/plain": [
              "<Figure size 432x288 with 2 Axes>"
            ]
          },
          "metadata": {
            "tags": [],
            "needs_background": "light"
          }
        }
      ]
    },
    {
      "cell_type": "code",
      "metadata": {
        "id": "jsnvcs-QY5Qn",
        "colab": {
          "base_uri": "https://localhost:8080/"
        },
        "outputId": "6aa7b73c-ad93-4d88-c482-bdfd98ce0741"
      },
      "source": [
        "#create 2D heatmap\n",
        "rows=[]\n",
        "#print(type(snr_db[0]))\n",
        "# insert a value\n",
        "#convert 2d array \n",
        "snr_db=np.reshape(snr_db,(SIZE_H,SIZE_W))\n",
        "#print(snr_db)\n",
        "for n in range(ANTENNA_N):\n",
        "  x=antennas_object_toplot_heat[n][0]\n",
        "  y=antennas_object_toplot_heat[n][1]\n",
        "  snr_db[x][y]=0\n",
        "#print(snr_db)\n",
        "rows=snr_db\n",
        "print(rows) \n"
      ],
      "execution_count": 19,
      "outputs": [
        {
          "output_type": "stream",
          "text": [
            "[[-118.14218975    0.         -116.74350747 -116.0295735  -115.32283478\n",
            "  -114.63096865 -113.96894716 -113.363392   -112.8559615  -112.50036152\n",
            "  -112.34642229 -112.41505725 -112.68509577 -113.10644688 -113.62514962\n",
            "  -114.19932641 -114.8022241  -115.41889182 -116.04188795 -116.66799022]\n",
            " [-120.10430884 -116.57717422 -115.79641224 -115.00941887 -114.21558747\n",
            "  -113.4173501  -112.62500607 -111.865431   -111.19438429 -110.70315081\n",
            "  -110.49418959 -110.61553396 -111.01882176 -111.60123696 -112.27110451\n",
            "  -112.97227645 -113.67756744 -114.37655385 -115.06697286 -115.74996923]\n",
            " [-119.53816796 -115.69831136 -114.85562259 -113.99654376 -113.11394613\n",
            "  -112.20046397 -111.25315801 -110.285704   -109.35655409 -108.61410326\n",
            "  -108.29214679 -108.52449727 -109.17697395 -110.01533599 -110.89062924\n",
            "  -111.74376406 -112.56046523 -113.34328802 -114.09962058 -114.83716172]\n",
            " [-119.01483003 -114.83015651 -113.93089005 -113.00707411 -112.04374294\n",
            "  -111.01973724 -109.90819133 -108.68312647 -107.35294072 -106.09087441\n",
            "  -105.47378575 -105.99963334 -107.17013563 -108.40794198 -109.53905019\n",
            "  -110.55405638 -111.47786416 -112.33649343 -113.15082803 -113.93639421]\n",
            " [-118.54237635 -113.9762577  -113.02980291 -112.05606443 -111.03314947\n",
            "  -109.92617535 -108.68026725 -107.20659216 -105.35886727 -102.98211716\n",
            "  -101.18994819 -102.88953371 -105.1736041  -106.92812334 -108.30708155\n",
            "  -109.45520858 -110.45947395 -111.37308298 -112.23005991 -113.05275622]\n",
            " [   0.         -113.66262005 -112.7434189  -111.81980143 -110.87421763\n",
            "  -109.87784704 -108.78625427 -107.52889424 -105.98066044 -103.87047264\n",
            "  -100.34605026 -100.31084849 -103.76604098 -105.81013941 -107.29631124\n",
            "  -108.49494292 -109.5287274  -110.46444722 -111.34233854 -112.18783869]\n",
            " [-117.77350608 -112.30157804 -111.29831556 -110.29184853 -109.25808848\n",
            "  -108.15668005 -106.92572832 -105.46965139 -103.63691519 -101.26927228\n",
            "   -99.47898241 -101.17349054 -103.44704981 -105.18805207 -106.55350231\n",
            "  -107.69141909 -108.69200784 -109.61131979 -110.4855192  -111.33814858]\n",
            " [-117.48261329 -111.45795081 -110.4431226  -109.4561824  -108.47695142\n",
            "  -107.47142082 -106.39674382 -105.21219934 -103.9152454  -102.67268352\n",
            "  -102.05901825 -102.57313068 -103.72013059 -104.92783662 -106.0285856\n",
            "  -107.01987832 -107.93343273 -108.80128573 -109.64885376 -110.49416801]\n",
            " [-117.25362185 -110.57918365 -109.55740933 -108.61040166 -107.72053821\n",
            "  -106.85519882 -105.98183971 -105.08885946 -104.21753277 -103.50719194\n",
            "  -103.18914367 -103.39959624 -104.01031101 -104.79555152 -105.61662025\n",
            "  -106.42560417 -107.21934006 -108.01028024 -108.8133051  -109.64021503]\n",
            " [-117.08387671 -109.62648137 -108.59299471 -107.70473357 -106.93950816\n",
            "  -106.25021389 -105.59474706 -104.96070958 -104.38084525 -103.93652283\n",
            "  -103.72933742 -103.81252075 -104.14715358 -104.64303452 -105.22347207\n",
            "  -105.84874834 -106.5082596  -107.20659216 -107.95297076 -108.75477813]\n",
            " [-116.96986267 -108.54176986 -107.47561371 -106.67146043 -106.08365245\n",
            "  -105.61662025 -105.19395339 -104.78733734 -104.41364736 -104.12012803\n",
            "  -103.96034472 -103.96494737 -104.12670042 -104.41297462 -104.79039789\n",
            "  -105.24005989 -105.75901515 -106.3544653  -107.03628047 -107.81063111]\n",
            " [-116.90798239 -107.23406419 -106.07708645 -105.41299248 -105.11187318\n",
            "  -104.94752287 -104.78484416 -104.58636716 -104.36760339 -104.16576182\n",
            "  -104.01966971 -103.95563206 -103.98199605 -104.09460516 -104.28793352\n",
            "  -104.56379906 -104.93368403 -105.41528651 -106.0256938  -106.77390665]\n",
            " [-116.89509552 -105.55588851 -104.12400676 -103.7784616  -104.02518876\n",
            "  -104.29352311 -104.41973799 -104.40902308 -104.30479714 -104.15331214\n",
            "  -103.99359163 -103.85365735 -103.75091599 -103.69694343 -103.70470913\n",
            "  -103.79464889 -103.99655338 -104.34589117 -104.87494401 -105.60121286]\n",
            " [-116.92877456 -103.3516847  -100.76227723 -101.61148569 -102.99511557\n",
            "  -103.80327062 -104.19577794 -104.32519204 -104.28793352 -104.14715358\n",
            "  -103.94581985 -103.7134406  -103.47133603 -103.23891326 -103.04103277\n",
            "  -102.91463391 -102.91154897 -103.09426205 -103.52272008 -104.23334295]\n",
            " [-117.00731905 -101.73465964 -100.89368418 -103.49190203 -104.6275521\n",
            "  -105.1537001  -105.34129121 -105.31445849 -105.14214702 -104.86699031\n",
            "  -104.51660404 -104.10939292 -103.65954828 -103.18351497 -102.7087738\n",
            "  -102.2838818  -101.98553484 -101.91571807 -102.18359387 -102.86797909]\n",
            " [-104.41061641 -101.87852206 -102.78467816 -104.22166888 -105.07471038\n",
            "  -105.49669528 -105.6310461  -105.56315285 -105.34406642 -105.00462385\n",
            "  -104.56263402 -104.02727857 -103.40348564 -102.69861813 -101.93398053\n",
            "  -101.162732   -100.48935555 -100.07381926 -100.11128256 -100.78561575]\n",
            " [-106.85889672 -105.51568182 -105.26063674 -105.59474706 -105.93916988\n",
            "  -106.11765354 -106.11767509 -105.95985324 -105.66424073 -105.24336581\n",
            "  -104.70125826 -104.03387343 -103.23061787 -102.27867309 -101.17476836\n",
            "   -99.95393213  -98.74117373  -97.78028355  -97.37879669  -97.97873065]\n",
            " [-108.77634343 -107.74199757 -107.20673333 -107.03500058 -106.99030609\n",
            "  -106.92039444 -106.76153437 -106.49298072 -106.10823705 -105.6019716\n",
            "  -104.96400341 -104.17578896 -103.20758199 -102.01623316 -100.54742624\n",
            "   -98.76132704  -96.74817052  -94.94279881  -93.69045973  -93.60662917]\n",
            " [-110.3141271  -109.40709119 -108.7754518  -108.36893936 -108.08187969\n",
            "  -107.81852425 -107.51703721 -107.1423208  -106.67288973 -106.09087441\n",
            "  -105.37512272 -104.49539215 -103.40539148 -102.03164221 -100.25284951\n",
            "   -97.86359576  -94.59286476  -91.28889681  -90.00866161    0.        ]\n",
            " [-111.61373532 -110.77715798 -110.10931682 -109.58678005 -109.15624711\n",
            "  -108.75929758 -108.34791374 -107.88688752 -107.34954973 -106.71202733\n",
            "  -105.94765133 -105.02097727 -103.87947513 -102.43845641 -100.54683196\n",
            "   -97.88700086  -93.52437654    0.          -90.35547258  -92.51087756]]\n"
          ],
          "name": "stdout"
        }
      ]
    },
    {
      "cell_type": "code",
      "metadata": {
        "id": "N_eVcnjZb9-G",
        "colab": {
          "base_uri": "https://localhost:8080/",
          "height": 846
        },
        "outputId": "f1c86203-9f9f-4993-b0a2-080ee9b438ac"
      },
      "source": [
        "#2D heatmap\n",
        "plt.figure()\n",
        "plt.suptitle(\"Seaborn heatmap example to display 2d percentage values\", color='m')\n",
        "sns.set(font_scale=0.8)\n",
        "\n",
        "#print(type(rows))\n",
        "figure(figsize=(8, 6), dpi=80) # increase figure size \n",
        "rows_db=np.reshape(rows,(SIZE_H,SIZE_W))\n",
        "ax = sns.heatmap(rows_db, vmin=min_value_snr, vmax=max_value_snr)\n",
        "ax.set(xlabel='y label', ylabel='x label')\n",
        "\n",
        "\n",
        "plt.show()\n",
        "figure(figsize=(8, 6), dpi=80) # increase figure size \n",
        "for n in range(ANTENNA_N):\n",
        "  plt.scatter(xval_[n], yval_[n], color= \"green\", linewidths =10 ,marker =\"s\")\n",
        "plt.xlim(0, SIZE_H-1)\n",
        "plt.ylim(0, SIZE_W-1)\n",
        "plt.show()"
      ],
      "execution_count": 20,
      "outputs": [
        {
          "output_type": "display_data",
          "data": {
            "text/plain": [
              "<Figure size 432x288 with 0 Axes>"
            ]
          },
          "metadata": {
            "tags": []
          }
        },
        {
          "output_type": "display_data",
          "data": {
            "image/png": "[encoded data removed]",
            "text/plain": [
              "<Figure size 640x480 with 2 Axes>"
            ]
          },
          "metadata": {
            "tags": []
          }
        },
        {
          "output_type": "display_data",
          "data": {
            "image/png": "[encoded data removed]",
            "text/plain": [
              "<Figure size 640x480 with 1 Axes>"
            ]
          },
          "metadata": {
            "tags": []
          }
        }
      ]
    }
  ]
}